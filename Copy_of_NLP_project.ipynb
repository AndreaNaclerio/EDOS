{
  "cells": [
    {
      "cell_type": "markdown",
      "metadata": {
        "id": "view-in-github",
        "colab_type": "text"
      },
      "source": [
        "<a href=\"https://colab.research.google.com/github/NacliNaclo/EDOS/blob/main/Copy_of_NLP_project.ipynb\" target=\"_parent\"><img src=\"https://colab.research.google.com/assets/colab-badge.svg\" alt=\"Open In Colab\"/></a>"
      ]
    },
    {
      "cell_type": "markdown",
      "metadata": {
        "id": "e5cfb8e5"
      },
      "source": [
        "# NATURAL LANGUAGE PROSESSING PROJECT - 2022/2023\n",
        "\n",
        "## PROJECT TITLE: EDOS(Emotional Dialogues in Open Subtitles)\n",
        "\n",
        "### Ranna Yeerken -  \n",
        "### Xiaohao Zhang -  \n",
        "### Andrea Naclerio - 10938883\n",
        "\n",
        "\n",
        "\n",
        "\n",
        "\n"
      ],
      "id": "e5cfb8e5"
    },
    {
      "cell_type": "markdown",
      "source": [
        "# INDEX AND FINAL AIM\n",
        "This notebook shows a brief descritpion of several feature about the datset we will use. Morover it has been analysed several methods to implement a semntimential analysis of sentecens.\n",
        "More in detail:\n",
        "\n",
        "1.   Dataset description\n",
        "2.   Senteces indexing \n",
        "3.   Train2Vect Embedding\n",
        "4.   Logistic regression\n",
        "5.   Neural Network \n",
        "6.   BERT model\n",
        "7.   Advance BERT training\n",
        "\n",
        "\n",
        "\n"
      ],
      "metadata": {
        "id": "v9vEtj8-IKH8"
      },
      "id": "v9vEtj8-IKH8"
    },
    {
      "cell_type": "markdown",
      "source": [
        "# 1.DATASET DESCRIPTION\n",
        "Before starting to work, the first step is to take a look to the dataset and understadn what's its content. "
      ],
      "metadata": {
        "id": "zVoKJRnwHdw0"
      },
      "id": "zVoKJRnwHdw0"
    },
    {
      "cell_type": "markdown",
      "source": [
        "As first, we need to connect the Google Drive storage to our notebook"
      ],
      "metadata": {
        "id": "2YTbqwqMNjr8"
      },
      "id": "2YTbqwqMNjr8"
    },
    {
      "cell_type": "code",
      "execution_count": 2,
      "metadata": {
        "colab": {
          "base_uri": "https://localhost:8080/"
        },
        "id": "OPXoViZsJ6Be",
        "outputId": "c26d75f2-e360-41e7-95bb-79e94a9e966c"
      },
      "outputs": [
        {
          "output_type": "stream",
          "name": "stdout",
          "text": [
            "Mounted at /content/drive\n"
          ]
        }
      ],
      "source": [
        "from google.colab import drive\n",
        "drive.mount('/content/drive')\n"
      ],
      "id": "OPXoViZsJ6Be"
    },
    {
      "cell_type": "markdown",
      "metadata": {
        "id": "4c20111a"
      },
      "source": [
        "# 1.1 DATA LOADING\n",
        "The dataset is a csv file. The pandas library is imported in order to upload the dataset from a csv file.\n",
        "\n",
        "As we can see, the dataset contains conversations made up from 2 to 5 sentences, each labeled with a emotion (that is out target variable). \n",
        "In particular, there are 5 features:\n",
        "1.  **dialague_id**: it represents the dialague from which each sentece belongs. \n",
        "Sentences belonging from the same dialague have a equal dialague id.\n",
        "\n",
        "2. **turn** : it represent the apperance order of the difference sentences that belong to the same dialague\n",
        "3.  **uttr**: it represents each single sentence\n",
        "4. **eb+_emot** : it is the emotion related to the senteces\n",
        "5.  **label_confidence** : it represent the 'accuracy' of the emotions associated to each sentence\n"
      ],
      "id": "4c20111a"
    },
    {
      "cell_type": "code",
      "execution_count": 3,
      "metadata": {
        "colab": {
          "base_uri": "https://localhost:8080/",
          "height": 424
        },
        "id": "e5e5cebf",
        "outputId": "c699e8ef-d334-4d14-d8f8-2ebdc8e9a1a7",
        "scrolled": true
      },
      "outputs": [
        {
          "output_type": "execute_result",
          "data": {
            "text/plain": [
              "         dialogue_id  turn                                               uttr  \\\n",
              "0                 97     1  You moron ! What fool washes diapers by the we...   \n",
              "1                 97     2                                 You useless fool !   \n",
              "2                 99     1                               How dare you sleep !   \n",
              "3                 99     2                      Up ! Go and clean the house .   \n",
              "4                100     1                                Clean the kitchen .   \n",
              "...              ...   ...                                                ...   \n",
              "2829421      8820621     3  This is so stupid . How can I be upset over so...   \n",
              "2829422      8820621     4                                   It 's negative ?   \n",
              "2829423      8820621     5                              No , it 's positive .   \n",
              "2829424      8820637     1                                        Thank God !   \n",
              "2829425      8820637     2                     So tell me one of your moves .   \n",
              "\n",
              "              eb+_emot  label_confidence  \n",
              "0                angry          0.437522  \n",
              "1              furious          0.731564  \n",
              "2              furious          0.605636  \n",
              "3             prepared          0.650449  \n",
              "4             prepared          0.742187  \n",
              "...                ...               ...  \n",
              "2829421        furious          0.455627  \n",
              "2829422  acknowledging          0.440911  \n",
              "2829423       agreeing          0.428994  \n",
              "2829424       grateful          0.987517  \n",
              "2829425     suggesting          0.794787  \n",
              "\n",
              "[2829426 rows x 5 columns]"
            ],
            "text/html": [
              "\n",
              "  <div id=\"df-a0e6cfa0-e738-46c2-ab51-c754a02dc30e\">\n",
              "    <div class=\"colab-df-container\">\n",
              "      <div>\n",
              "<style scoped>\n",
              "    .dataframe tbody tr th:only-of-type {\n",
              "        vertical-align: middle;\n",
              "    }\n",
              "\n",
              "    .dataframe tbody tr th {\n",
              "        vertical-align: top;\n",
              "    }\n",
              "\n",
              "    .dataframe thead th {\n",
              "        text-align: right;\n",
              "    }\n",
              "</style>\n",
              "<table border=\"1\" class=\"dataframe\">\n",
              "  <thead>\n",
              "    <tr style=\"text-align: right;\">\n",
              "      <th></th>\n",
              "      <th>dialogue_id</th>\n",
              "      <th>turn</th>\n",
              "      <th>uttr</th>\n",
              "      <th>eb+_emot</th>\n",
              "      <th>label_confidence</th>\n",
              "    </tr>\n",
              "  </thead>\n",
              "  <tbody>\n",
              "    <tr>\n",
              "      <th>0</th>\n",
              "      <td>97</td>\n",
              "      <td>1</td>\n",
              "      <td>You moron ! What fool washes diapers by the we...</td>\n",
              "      <td>angry</td>\n",
              "      <td>0.437522</td>\n",
              "    </tr>\n",
              "    <tr>\n",
              "      <th>1</th>\n",
              "      <td>97</td>\n",
              "      <td>2</td>\n",
              "      <td>You useless fool !</td>\n",
              "      <td>furious</td>\n",
              "      <td>0.731564</td>\n",
              "    </tr>\n",
              "    <tr>\n",
              "      <th>2</th>\n",
              "      <td>99</td>\n",
              "      <td>1</td>\n",
              "      <td>How dare you sleep !</td>\n",
              "      <td>furious</td>\n",
              "      <td>0.605636</td>\n",
              "    </tr>\n",
              "    <tr>\n",
              "      <th>3</th>\n",
              "      <td>99</td>\n",
              "      <td>2</td>\n",
              "      <td>Up ! Go and clean the house .</td>\n",
              "      <td>prepared</td>\n",
              "      <td>0.650449</td>\n",
              "    </tr>\n",
              "    <tr>\n",
              "      <th>4</th>\n",
              "      <td>100</td>\n",
              "      <td>1</td>\n",
              "      <td>Clean the kitchen .</td>\n",
              "      <td>prepared</td>\n",
              "      <td>0.742187</td>\n",
              "    </tr>\n",
              "    <tr>\n",
              "      <th>...</th>\n",
              "      <td>...</td>\n",
              "      <td>...</td>\n",
              "      <td>...</td>\n",
              "      <td>...</td>\n",
              "      <td>...</td>\n",
              "    </tr>\n",
              "    <tr>\n",
              "      <th>2829421</th>\n",
              "      <td>8820621</td>\n",
              "      <td>3</td>\n",
              "      <td>This is so stupid . How can I be upset over so...</td>\n",
              "      <td>furious</td>\n",
              "      <td>0.455627</td>\n",
              "    </tr>\n",
              "    <tr>\n",
              "      <th>2829422</th>\n",
              "      <td>8820621</td>\n",
              "      <td>4</td>\n",
              "      <td>It 's negative ?</td>\n",
              "      <td>acknowledging</td>\n",
              "      <td>0.440911</td>\n",
              "    </tr>\n",
              "    <tr>\n",
              "      <th>2829423</th>\n",
              "      <td>8820621</td>\n",
              "      <td>5</td>\n",
              "      <td>No , it 's positive .</td>\n",
              "      <td>agreeing</td>\n",
              "      <td>0.428994</td>\n",
              "    </tr>\n",
              "    <tr>\n",
              "      <th>2829424</th>\n",
              "      <td>8820637</td>\n",
              "      <td>1</td>\n",
              "      <td>Thank God !</td>\n",
              "      <td>grateful</td>\n",
              "      <td>0.987517</td>\n",
              "    </tr>\n",
              "    <tr>\n",
              "      <th>2829425</th>\n",
              "      <td>8820637</td>\n",
              "      <td>2</td>\n",
              "      <td>So tell me one of your moves .</td>\n",
              "      <td>suggesting</td>\n",
              "      <td>0.794787</td>\n",
              "    </tr>\n",
              "  </tbody>\n",
              "</table>\n",
              "<p>2829426 rows × 5 columns</p>\n",
              "</div>\n",
              "      <button class=\"colab-df-convert\" onclick=\"convertToInteractive('df-a0e6cfa0-e738-46c2-ab51-c754a02dc30e')\"\n",
              "              title=\"Convert this dataframe to an interactive table.\"\n",
              "              style=\"display:none;\">\n",
              "        \n",
              "  <svg xmlns=\"http://www.w3.org/2000/svg\" height=\"24px\"viewBox=\"0 0 24 24\"\n",
              "       width=\"24px\">\n",
              "    <path d=\"M0 0h24v24H0V0z\" fill=\"none\"/>\n",
              "    <path d=\"M18.56 5.44l.94 2.06.94-2.06 2.06-.94-2.06-.94-.94-2.06-.94 2.06-2.06.94zm-11 1L8.5 8.5l.94-2.06 2.06-.94-2.06-.94L8.5 2.5l-.94 2.06-2.06.94zm10 10l.94 2.06.94-2.06 2.06-.94-2.06-.94-.94-2.06-.94 2.06-2.06.94z\"/><path d=\"M17.41 7.96l-1.37-1.37c-.4-.4-.92-.59-1.43-.59-.52 0-1.04.2-1.43.59L10.3 9.45l-7.72 7.72c-.78.78-.78 2.05 0 2.83L4 21.41c.39.39.9.59 1.41.59.51 0 1.02-.2 1.41-.59l7.78-7.78 2.81-2.81c.8-.78.8-2.07 0-2.86zM5.41 20L4 18.59l7.72-7.72 1.47 1.35L5.41 20z\"/>\n",
              "  </svg>\n",
              "      </button>\n",
              "      \n",
              "  <style>\n",
              "    .colab-df-container {\n",
              "      display:flex;\n",
              "      flex-wrap:wrap;\n",
              "      gap: 12px;\n",
              "    }\n",
              "\n",
              "    .colab-df-convert {\n",
              "      background-color: #E8F0FE;\n",
              "      border: none;\n",
              "      border-radius: 50%;\n",
              "      cursor: pointer;\n",
              "      display: none;\n",
              "      fill: #1967D2;\n",
              "      height: 32px;\n",
              "      padding: 0 0 0 0;\n",
              "      width: 32px;\n",
              "    }\n",
              "\n",
              "    .colab-df-convert:hover {\n",
              "      background-color: #E2EBFA;\n",
              "      box-shadow: 0px 1px 2px rgba(60, 64, 67, 0.3), 0px 1px 3px 1px rgba(60, 64, 67, 0.15);\n",
              "      fill: #174EA6;\n",
              "    }\n",
              "\n",
              "    [theme=dark] .colab-df-convert {\n",
              "      background-color: #3B4455;\n",
              "      fill: #D2E3FC;\n",
              "    }\n",
              "\n",
              "    [theme=dark] .colab-df-convert:hover {\n",
              "      background-color: #434B5C;\n",
              "      box-shadow: 0px 1px 3px 1px rgba(0, 0, 0, 0.15);\n",
              "      filter: drop-shadow(0px 1px 2px rgba(0, 0, 0, 0.3));\n",
              "      fill: #FFFFFF;\n",
              "    }\n",
              "  </style>\n",
              "\n",
              "      <script>\n",
              "        const buttonEl =\n",
              "          document.querySelector('#df-a0e6cfa0-e738-46c2-ab51-c754a02dc30e button.colab-df-convert');\n",
              "        buttonEl.style.display =\n",
              "          google.colab.kernel.accessAllowed ? 'block' : 'none';\n",
              "\n",
              "        async function convertToInteractive(key) {\n",
              "          const element = document.querySelector('#df-a0e6cfa0-e738-46c2-ab51-c754a02dc30e');\n",
              "          const dataTable =\n",
              "            await google.colab.kernel.invokeFunction('convertToInteractive',\n",
              "                                                     [key], {});\n",
              "          if (!dataTable) return;\n",
              "\n",
              "          const docLinkHtml = 'Like what you see? Visit the ' +\n",
              "            '<a target=\"_blank\" href=https://colab.research.google.com/notebooks/data_table.ipynb>data table notebook</a>'\n",
              "            + ' to learn more about interactive tables.';\n",
              "          element.innerHTML = '';\n",
              "          dataTable['output_type'] = 'display_data';\n",
              "          await google.colab.output.renderOutput(dataTable, element);\n",
              "          const docLink = document.createElement('div');\n",
              "          docLink.innerHTML = docLinkHtml;\n",
              "          element.appendChild(docLink);\n",
              "        }\n",
              "      </script>\n",
              "    </div>\n",
              "  </div>\n",
              "  "
            ]
          },
          "metadata": {},
          "execution_count": 3
        }
      ],
      "source": [
        "# import Pandas library\n",
        "import pandas as pd \n",
        "\n",
        "#import the data from the EDOS.cv file in a dataframe df using the function read from the Pandas library\n",
        "df = pd.read_csv('/content/drive/MyDrive/NPL/EDOS.csv') \n",
        "df"
      ],
      "id": "e5e5cebf"
    },
    {
      "cell_type": "markdown",
      "source": [
        "# 1.1 DATASET STATISTICS"
      ],
      "metadata": {
        "id": "H0WBs_dcRcbK"
      },
      "id": "H0WBs_dcRcbK"
    },
    {
      "cell_type": "markdown",
      "source": [
        "As first, let's check the size of the data set. \n",
        "\n",
        "The dataset contains more than 2 milions of senteces grouped in 1 milion dialagues. It's a massive dataset 🤯\n",
        "\n"
      ],
      "metadata": {
        "id": "oEGC_5IgRxUL"
      },
      "id": "oEGC_5IgRxUL"
    },
    {
      "cell_type": "code",
      "execution_count": 4,
      "metadata": {
        "colab": {
          "base_uri": "https://localhost:8080/"
        },
        "id": "f9cf3eca",
        "outputId": "2de40e7e-673d-4c2d-b6d9-3148ba129eca"
      },
      "outputs": [
        {
          "output_type": "execute_result",
          "data": {
            "text/plain": [
              "2829426"
            ]
          },
          "metadata": {},
          "execution_count": 4
        }
      ],
      "source": [
        "# computing the lenght of the dataset to see the number of sentences\n",
        "len(df) "
      ],
      "id": "f9cf3eca"
    },
    {
      "cell_type": "code",
      "source": [
        "# taking only the dialague_id feature and create a set in order to discard the repetions; in this way the number of sentences is computed\n",
        "len(set(df[\"dialogue_id\"]))"
      ],
      "metadata": {
        "colab": {
          "base_uri": "https://localhost:8080/"
        },
        "id": "E9fl6xRnSdvS",
        "outputId": "e0b672ab-a86a-46f7-8058-0ed8576bfa31"
      },
      "id": "E9fl6xRnSdvS",
      "execution_count": 5,
      "outputs": [
        {
          "output_type": "execute_result",
          "data": {
            "text/plain": [
              "1000000"
            ]
          },
          "metadata": {},
          "execution_count": 5
        }
      ]
    },
    {
      "cell_type": "markdown",
      "source": [
        "## 1.1.1 EMOTIONS"
      ],
      "metadata": {
        "id": "0C-Hpl217Dbi"
      },
      "id": "0C-Hpl217Dbi"
    },
    {
      "cell_type": "markdown",
      "source": [
        "After we analyse the dimension of the dataset, it can be interesting looking at the different target variables. \n",
        "\n",
        "Analysing on the eb+_emot feature, 41 different emotions are been found. Myabe In my entire life I don't test all these emotions :)\n",
        "\n",
        "\n",
        "TODO : add comments about the emotions we have inside "
      ],
      "metadata": {
        "id": "TV-7cH_xTeTa"
      },
      "id": "TV-7cH_xTeTa"
    },
    {
      "cell_type": "code",
      "execution_count": 6,
      "metadata": {
        "colab": {
          "base_uri": "https://localhost:8080/"
        },
        "id": "f6f137a1",
        "outputId": "5dbcd14b-08bb-4fbd-b12d-d0714d29da90"
      },
      "outputs": [
        {
          "output_type": "execute_result",
          "data": {
            "text/plain": [
              "['angry',\n",
              " 'furious',\n",
              " 'prepared',\n",
              " 'acknowledging',\n",
              " 'trusting',\n",
              " 'confident',\n",
              " 'hopeful',\n",
              " 'caring',\n",
              " 'sentimental',\n",
              " 'anticipating',\n",
              " 'wishing',\n",
              " 'surprised',\n",
              " 'ashamed',\n",
              " 'questioning',\n",
              " 'sad',\n",
              " 'nostalgic',\n",
              " 'devastated',\n",
              " 'terrified',\n",
              " 'embarrassed',\n",
              " 'lonely',\n",
              " 'encouraging',\n",
              " 'suggesting',\n",
              " 'content',\n",
              " 'afraid',\n",
              " 'impressed',\n",
              " 'agreeing',\n",
              " 'apprehensive',\n",
              " 'proud',\n",
              " 'annoyed',\n",
              " 'anxious',\n",
              " 'grateful',\n",
              " 'excited',\n",
              " 'neutral',\n",
              " 'faithful',\n",
              " 'guilty',\n",
              " 'consoling',\n",
              " 'disgusted',\n",
              " 'disappointed',\n",
              " 'jealous',\n",
              " 'joyful',\n",
              " 'sympathizing']"
            ]
          },
          "metadata": {},
          "execution_count": 6
        }
      ],
      "source": [
        "# in order to retrive only one copy of the different emotion, this time the drop_duplicated function is used\n",
        "emote = df[\"eb+_emot\"].drop_duplicates().tolist() \n",
        "emote"
      ],
      "id": "f6f137a1"
    },
    {
      "cell_type": "code",
      "execution_count": 7,
      "metadata": {
        "colab": {
          "base_uri": "https://localhost:8080/"
        },
        "id": "1d02e704",
        "outputId": "a16d1c01-f1dc-404c-a0b6-c9413e8e9bba"
      },
      "outputs": [
        {
          "output_type": "execute_result",
          "data": {
            "text/plain": [
              "41"
            ]
          },
          "metadata": {},
          "execution_count": 7
        }
      ],
      "source": [
        "# computing the length of the emote list\n",
        "len(emote)"
      ],
      "id": "1d02e704"
    },
    {
      "cell_type": "markdown",
      "source": [
        "Now, more statistics about the emotions are computed. \n",
        "\n"
      ],
      "metadata": {
        "id": "7WSZaU7lVN3w"
      },
      "id": "7WSZaU7lVN3w"
    },
    {
      "cell_type": "markdown",
      "source": [
        "As first can be importat to understannd how the different emotions are distributed inside our dataset.\n",
        "\n",
        "It's better to use a increasing scale to analyse better it. Looking at list, it can be seen that some emotions have an very high occurance while other a very low one; for this reason the dataset is not homogenous.\n",
        "\n",
        "In particular, the ***'questioning'*** emotion has a frequency of **800'000** times; it's too big with respect to the others."
      ],
      "metadata": {
        "id": "xlKnqnCWX4HS"
      },
      "id": "xlKnqnCWX4HS"
    },
    {
      "cell_type": "code",
      "execution_count": 8,
      "metadata": {
        "id": "yGzG4YT2nbGw",
        "colab": {
          "base_uri": "https://localhost:8080/"
        },
        "outputId": "3008a0dc-7111-477d-e281-9cd31e4afab1"
      },
      "outputs": [
        {
          "output_type": "execute_result",
          "data": {
            "text/plain": [
              "Counter({'angry': 34924,\n",
              "         'furious': 169917,\n",
              "         'prepared': 48883,\n",
              "         'acknowledging': 138165,\n",
              "         'trusting': 134197,\n",
              "         'confident': 84918,\n",
              "         'hopeful': 54012,\n",
              "         'caring': 42806,\n",
              "         'sentimental': 20715,\n",
              "         'anticipating': 100433,\n",
              "         'wishing': 108668,\n",
              "         'surprised': 46022,\n",
              "         'ashamed': 14797,\n",
              "         'questioning': 841556,\n",
              "         'sad': 66262,\n",
              "         'nostalgic': 20461,\n",
              "         'devastated': 17539,\n",
              "         'terrified': 28730,\n",
              "         'embarrassed': 32338,\n",
              "         'lonely': 16396,\n",
              "         'encouraging': 10329,\n",
              "         'suggesting': 101591,\n",
              "         'content': 64569,\n",
              "         'afraid': 49285,\n",
              "         'impressed': 25045,\n",
              "         'agreeing': 96562,\n",
              "         'apprehensive': 46727,\n",
              "         'proud': 33365,\n",
              "         'annoyed': 30072,\n",
              "         'anxious': 8578,\n",
              "         'grateful': 42222,\n",
              "         'excited': 53756,\n",
              "         'neutral': 55932,\n",
              "         'faithful': 25029,\n",
              "         'guilty': 30043,\n",
              "         'consoling': 17256,\n",
              "         'disgusted': 15070,\n",
              "         'disappointed': 18298,\n",
              "         'jealous': 20902,\n",
              "         'joyful': 24282,\n",
              "         'sympathizing': 38774})"
            ]
          },
          "metadata": {},
          "execution_count": 8
        }
      ],
      "source": [
        "from collections import Counter #count theoccurances of the label to understand the distribution of the different labels\n",
        "\n",
        "label_count = Counter(df['eb+_emot'])\n",
        "label_count"
      ],
      "id": "yGzG4YT2nbGw"
    },
    {
      "cell_type": "code",
      "execution_count": 9,
      "metadata": {
        "colab": {
          "base_uri": "https://localhost:8080/"
        },
        "id": "IlwZ2AemqrIQ",
        "outputId": "9cf666ef-4733-40a2-c680-32fc584ecbf7"
      },
      "outputs": [
        {
          "output_type": "execute_result",
          "data": {
            "text/plain": [
              "{'anxious': 8578,\n",
              " 'encouraging': 10329,\n",
              " 'ashamed': 14797,\n",
              " 'disgusted': 15070,\n",
              " 'lonely': 16396,\n",
              " 'consoling': 17256,\n",
              " 'devastated': 17539,\n",
              " 'disappointed': 18298,\n",
              " 'nostalgic': 20461,\n",
              " 'sentimental': 20715,\n",
              " 'jealous': 20902,\n",
              " 'joyful': 24282,\n",
              " 'faithful': 25029,\n",
              " 'impressed': 25045,\n",
              " 'terrified': 28730,\n",
              " 'guilty': 30043,\n",
              " 'annoyed': 30072,\n",
              " 'embarrassed': 32338,\n",
              " 'proud': 33365,\n",
              " 'angry': 34924,\n",
              " 'sympathizing': 38774,\n",
              " 'grateful': 42222,\n",
              " 'caring': 42806,\n",
              " 'surprised': 46022,\n",
              " 'apprehensive': 46727,\n",
              " 'prepared': 48883,\n",
              " 'afraid': 49285,\n",
              " 'excited': 53756,\n",
              " 'hopeful': 54012,\n",
              " 'neutral': 55932,\n",
              " 'content': 64569,\n",
              " 'sad': 66262,\n",
              " 'confident': 84918,\n",
              " 'agreeing': 96562,\n",
              " 'anticipating': 100433,\n",
              " 'suggesting': 101591,\n",
              " 'wishing': 108668,\n",
              " 'trusting': 134197,\n",
              " 'acknowledging': 138165,\n",
              " 'furious': 169917,\n",
              " 'questioning': 841556}"
            ]
          },
          "metadata": {},
          "execution_count": 9
        }
      ],
      "source": [
        "dict(sorted(label_count.items(), key=lambda item: item[1]))"
      ],
      "id": "IlwZ2AemqrIQ"
    },
    {
      "cell_type": "markdown",
      "source": [
        "Maybe a graphical representation of the emotions frequency can be better to analyses the distribution. \n",
        "\n",
        "For this reason a barchar ploit is used to represent the frequency of each of the 41 emetions presented in the dataset.\n",
        "(NB. since the emotions occurances are very large, a \tlogarithmic scale is used)\n"
      ],
      "metadata": {
        "id": "MTr3ujRsX7nJ"
      },
      "id": "MTr3ujRsX7nJ"
    },
    {
      "cell_type": "markdown",
      "source": [
        "It can be seen that some emotions deferes of 10 times that represents a relevant quntity "
      ],
      "metadata": {
        "id": "3CkYG_roZUMA"
      },
      "id": "3CkYG_roZUMA"
    },
    {
      "cell_type": "code",
      "execution_count": 10,
      "metadata": {
        "colab": {
          "base_uri": "https://localhost:8080/",
          "height": 1000
        },
        "id": "OK2xrILDnpWQ",
        "outputId": "436bceb7-1459-49ee-c8d0-fc935dc762a3"
      },
      "outputs": [
        {
          "output_type": "display_data",
          "data": {
            "text/plain": [
              "<Figure size 800x1600 with 1 Axes>"
            ],
            "image/png": "[encoded data removed]"
          },
          "metadata": {}
        }
      ],
      "source": [
        "from matplotlib import pyplot as plt\n",
        "\n",
        "plt.figure(figsize=(8, 16))\n",
        "plt.barh(range(len(label_count)), label_count.values())\n",
        "plt.yticks(range(len(label_count)), label_count.keys())\n",
        "plt.xscale('log') #i'm plotting with a logaritmic scale (use for visualize the data)\n",
        "plt.xlim([1, 1000000])\n",
        "plt.show()"
      ],
      "id": "OK2xrILDnpWQ"
    },
    {
      "cell_type": "markdown",
      "metadata": {
        "id": "870f215e"
      },
      "source": [
        "# 1.1.2 SENTENCES"
      ],
      "id": "870f215e"
    },
    {
      "cell_type": "markdown",
      "source": [
        "Now some statistics about the senteces have been analysed"
      ],
      "metadata": {
        "id": "4pBm8D6B87S7"
      },
      "id": "4pBm8D6B87S7"
    },
    {
      "cell_type": "code",
      "execution_count": 13,
      "metadata": {
        "colab": {
          "base_uri": "https://localhost:8080/"
        },
        "id": "4b02dfd0",
        "outputId": "6b85de9b-eca6-4d38-b505-d7387205d0f3"
      },
      "outputs": [
        {
          "output_type": "execute_result",
          "data": {
            "text/plain": [
              "['You moron ! What fool washes diapers by the well !',\n",
              " 'You useless fool !',\n",
              " 'How dare you sleep !',\n",
              " 'Up ! Go and clean the house .',\n",
              " 'Clean the kitchen .',\n",
              " \"I cleaned the kitchen , ma 'am .\",\n",
              " 'Your name means to trust . It also means truth . And endurance . Or it could be god .',\n",
              " \"You were given a great name . You 'd better live up to it .\",\n",
              " \"I 'll go home in the spring once the snow melts .\",\n",
              " \"Listen . No matter how tough it gets I wouldn 't bring shame to you and your dad . I promise I won 't .\"]"
            ]
          },
          "metadata": {},
          "execution_count": 13
        }
      ],
      "source": [
        "# look at the first 10 senteces of the dataset\n",
        "sentence = df[\"uttr\"].tolist()\n",
        "sentence[:10] "
      ],
      "id": "4b02dfd0"
    },
    {
      "cell_type": "markdown",
      "source": [
        "Now, all the senteces are tranformed in lower case. This is a importat step in the data processing before train the model. \n",
        "\n",
        "In this case, same words but with different case are equal otherwise they would be consider different.\n",
        "This happen when we try to convert our senteces in vectors using the Bag of words representation.\n",
        "\n"
      ],
      "metadata": {
        "id": "mCZVEdkq9oBC"
      },
      "id": "mCZVEdkq9oBC"
    },
    {
      "cell_type": "markdown",
      "source": [
        "For each sentence, this method associates a vector with dimension equal to the vocabulary size of all the dataset. So each position of the vector corresponds to a words and the value is the frequency of the words inside the sentence.\n",
        "\n",
        "Senteces are very short, so the number of words inside a single sentence is very low with respect the vocabulary size. For this reason each sentence is represented by a sparse vector."
      ],
      "metadata": {
        "id": "rjgOB58V_sMW"
      },
      "id": "rjgOB58V_sMW"
    },
    {
      "cell_type": "code",
      "execution_count": 15,
      "metadata": {
        "colab": {
          "base_uri": "https://localhost:8080/"
        },
        "id": "56d27ef8",
        "outputId": "5b73f7d3-0f3e-4460-fbb4-630193695440"
      },
      "outputs": [
        {
          "output_type": "execute_result",
          "data": {
            "text/plain": [
              "['you moron ! what fool washes diapers by the well !',\n",
              " 'you useless fool !',\n",
              " 'how dare you sleep !',\n",
              " 'up ! go and clean the house .',\n",
              " 'clean the kitchen .',\n",
              " \"i cleaned the kitchen , ma 'am .\",\n",
              " 'your name means to trust . it also means truth . and endurance . or it could be god .',\n",
              " \"you were given a great name . you 'd better live up to it .\",\n",
              " \"i 'll go home in the spring once the snow melts .\",\n",
              " \"listen . no matter how tough it gets i wouldn 't bring shame to you and your dad . i promise i won 't .\"]"
            ]
          },
          "metadata": {},
          "execution_count": 15
        }
      ],
      "source": [
        "# convert all the sentences in lower case\n",
        "lc_sentence = [x.lower() for x in sentence]\n",
        "lc_sentence[:10]"
      ],
      "id": "56d27ef8"
    },
    {
      "cell_type": "markdown",
      "metadata": {
        "id": "263bccbc"
      },
      "source": [
        "Let's look at the length of the different sentences in our dataset"
      ],
      "id": "263bccbc"
    },
    {
      "cell_type": "code",
      "execution_count": 16,
      "metadata": {
        "colab": {
          "base_uri": "https://localhost:8080/"
        },
        "id": "46f72c0d",
        "outputId": "b86ea173-7391-45a9-a9e9-d130525a89b2"
      },
      "outputs": [
        {
          "output_type": "execute_result",
          "data": {
            "text/plain": [
              "[50, 18, 20, 29, 19, 32, 85, 59, 49, 103]"
            ]
          },
          "metadata": {},
          "execution_count": 16
        }
      ],
      "source": [
        "# compute the length of each single sentece in the dataset\n",
        "sentence_len = [len(x) for x in lc_sentence] \n",
        "sentence_len[:10] # show only the first 10"
      ],
      "id": "46f72c0d"
    },
    {
      "cell_type": "markdown",
      "source": [
        "It can be useful have a graphical representation of the different sentences length. \n",
        "\n",
        "Morever it has been computed the mean value of the senteces length that equal to **59** characters"
      ],
      "metadata": {
        "id": "ME4GU96rAVva"
      },
      "id": "ME4GU96rAVva"
    },
    {
      "cell_type": "code",
      "execution_count": 18,
      "metadata": {
        "colab": {
          "base_uri": "https://localhost:8080/",
          "height": 447
        },
        "id": "57e54103",
        "outputId": "8f9501bd-583c-456d-f81c-8f1159b057cb"
      },
      "outputs": [
        {
          "output_type": "execute_result",
          "data": {
            "text/plain": [
              "[<matplotlib.lines.Line2D at 0x7f3e4c8605b0>]"
            ]
          },
          "metadata": {},
          "execution_count": 18
        },
        {
          "output_type": "display_data",
          "data": {
            "text/plain": [
              "<Figure size 640x480 with 1 Axes>"
            ],
            "image/png": "[encoded data removed]"
          },
          "metadata": {}
        }
      ],
      "source": [
        "# graphical representation of sentences length\n",
        "import matplotlib.pyplot as plt\n",
        "plt.plot(range(len(sentence_len[0:100])), sentence_len[0:100])\n"
      ],
      "id": "57e54103"
    },
    {
      "cell_type": "code",
      "execution_count": null,
      "metadata": {
        "colab": {
          "base_uri": "https://localhost:8080/"
        },
        "id": "02811794",
        "outputId": "bef9b61f-f65d-480b-bf24-363577be9608"
      },
      "outputs": [
        {
          "name": "stdout",
          "output_type": "stream",
          "text": [
            "Senteces in the EDOS dataset are long 59 characters in average\n"
          ]
        }
      ],
      "source": [
        "# compute the average length of all the sentences\n",
        "import statistics\n",
        "avg_length = statistics.mean(sentence_len)\n",
        "print('Senteces in the EDOS dataset are long ' + str(round(avg_length)) + ' characters in average')"
      ],
      "id": "02811794"
    },
    {
      "cell_type": "markdown",
      "metadata": {
        "id": "8e958e92"
      },
      "source": [
        "# 1.1.3 DATASET VOCABULARY (INSERIRE CODICE PER VEDERE VOCABULARY IN QUESTA PARTE DI CODICE"
      ],
      "id": "8e958e92"
    },
    {
      "cell_type": "code",
      "execution_count": null,
      "metadata": {
        "id": "2010cad7"
      },
      "outputs": [],
      "source": [
        "#in order to look at the dataset vocabulary, we can merge all the senteces, so we apply the function to a big string that \n",
        "#contain all the senteces of the dataset"
      ],
      "id": "2010cad7"
    },
    {
      "cell_type": "code",
      "execution_count": null,
      "metadata": {
        "id": "392d44cd",
        "outputId": "79dcec33-a564-4167-fa7e-4505ad4aa11a"
      },
      "outputs": [
        {
          "data": {
            "text/plain": [
              "170505217"
            ]
          },
          "execution_count": 20,
          "metadata": {},
          "output_type": "execute_result"
        }
      ],
      "source": [
        "merged_sentence = ' '.join(sentence)\n",
        "len(merged_sentence)"
      ],
      "id": "392d44cd"
    },
    {
      "cell_type": "code",
      "execution_count": null,
      "metadata": {
        "id": "e1f92762",
        "outputId": "0eb6d5dd-d16e-43dd-81c0-6bbbb5e555fc"
      },
      "outputs": [
        {
          "data": {
            "text/plain": [
              "str"
            ]
          },
          "execution_count": 21,
          "metadata": {},
          "output_type": "execute_result"
        }
      ],
      "source": [
        "type(merged_sentence)"
      ],
      "id": "e1f92762"
    },
    {
      "cell_type": "markdown",
      "metadata": {
        "id": "8c15de5d"
      },
      "source": [
        " #### before to look at the different words, we need to discard the punctuation and other symbol, otherwise the vocabulary size is run out of memory."
      ],
      "id": "8c15de5d"
    },
    {
      "cell_type": "code",
      "execution_count": null,
      "metadata": {
        "id": "a44372b7",
        "outputId": "4bc8a334-03be-46ec-b364-e5e6ba22b3d5"
      },
      "outputs": [
        {
          "data": {
            "text/plain": [
              "'[!\"#$%&\\'()*+,-./:;<=>?@[\\\\]^_`{|}~]'"
            ]
          },
          "execution_count": 33,
          "metadata": {},
          "output_type": "execute_result"
        }
      ],
      "source": [
        "import string\n",
        "string.punctuation  # importa string that contains the different punctuation symbols\n",
        "regex = '[' + string.punctuation + ']' #create a regex expression of the punctuation symbol \n",
        "regex"
      ],
      "id": "a44372b7"
    },
    {
      "cell_type": "code",
      "execution_count": null,
      "metadata": {
        "id": "9bab9200"
      },
      "outputs": [],
      "source": [
        "import re #import the regex format\n",
        "merged_sentence_np = re.sub(regex,'',merged_sentence)"
      ],
      "id": "9bab9200"
    },
    {
      "cell_type": "code",
      "execution_count": null,
      "metadata": {
        "id": "d2df3233",
        "outputId": "4d39423e-5b40-4728-d372-f4ab608ddeab"
      },
      "outputs": [
        {
          "data": {
            "text/plain": [
              "'ou moron  What fool washes diapers by the well  You useless fool  How dare you sleep  Up  Go and clean the house  Clean the kitchen  I cleaned the kitchen  ma am  Your name means to trust  It also means truth  And endurance  Or it could be god  You were given a great name  You d better live up to it  I ll go home in the spring once the snow melts  Listen  No matter how tough it gets I wouldn t bring shame to you and your dad  I promise I won t  Your medicine  Open your mouth  Granny  Don t spill it  Granny  Oshin  Brandon said he s headed down to Galway  Craking  Galway  it s the same thing  He s really heading down there  Hi there  Welcome to the Stockroom  I don t really work here  I ve never even been to a store like this  Don t get me wrong  I m not a prude  I like sex  Shut up bitch  Show us the butt plugs  Butt plugs  Aisle three I think  Sorry  Shengqi  My Dad s present is more important than your pretend promise to your imaginary daughter  She s real  Everything I ve told you '"
            ]
          },
          "execution_count": 35,
          "metadata": {},
          "output_type": "execute_result"
        }
      ],
      "source": [
        "merged_sentence_np[1:1000]"
      ],
      "id": "d2df3233"
    },
    {
      "cell_type": "code",
      "execution_count": null,
      "metadata": {
        "id": "49a4c594",
        "outputId": "638a0231-74b9-49c5-9ae9-1f5a5699c7a8"
      },
      "outputs": [
        {
          "ename": "NameError",
          "evalue": "name 'NLP_project_checkpoint' is not defined",
          "output_type": "error",
          "traceback": [
            "\u001b[1;31m---------------------------------------------------------------------------\u001b[0m",
            "\u001b[1;31mNameError\u001b[0m                                 Traceback (most recent call last)",
            "Input \u001b[1;32mIn [36]\u001b[0m, in \u001b[0;36m<cell line: 1>\u001b[1;34m()\u001b[0m\n\u001b[1;32m----> 1\u001b[0m \u001b[38;5;241m-\u001b[39m\u001b[38;5;241m-\u001b[39m\u001b[43mNLP_project_checkpoint\u001b[49m\u001b[38;5;241m.\u001b[39miopub_data_rate_limit\n",
            "\u001b[1;31mNameError\u001b[0m: name 'NLP_project_checkpoint' is not defined"
          ]
        }
      ],
      "source": [
        "--NLP_project_checkpoint.iopub_data_rate_limit"
      ],
      "id": "49a4c594"
    },
    {
      "cell_type": "code",
      "execution_count": null,
      "metadata": {
        "id": "61adbfec",
        "outputId": "181a1d48-69a0-4651-83db-aea94c0d8e41"
      },
      "outputs": [
        {
          "name": "stderr",
          "output_type": "stream",
          "text": [
            "IOPub data rate exceeded.\n",
            "The notebook server will temporarily stop sending output\n",
            "to the client in order to avoid crashing it.\n",
            "To change this limit, set the config variable\n",
            "`--NotebookApp.iopub_data_rate_limit`.\n",
            "\n",
            "Current values:\n",
            "NotebookApp.iopub_data_rate_limit=1000000.0 (bytes/sec)\n",
            "NotebookApp.rate_limit_window=3.0 (secs)\n",
            "\n"
          ]
        }
      ],
      "source": [
        "words = merged_sentence_np.split()\n",
        "vocab = set(words) \n",
        "print(vocab)"
      ],
      "id": "61adbfec"
    },
    {
      "cell_type": "code",
      "execution_count": null,
      "metadata": {
        "id": "80730237",
        "outputId": "57e99ca9-ca0f-4275-9aeb-46587b56fa50"
      },
      "outputs": [
        {
          "name": "stdout",
          "output_type": "stream",
          "text": [
            "['!', \"'am\", \"'d\", \"'ll\", \"'m\", \"'s\", \"'t\", \"'ve\", ',', '.', '...', 'Aisle', 'And', 'Brandon', 'Butt', 'Clean', 'Craking', 'Dad', 'Don', 'Galway', 'Go', 'Granny', 'He', 'Hi', 'How', 'I', 'It', 'Listen', 'My', 'No', 'Open', 'Or', 'Oshin', 'Shengqi', 'Show', 'Shut', 'Sorry', 'Stockroom', 'Up', 'Welcome', 'What', 'You', 'Your', 'a', 'also', 'and', 'be', 'been', 'better', 'bitch', 'bring', 'butt', 'by', 'clean', 'cleaned', 'could', 'dad', 'dare', 'diapers', 'don', 'down', 'endurance', 'even', 'fool', 'get', 'gets', 'given', 'go', 'god', 'great', 'he', 'headed', 'heading', 'here', 'home', 'house', 'how', 'important', 'in', 'is', 'it', 'kitchen', 'like', 'live', 'ma', 'matter', 'me', 'means', 'medicine', 'melts', 'more', 'moron', 'mouth', 'name', 'never', 'not', 'once', 'ou', 'plugs', 'present', 'pretend', 'promise', 'prude', 'really', 'said', 'same', 'sex', 'shame', 'sleep', 'snow', 'spill', 'spring', 'store', 'than', 'the', 'there', 'thing', 'think', 'this', 'three', 'to', 'tough', 'trust', 'truth', 'up', 'us', 'useless', 'washes', 'well', 'were', 'won', 'work', 'wouldn', 'wrong', 'y', 'you', 'your']\n"
          ]
        }
      ],
      "source": [
        "#we can order the words in a alphabetic way, so it's easier to read\n",
        "sorted_vocab = sorted(vocab)\n",
        "print(sorted_vocab)"
      ],
      "id": "80730237"
    },
    {
      "cell_type": "code",
      "execution_count": null,
      "metadata": {
        "id": "947a409b"
      },
      "outputs": [],
      "source": [
        "#-----------------------------------------------------------------------------------------------------------------------"
      ],
      "id": "947a409b"
    },
    {
      "cell_type": "markdown",
      "source": [
        "# da capire se lasciare o togliere \n",
        "# l idea può essere quella di paragonare counter vectorize con l'mebedding e vedere come le diverse parole sono rappresentare diversamenrte nello spazio"
      ],
      "metadata": {
        "id": "ah2rcLOqCI3Y"
      },
      "id": "ah2rcLOqCI3Y"
    },
    {
      "cell_type": "markdown",
      "metadata": {
        "id": "ee681ef5"
      },
      "source": [
        "# TODO title"
      ],
      "id": "ee681ef5"
    },
    {
      "cell_type": "code",
      "execution_count": null,
      "metadata": {
        "colab": {
          "base_uri": "https://localhost:8080/",
          "height": 74
        },
        "id": "c59f6303",
        "outputId": "90a55c03-3ab6-4f87-d44b-93fa973b929b"
      },
      "outputs": [
        {
          "data": {
            "text/html": [
              "<style>#sk-container-id-1 {color: black;background-color: white;}#sk-container-id-1 pre{padding: 0;}#sk-container-id-1 div.sk-toggleable {background-color: white;}#sk-container-id-1 label.sk-toggleable__label {cursor: pointer;display: block;width: 100%;margin-bottom: 0;padding: 0.3em;box-sizing: border-box;text-align: center;}#sk-container-id-1 label.sk-toggleable__label-arrow:before {content: \"▸\";float: left;margin-right: 0.25em;color: #696969;}#sk-container-id-1 label.sk-toggleable__label-arrow:hover:before {color: black;}#sk-container-id-1 div.sk-estimator:hover label.sk-toggleable__label-arrow:before {color: black;}#sk-container-id-1 div.sk-toggleable__content {max-height: 0;max-width: 0;overflow: hidden;text-align: left;background-color: #f0f8ff;}#sk-container-id-1 div.sk-toggleable__content pre {margin: 0.2em;color: black;border-radius: 0.25em;background-color: #f0f8ff;}#sk-container-id-1 input.sk-toggleable__control:checked~div.sk-toggleable__content {max-height: 200px;max-width: 100%;overflow: auto;}#sk-container-id-1 input.sk-toggleable__control:checked~label.sk-toggleable__label-arrow:before {content: \"▾\";}#sk-container-id-1 div.sk-estimator input.sk-toggleable__control:checked~label.sk-toggleable__label {background-color: #d4ebff;}#sk-container-id-1 div.sk-label input.sk-toggleable__control:checked~label.sk-toggleable__label {background-color: #d4ebff;}#sk-container-id-1 input.sk-hidden--visually {border: 0;clip: rect(1px 1px 1px 1px);clip: rect(1px, 1px, 1px, 1px);height: 1px;margin: -1px;overflow: hidden;padding: 0;position: absolute;width: 1px;}#sk-container-id-1 div.sk-estimator {font-family: monospace;background-color: #f0f8ff;border: 1px dotted black;border-radius: 0.25em;box-sizing: border-box;margin-bottom: 0.5em;}#sk-container-id-1 div.sk-estimator:hover {background-color: #d4ebff;}#sk-container-id-1 div.sk-parallel-item::after {content: \"\";width: 100%;border-bottom: 1px solid gray;flex-grow: 1;}#sk-container-id-1 div.sk-label:hover label.sk-toggleable__label {background-color: #d4ebff;}#sk-container-id-1 div.sk-serial::before {content: \"\";position: absolute;border-left: 1px solid gray;box-sizing: border-box;top: 0;bottom: 0;left: 50%;z-index: 0;}#sk-container-id-1 div.sk-serial {display: flex;flex-direction: column;align-items: center;background-color: white;padding-right: 0.2em;padding-left: 0.2em;position: relative;}#sk-container-id-1 div.sk-item {position: relative;z-index: 1;}#sk-container-id-1 div.sk-parallel {display: flex;align-items: stretch;justify-content: center;background-color: white;position: relative;}#sk-container-id-1 div.sk-item::before, #sk-container-id-1 div.sk-parallel-item::before {content: \"\";position: absolute;border-left: 1px solid gray;box-sizing: border-box;top: 0;bottom: 0;left: 50%;z-index: -1;}#sk-container-id-1 div.sk-parallel-item {display: flex;flex-direction: column;z-index: 1;position: relative;background-color: white;}#sk-container-id-1 div.sk-parallel-item:first-child::after {align-self: flex-end;width: 50%;}#sk-container-id-1 div.sk-parallel-item:last-child::after {align-self: flex-start;width: 50%;}#sk-container-id-1 div.sk-parallel-item:only-child::after {width: 0;}#sk-container-id-1 div.sk-dashed-wrapped {border: 1px dashed gray;margin: 0 0.4em 0.5em 0.4em;box-sizing: border-box;padding-bottom: 0.4em;background-color: white;}#sk-container-id-1 div.sk-label label {font-family: monospace;font-weight: bold;display: inline-block;line-height: 1.2em;}#sk-container-id-1 div.sk-label-container {text-align: center;}#sk-container-id-1 div.sk-container {/* jupyter's `normalize.less` sets `[hidden] { display: none; }` but bootstrap.min.css set `[hidden] { display: none !important; }` so we also need the `!important` here to be able to override the default hidden behavior on the sphinx rendered scikit-learn.org. See: https://github.com/scikit-learn/scikit-learn/issues/21755 */display: inline-block !important;position: relative;}#sk-container-id-1 div.sk-text-repr-fallback {display: none;}</style><div id=\"sk-container-id-1\" class=\"sk-top-container\"><div class=\"sk-text-repr-fallback\"><pre>CountVectorizer()</pre><b>In a Jupyter environment, please rerun this cell to show the HTML representation or trust the notebook. <br />On GitHub, the HTML representation is unable to render, please try loading this page with nbviewer.org.</b></div><div class=\"sk-container\" hidden><div class=\"sk-item\"><div class=\"sk-estimator sk-toggleable\"><input class=\"sk-toggleable__control sk-hidden--visually\" id=\"sk-estimator-id-1\" type=\"checkbox\" checked><label for=\"sk-estimator-id-1\" class=\"sk-toggleable__label sk-toggleable__label-arrow\">CountVectorizer</label><div class=\"sk-toggleable__content\"><pre>CountVectorizer()</pre></div></div></div></div></div>"
            ],
            "text/plain": [
              "CountVectorizer()"
            ]
          },
          "execution_count": 18,
          "metadata": {},
          "output_type": "execute_result"
        }
      ],
      "source": [
        "from sklearn.feature_extraction.text import CountVectorizer \n",
        "vectorizer = CountVectorizer()\n",
        "vectorizer.fit(sentence)"
      ],
      "id": "c59f6303"
    },
    {
      "cell_type": "code",
      "execution_count": null,
      "metadata": {
        "colab": {
          "base_uri": "https://localhost:8080/"
        },
        "id": "75545f49",
        "outputId": "1165eb71-7522-4688-c075-e9ad96153c0c"
      },
      "outputs": [
        {
          "data": {
            "text/plain": [
              "221237"
            ]
          },
          "execution_count": 19,
          "metadata": {},
          "output_type": "execute_result"
        }
      ],
      "source": [
        "len(vectorizer.get_feature_names_out())"
      ],
      "id": "75545f49"
    },
    {
      "cell_type": "code",
      "execution_count": null,
      "metadata": {
        "colab": {
          "base_uri": "https://localhost:8080/"
        },
        "id": "e3191532",
        "outputId": "7401a4c9-ce0b-4b03-e0ce-ab20dd5175f8"
      },
      "outputs": [
        {
          "data": {
            "text/plain": [
              "array(['00', '000', '0000', '00000000112', '00001', '0001', '000130',\n",
              "       '0002', '000afterwards', '000dollars', '000ft', '000grand',\n",
              "       '000km', '000kw', '000m', '000mg', '000s', '000th', '000to',\n",
              "       '000won', '001', '0010', '0011', '00130', '0015', '0018', '002',\n",
              "       '0026', '003', '0037', '004', '005', '006', '0068', '007', '007s',\n",
              "       '008', '009', '00a', '00am', '00ffff', '00h', '00hey', '00pm',\n",
              "       '00sharp', '00th', '01', '010', '0100', '0101', '011', '0111',\n",
              "       '0125', '0127', '0130', '0134', '0141', '0143', '015', '0157',\n",
              "       '016', '01632', '01632349671', '017', '01768', '0178', '018',\n",
              "       '019', '01x03', '01x06', '01x13', '02', '0200', '020202', '0203',\n",
              "       '0207', '0220', '023', '0230', '0233', '0236', '027', '02am',\n",
              "       '02f', '02pm', '03', '0300', '0304', '031', '0317', '033', '035',\n",
              "       '0379', '0381', '039', '03mm', '03x03', '04', '040', '0400', '041',\n",
              "       '0423', '044', '045', '0455', '047', '04am', '05', '050', '0500',\n",
              "       '051409', '0517', '054', '055', '059', '05am', '05h', '05pm', '06',\n",
              "       '060', '0600', '061', '0620', '0624', '0630', '06321', '0634',\n",
              "       '0648', '065', '06am', '07', '0700', '071', '0713th', '0716374000',\n",
              "       '072', '0745', '0748', '075', '0750', '076223', '0772', '07am',\n",
              "       '08', '080', '0800', '081', '0817', '0831', '084', '084229', '087',\n",
              "       '0880', '09', '090', '0900', '0902', '0930', '095', '098', '0am',\n",
              "       '0bviously', '0cc', '0cean', '0d', '0f', '0ff', '0fficersin', '0h',\n",
              "       '0hh', '0iven', '0k', '0k3', '0k8', '0kaa', '0kay', '0kazaki',\n",
              "       '0km', '0l', '0ld', '0liveira', '0livier', '0mc', '0mg', '0n',\n",
              "       '0nce', '0ne', '0nly', '0nlythe', '0nno', '0not', '0oh', '0omin',\n",
              "       '0oovideo', '0pen', '0pera', '0pm', '0r', '0racle', '0rders',\n",
              "       '0rellana', '0riginal', '0rnithocheirus', '0s', '0sawa', '0scar',\n",
              "       '0ssi', '0suchowski', '0swald', '0th', '0therwise', '0ts',\n",
              "       '0tsuki', '0ur', '0urcolorfulworld', '0ut', '0ver', '0w', '0what',\n",
              "       '0wn', '0you', '10', '100', '1000', '10000', '100000', '1000f',\n",
              "       '1000km', '1000m', '1000s', '1000th', '1001', '1001st', '1002',\n",
              "       '1003', '1004', '10043', '1005', '1006', '1007', '1008', '100cc',\n",
              "       '100k', '100km', '100m', '100ml', '100mm', '100mph', '100o',\n",
              "       '100s', '100th', '100timesnotto', '100years', '100yen', '100yrs',\n",
              "       '100º', '101', '1010', '10100', '1013', '1014', '1016', '1018',\n",
              "       '101st', '102', '1024', '1025', '1027', '102nd', '103', '1031',\n",
              "       '1033', '1034', '1035', '1036', '10365', '1039', '103s', '104',\n",
              "       '1040', '1045', '1048', '1049', '104th', '105', '1051', '1052',\n",
              "       '105663', '106', '1064', '1065', '1066', '106fm', '106mm', '107',\n",
              "       '1070', '10720', '107th', '108', '1080', '1080p', '10851', '1087',\n",
              "       '1088', '109', '1096', '109956', '109s', '109th', '10a2', '10am',\n",
              "       '10b', '10c', '10cc', '10cm', '10h', '10h30', '10h45', '10hours',\n",
              "       '10k', '10km', '10krupiah', '10m', '10mg', '10minutes', '10mph',\n",
              "       '10p', '10pm', '10s', '10th', '10ths', '10to', '10w', '10x10',\n",
              "       '10years', '10â', '11', '110', '1100', '1102', '1104', '1105',\n",
              "       '1106', '1108', '1109', '110cc', '110th', '111', '1112', '11125',\n",
              "       '1113', '1117', '112', '1120', '1121', '1123', '1124', '112418th',\n",
              "       '11245', '1127', '112th', '113', '1130', '1138', '113th', '114',\n",
              "       '1141', '1145', '114th', '115', '1150', '1155', '1157', '11579',\n",
              "       '116', '1162', '11661', '116b', '116th', '117', '1170', '11710',\n",
              "       '1172', '118', '1182', '1187', '1189', '119', '11905', '1192',\n",
              "       '1196', '1198', '1199', '11am', '11g', '11k', '11me', '11pm',\n",
              "       '11s', '11s1', '11shit', '11th', '11x09', '12', '120', '1200',\n",
              "       '12000', '1200cc', '1200km', '1200s', '1203', '1204', '1205',\n",
              "       '1206', '120b', '120s', '121', '1212', '1214', '121st', '122',\n",
              "       '1220', '1221', '123', '1234', '123456', '1237', '123rd', '124',\n",
              "       '1240', '1246', '12474', '124997', '124th', '125', '12500',\n",
              "       '125000', '125mph', '125th', '126', '1260', '1260s', '1264',\n",
              "       '1265', '126th', '127', '1270s', '12716', '1277', '127th', '128',\n",
              "       '1280', '128th', '129', '1290', '1296', '1297', '1298', '1299',\n",
              "       '12a', '12am', '12b', '12c', '12d', '12gs', '12h40', '12k', '12o',\n",
              "       '12p', '12pm', '12t', '12th', '13', '130', '1300', '1300479',\n",
              "       '1300s', '1301', '1302', '1308', '1309', '130mph', '130s', '131',\n",
              "       '1310', '1311', '13119', '1313', '1314', '131st', '132', '1320',\n",
              "       '1321', '1328', '133', '1331010557', '1334', '13343', '13349',\n",
              "       '134', '1343', '1345', '1347', '1348', '134th', '135', '1350',\n",
              "       '1350s', '1351', '1354', '1358', '135xz', '136', '1362', '13625',\n",
              "       '1364', '1367', '136th', '137', '1375', '1378', '138', '1380',\n",
              "       '1382', '139', '1399', '13b', '13h', '13k', '13lb', '13s', '13th',\n",
              "       '14', '140', '1400', '14000', '1402', '1404', '1405', '1408',\n",
              "       '140º', '141', '1411', '14111', '1412', '1413', '1415', '14164',\n",
              "       '1417', '142', '1420', '142510', '1426', '1428', '1429', '142nd',\n",
              "       '143', '1430', '1432', '143276', '1439', '143k', '144', '1440',\n",
              "       '1441', '1443', '14436', '1448', '145', '1450', '1452', '1453',\n",
              "       '1454', '1456', '146', '1460', '1461', '1462', '1466', '147',\n",
              "       '1470', '1471', '1475', '1478', '148', '1480', '1481', '14811',\n",
              "       '1483', '148536', '1486', '1487', '1488', '149', '1492', '1493',\n",
              "       '1497', '149th', '14b', '14h00', '14hours', '14k', '14o', '14s',\n",
              "       '14th', '14yr', '15', '150', '1500', '15000', '150000', '1500km',\n",
              "       '1500s', '1501', '1502', '1503', '1504', '1505', '15072', '1508',\n",
              "       '150k', '150km', '150m', '150meters', '150mt', '150th', '150º',\n",
              "       '151', '1510', '1511', '1514', '1519', '151991', '152', '1520',\n",
              "       '1521', '1526', '1528', '153', '1530', '1534', '1536', '154',\n",
              "       '1541', '1542', '1543', '1547', '1549', '155', '1553', '155cm',\n",
              "       '156', '1564', '157', '1571', '1574', '1576', '1578', '158',\n",
              "       '1580', '1581', '1582', '1583', '1584', '1587', '1588', '159',\n",
              "       '1590', '1592', '1595', '1596', '1597', '1598', '1599', '159th',\n",
              "       '15am', '15c', '15cm', '15db', '15h', '15k', '15km', '15m',\n",
              "       '15mins', '15minute', '15minutes', '15o', '15peter20', '15pm',\n",
              "       '15s', '15th', '15x', '16', '160', '1600', '1600s', '1601', '1602',\n",
              "       '1605', '1607', '160781', '1609', '160j', '161', '1611', '1612',\n",
              "       '1614', '1615', '16154131', '1616', '1619', '161st', '162', '1621',\n",
              "       '1623', '1624', '1625', '1628', '163', '1632', '1636', '1637',\n",
              "       '1638', '163rd', '164', '1640', '1642', '1644', '1645', '1646',\n",
              "       '1647', '165', '1650', '1651', '1654', '16543', '165th', '166',\n",
              "       '1660', '1661', '1664', '1668', '167', '1673', '1674', '1676',\n",
              "       '167th', '168', '1682', '1683', '16830', '1684', '1688', '168th',\n",
              "       '169', '1690', '1690s', '1693', '16h', '16k', '16kilometers',\n",
              "       '16l', '16mm', '16s', '16th', '16ths', '16x9', '17', '170', '1700',\n",
              "       '1700s', '170104', '1704', '1705', '170mph', '171', '1714', '1715',\n",
              "       '1716', '1717', '1718', '172', '1720on', '1721', '1723', '1725',\n",
              "       '173', '1730', '1737', '173rd', '174', '1742', '1743', '1745',\n",
              "       '1748', '175', '1750', '1757', '1758', '1759', '175cm', '176',\n",
              "       '1760', '1763', '1767', '1768', '1769', '177', '1770', '1773',\n",
              "       '1774', '1775', '1776', '1777', '178', '1780', '1781', '1782',\n",
              "       '1782nd', '1786', '1787', '1789', '179', '1790', '1790s', '1792',\n",
              "       '1793', '1795', '1796', '1797', '1799', '1799th', '17h', '17h30',\n",
              "       '17k', '17p', '17s', '17th', '18', '180', '1800', '18006', '18007',\n",
              "       '1800s', '1801', '1802', '1803', '1804', '1806', '1807', '1809',\n",
              "       '181', '1810', '1811', '1812', '1813', '1814', '1815', '1816',\n",
              "       '1818', '182', '1820', '1821', '1823', '1825', '1826', '1827',\n",
              "       '1829', '183', '1830', '1830s', '1831', '1833', '1834', '1835',\n",
              "       '1836', '1837', '1838', '183rd', '183th', '184', '1840', '1841',\n",
              "       '1842', '1843', '1844', '1845', '1846', '1847', '1848', '1849',\n",
              "       '185', '1850', '1850s', '1851', '1852', '1853', '1854', '1856',\n",
              "       '1857', '1858', '1859', '186', '1860', '1860s', '1862', '1863',\n",
              "       '1864', '1865', '1866', '1867', '1868', '1869', '186cm', '187',\n",
              "       '1870', '1871', '1873', '1874', '1875', '1876', '1877', '1878',\n",
              "       '1879', '187m', '187th', '188', '1880', '1880s', '1881', '1882',\n",
              "       '1883', '1886', '1887', '1888', '1889', '189', '1890', '1890s',\n",
              "       '1891', '1892', '1893', '1894', '1895', '1896', '1897', '1898',\n",
              "       '1899', '189m', '18c', '18mm', '18p2p', '18s', '18th', '18times',\n",
              "       '19', '190', '1900', '1900s', '1901', '1902', '1903', '1904',\n",
              "       '19040616', '1905', '1906', '1907', '1908', '1909', '191', '1910',\n",
              "       '1910s', '1911', '1912', '1913', '1914', '1915', '1916', '1917',\n",
              "       '1918', '1919', '191dollars', '192', '1920', '1920s', '1921',\n",
              "       '1922', '1923', '1924', '1925', '1926', '1927', '1928', '1929',\n",
              "       '193', '1930', '1930s', '1931', '1932', '1933'], dtype=object)"
            ]
          },
          "execution_count": 20,
          "metadata": {},
          "output_type": "execute_result"
        }
      ],
      "source": [
        "vectorizer.get_feature_names_out()[:1000]"
      ],
      "id": "e3191532"
    },
    {
      "cell_type": "code",
      "execution_count": null,
      "metadata": {
        "colab": {
          "base_uri": "https://localhost:8080/"
        },
        "id": "41b95c5e",
        "outputId": "eb2c45a2-748e-44bb-ac1d-50bd3bd1fa90"
      },
      "outputs": [
        {
          "name": "stdout",
          "output_type": "stream",
          "text": [
            "vocabulary size: 58865\n"
          ]
        }
      ],
      "source": [
        "vectorizer = CountVectorizer(min_df=5, stop_words='english')\n",
        "vectorizer.fit(sentence)\n",
        "print(f\"vocabulary size: {len(vectorizer.get_feature_names_out())}\")\n",
        "#we reduce  the vocabulary only 1341; we lose 16k words"
      ],
      "id": "41b95c5e"
    },
    {
      "cell_type": "code",
      "execution_count": null,
      "metadata": {
        "colab": {
          "base_uri": "https://localhost:8080/"
        },
        "id": "1a1a3281",
        "outputId": "89bc5180-f840-4665-b247-046d64edfdd3"
      },
      "outputs": [
        {
          "data": {
            "text/plain": [
              "array(['00', '000', '000th', '001', '007', '009', '00am', '00pm', '01',\n",
              "       '010', '015', '02', '03', '04', '040', '0400', '05', '050', '0500',\n",
              "       '06', '0600', '07', '0700', '08', '0800', '09', '0900', '0f', '0h',\n",
              "       '0k', '0kay', '0n', '0nce', '0ne', '0nly', '0r', '0th', '0ur',\n",
              "       '0ut', '10', '100', '1000', '10000', '100000', '1001', '100m',\n",
              "       '100s', '100th', '101', '101st', '102', '103', '104', '104th',\n",
              "       '105', '106', '1066', '107', '108', '109', '10am', '10k', '10pm',\n",
              "       '10s', '10th', '11', '110', '1100', '111', '112', '113', '114',\n",
              "       '115', '116', '117', '118', '119', '11am', '11th', '12', '120',\n",
              "       '1200', '121', '122', '123', '124', '125', '126', '127', '128',\n",
              "       '129', '12th', '13', '130', '1300', '131', '132', '133', '134',\n",
              "       '135', '136', '13th', '14', '140', '1400', '141', '142', '143',\n",
              "       '144', '145', '147', '148', '1492', '14k', '14th', '15', '150',\n",
              "       '1500', '152', '153', '155', '156', '157', '158', '15am', '15s',\n",
              "       '15th', '16', '160', '1600', '161', '161st', '162', '163', '165',\n",
              "       '16th', '17', '170', '1700', '1700s', '172', '174', '175', '178',\n",
              "       '1780', '1799', '17th', '18', '180', '1800', '1800s', '181',\n",
              "       '1812', '182', '183', '184', '185', '1851', '1857', '186', '1860',\n",
              "       '1862', '1863', '1864', '1865', '1868', '187', '1875', '1879',\n",
              "       '188', '1888', '1889', '189', '1890', '1894', '1895', '1896',\n",
              "       '1899', '18th', '19', '190', '1900', '1900s', '1901', '1903',\n",
              "       '1904', '1905', '1906', '1907', '1908', '1909', '1910', '1911',\n",
              "       '1912', '1913', '1914', '1915', '1916', '1917', '1918', '1919',\n",
              "       '1920', '1920s', '1921', '1922', '1923', '1924', '1925', '1926',\n",
              "       '1927', '1928', '1929', '1930', '1930s', '1931', '1932', '1933',\n",
              "       '1934', '1935', '1936', '1937', '1938', '1939', '194', '1940',\n",
              "       '1940s', '1941', '1942', '1943', '1944', '1945', '1946', '1947',\n",
              "       '1948', '1949', '195', '1950', '1950s', '1951', '1952', '1953',\n",
              "       '1954', '1955', '1956', '1957', '1958', '1959', '1960', '1960s',\n",
              "       '1961', '1962', '1963', '1964', '1965', '1966', '1967', '1968',\n",
              "       '1969', '197', '1970', '1970s', '1971', '1972', '1973', '1974',\n",
              "       '1975', '1976', '1977', '1978', '1979', '198', '1980', '1980s',\n",
              "       '1981', '1982', '1983', '1984', '1985', '1986', '1987', '1988',\n",
              "       '1989', '199', '1990', '1991', '1992', '1993', '1994', '1995',\n",
              "       '1996', '1997', '1998', '1999', '19th', '1am', '1o', '1oo', '1st',\n",
              "       '20', '200', '2000', '20000', '2001', '2002', '2003', '2004',\n",
              "       '2005', '2006', '2007', '2008', '2009', '200m', '200th', '201',\n",
              "       '2010', '2011', '2012', '2013', '2014', '2015', '2016', '2017',\n",
              "       '202', '2020', '203', '204', '2046', '205', '206', '207', '208',\n",
              "       '209', '20k', '20s', '20th', '21', '210', '2100', '211', '212',\n",
              "       '213', '214', '2149', '215', '216', '217', '218', '219', '21st',\n",
              "       '22', '220', '2200', '221', '222', '223', '224', '225', '226',\n",
              "       '22nd', '23', '230', '2300', '232', '237', '238', '239', '23rd',\n",
              "       '24', '240', '241', '242', '247', '248', '24l7', '24th', '25',\n",
              "       '250', '2500', '256', '25th', '26', '260', '263', '265', '26th',\n",
              "       '27', '270', '272', '273', '275', '27th', '28', '280', '286',\n",
              "       '28th', '29', '290', '295', '299', '29th', '2a', '2am', '2b',\n",
              "       '2dads', '2m', '2nd', '2o', '2pm', '2s', '30', '300', '3000',\n",
              "       '30000', '301', '302', '303', '304', '305', '306', '308', '30am',\n",
              "       '30km', '30pm', '30s', '30th', '31', '310', '311', '312', '314',\n",
              "       '315', '319', '31st', '32', '320', '322', '324', '325', '326',\n",
              "       '327', '32nd', '33', '330', '338', '33rd', '34', '340', '342',\n",
              "       '344', '347', '348', '34th', '35', '350', '3500', '353', '355',\n",
              "       '357', '35th', '36', '360', '364', '365', '36th', '37', '375',\n",
              "       '376', '38', '380', '382', '386', '38th', '39', '390', '39th',\n",
              "       '3a', '3am', '3c', '3d', '3o', '3pm', '3po', '3rd', '3th', '40',\n",
              "       '400', '4000', '400m', '401', '404', '405', '407', '409', '40s',\n",
              "       '40th', '41', '410', '411', '412', '414', '417', '42', '420',\n",
              "       '425', '426', '427', '42nd', '43', '435', '43rd', '44', '4400',\n",
              "       '4400s', '442', '44th', '45', '450', '4500', '452', '455', '45s',\n",
              "       '45th', '46', '460', '465', '46th', '47', '470', '475', '47th',\n",
              "       '48', '480', '487', '48th', '49', '4a', '4am', '4b', '4c', '4o',\n",
              "       '4pm', '4th', '4x4', '50', '500', '5000', '50000', '500m', '500th',\n",
              "       '502', '50k', '50m', '50p', '50s', '50th', '51', '512', '51st',\n",
              "       '52', '520', '524', '53', '530', '54', '540', '54th', '55', '550',\n",
              "       '555', '56', '560', '57', '570', '57th', '58', '58th', '59',\n",
              "       '59th', '5a', '5am', '5b', '5o', '5pm', '5s', '5th', '60', '600',\n",
              "       '6000', '603', '60s', '60th', '61', '612', '613', '61st', '62',\n",
              "       '620', '6200', '623', '625', '626', '63', '64', '643', '645', '65',\n",
              "       '650', '657', '66', '660', '666', '67', '670', '68', '69', '6am',\n",
              "       '6pm', '6th', '70', '700', '7000', '701', '702', '70s', '70th',\n",
              "       '71', '710', '72', '720', '722', '723', '73', '737', '74', '740',\n",
              "       '747', '75', '750', '7500', '75th', '76', '765', '77', '777', '78',\n",
              "       '782', '78th', '79', '790', '7am', '7o', '7pm', '7th', '7tv', '80',\n",
              "       '800', '8000', '802', '80s', '80th', '81', '815', '818', '82',\n",
              "       '820', '83', '84', '84th', '85', '850', '86', '87', '88', '89',\n",
              "       '8am', '8mm', '8o', '8pm', '8th', '90', '900', '901', '909', '90s',\n",
              "       '91', '911', '917', '92', '93', '937', '94', '941', '95', '950',\n",
              "       '957', '96', '960', '97', '970', '98', '99', '999', '9am', '9mm',\n",
              "       '9pm', '9th', 'a1', 'a4', 'a5', 'aa', 'aaa', 'aaaa', 'aaaaaaah',\n",
              "       'aaaaaah', 'aaaaah', 'aaaagh', 'aaaah', 'aaaahh', 'aaaahhh',\n",
              "       'aaaargh', 'aaagh', 'aaah', 'aaahh', 'aaahhh', 'aaahhhh', 'aaargh',\n",
              "       'aaarrrgghh', 'aab', 'aada', 'aadi', 'aage', 'aagh', 'aah', 'aahh',\n",
              "       'aahhh', 'aalia', 'aaliyah', 'aang', 'aarav', 'aardvark', 'aargh',\n",
              "       'aarhus', 'aaron', 'aarshi', 'aarti', 'aaru', 'ab', 'aback',\n",
              "       'abacus', 'abaddon', 'abalone', 'abandon', 'abandoned',\n",
              "       'abandoning', 'abandonment', 'abandons', 'abang', 'abarcadera',\n",
              "       'abashiri', 'abate', 'abattoir', 'abba', 'abbaji', 'abbas', 'abbe',\n",
              "       'abberline', 'abbess', 'abbey', 'abbie', 'abbot', 'abbott',\n",
              "       'abbreviation', 'abbs', 'abby', 'abbé', 'abc', 'abd', 'abdallah',\n",
              "       'abdel', 'abdicate', 'abdication', 'abdomen', 'abdominal',\n",
              "       'abduct', 'abducted', 'abducting', 'abduction', 'abductions',\n",
              "       'abductor', 'abductors', 'abdul', 'abdulla', 'abdullah', 'abe',\n",
              "       'abed', 'abel', 'abercrombie', 'aberdeen', 'abernathy', 'aberrant',\n",
              "       'aberration', 'abetted', 'abetting', 'abhay', 'abhi', 'abhimanyu',\n",
              "       'abhor', 'abhorrent', 'abi', 'abide', 'abiding', 'abig', 'abigail',\n",
              "       'abilene', 'abilities', 'ability', 'abject', 'abjure', 'abla',\n",
              "       'ablaze', 'able', 'ablution', 'ablutions', 'abner', 'abnormal',\n",
              "       'abnormalities', 'abnormality', 'abnormally', 'abnormals', 'abo',\n",
              "       'aboard', 'abode', 'abolish', 'abolished', 'abolition',\n",
              "       'abominable', 'abomination', 'abominations', 'aboot', 'aboriginal',\n",
              "       'aboriginals', 'aborigine', 'aboro', 'abort', 'aborted',\n",
              "       'aborting', 'abortion', 'abortionist', 'abortions', 'abou',\n",
              "       'abound', 'abounds', 'aboutit', 'abouts', 'aboutthe', 'aboutyou',\n",
              "       'aboutyour', 'aboveboard', 'abra', 'abracadabra', 'abraham',\n",
              "       'abrahams', 'abram', 'abrams', 'abramson', 'abrascha', 'abrasion',\n",
              "       'abrasions', 'abreast', 'abrecan', 'abreu', 'abroad', 'abrupt',\n",
              "       'abruption', 'abruptly', 'abs', 'absalom', 'absalon', 'abscess',\n",
              "       'absconded', 'absence', 'absences', 'absent', 'absentee',\n",
              "       'absinthe', 'abso', 'absolute', 'absolutely', 'absolutes',\n",
              "       'absolution', 'absolutly', 'absolve', 'absolved', 'absolvo',\n",
              "       'absorb', 'absorbed', 'absorbers', 'absorbing', 'absorbs',\n",
              "       'absorption', 'abstain', 'abstaining', 'abstinence', 'abstract',\n",
              "       'absurd', 'absurdity', 'absurdly', 'abu', 'abuela', 'abuelita',\n",
              "       'abundance', 'abundant', 'abundantly', 'abuse', 'abused', 'abuser',\n",
              "       'abuses', 'abusing', 'abusive', 'abwehr', 'aby', 'abydos', 'abyss',\n",
              "       'abyssinia', 'abyssinian', 'abοut', 'abουt', 'ac', 'aca', 'acacia',\n",
              "       'academia', 'academic', 'academically', 'academics', 'academies',\n",
              "       'academy', 'acapulco', 'acc', 'accelerant', 'accelerate',\n",
              "       'accelerated', 'accelerates', 'accelerating', 'acceleration',\n",
              "       'accelerator', 'accent', 'accents', 'accept', 'acceptable',\n",
              "       'acceptance', 'accepted', 'accepting', 'accepts', 'access',\n",
              "       'accessed', 'accessible', 'accessing', 'accessories',\n",
              "       'accessorize', 'accessory', 'accident', 'accidental',\n",
              "       'accidentally', 'accidently', 'accidents', 'acclaim', 'acclaimed',\n",
              "       'accolades', 'accommodate', 'accommodated', 'accommodating',\n",
              "       'accommodation', 'accommodations', 'accompanied', 'accompanies',\n",
              "       'accompaniment', 'accompanist', 'accompany', 'accompanying',\n",
              "       'accompli', 'accomplice', 'accomplices', 'accomplish',\n",
              "       'accomplished', 'accomplishes', 'accomplishing', 'accomplishment',\n",
              "       'accomplishments', 'accord', 'accordance', 'accorded', 'according',\n",
              "       'accordingly', 'accordion', 'accost', 'accosted', 'account',\n",
              "       'accountability', 'accountable', 'accountancy'], dtype=object)"
            ]
          },
          "execution_count": 22,
          "metadata": {},
          "output_type": "execute_result"
        }
      ],
      "source": [
        "vectorizer.get_feature_names_out()[:1000]"
      ],
      "id": "1a1a3281"
    },
    {
      "cell_type": "markdown",
      "metadata": {
        "id": "b9faf82c"
      },
      "source": [
        "# 2. INDEX THE SENTECES \n"
      ],
      "id": "b9faf82c"
    },
    {
      "cell_type": "markdown",
      "source": [
        "In this section, the different sentences of our dataset have been indexed using the same technique that is applied in the search engine.\n",
        "\n",
        "The idea is to associate an index at each single senteces in our dataset in order to speed up the search of the most accurate page / senteces that match the query "
      ],
      "metadata": {
        "id": "wNoIulmKCofi"
      },
      "id": "wNoIulmKCofi"
    },
    {
      "cell_type": "markdown",
      "source": [
        "First we need to associate at each single sentece a unique index. Since we were not able to manage indeces in the table (first column), a new column has been inserted. \n",
        "\n",
        "That colunm allows to assign at each sentece a unique index.\n",
        "Since the 'new' indeces are equal to the table indeces, the sent_id (that indicdates the index of the sentences in the table) will be equal to the sent_no (indeces that is used for the search)"
      ],
      "metadata": {
        "id": "Q94vXL6gFN8h"
      },
      "id": "Q94vXL6gFN8h"
    },
    {
      "cell_type": "code",
      "execution_count": 38,
      "metadata": {
        "colab": {
          "base_uri": "https://localhost:8080/",
          "height": 424
        },
        "id": "9b276003",
        "outputId": "98d7f1a7-fa52-4039-ad3d-73d675d0be41"
      },
      "outputs": [
        {
          "output_type": "execute_result",
          "data": {
            "text/plain": [
              "         dialogue_id  turn                                               uttr  \\\n",
              "0                 97     1  You moron ! What fool washes diapers by the we...   \n",
              "1                 97     2                                 You useless fool !   \n",
              "2                 99     1                               How dare you sleep !   \n",
              "3                 99     2                      Up ! Go and clean the house .   \n",
              "4                100     1                                Clean the kitchen .   \n",
              "...              ...   ...                                                ...   \n",
              "2829421      8820621     3  This is so stupid . How can I be upset over so...   \n",
              "2829422      8820621     4                                   It 's negative ?   \n",
              "2829423      8820621     5                              No , it 's positive .   \n",
              "2829424      8820637     1                                        Thank God !   \n",
              "2829425      8820637     2                     So tell me one of your moves .   \n",
              "\n",
              "              eb+_emot  label_confidence  sent_no   docno     docno  \n",
              "0                angry          0.437522        0        0        0  \n",
              "1              furious          0.731564        1        1        1  \n",
              "2              furious          0.605636        2        2        2  \n",
              "3             prepared          0.650449        3        3        3  \n",
              "4             prepared          0.742187        4        4        4  \n",
              "...                ...               ...      ...      ...      ...  \n",
              "2829421        furious          0.455627  2829421  2829421  2829421  \n",
              "2829422  acknowledging          0.440911  2829422  2829422  2829422  \n",
              "2829423       agreeing          0.428994  2829423  2829423  2829423  \n",
              "2829424       grateful          0.987517  2829424  2829424  2829424  \n",
              "2829425     suggesting          0.794787  2829425  2829425  2829425  \n",
              "\n",
              "[2829426 rows x 8 columns]"
            ],
            "text/html": [
              "\n",
              "  <div id=\"df-21b62994-3270-4282-9b85-cde1956a3ee8\">\n",
              "    <div class=\"colab-df-container\">\n",
              "      <div>\n",
              "<style scoped>\n",
              "    .dataframe tbody tr th:only-of-type {\n",
              "        vertical-align: middle;\n",
              "    }\n",
              "\n",
              "    .dataframe tbody tr th {\n",
              "        vertical-align: top;\n",
              "    }\n",
              "\n",
              "    .dataframe thead th {\n",
              "        text-align: right;\n",
              "    }\n",
              "</style>\n",
              "<table border=\"1\" class=\"dataframe\">\n",
              "  <thead>\n",
              "    <tr style=\"text-align: right;\">\n",
              "      <th></th>\n",
              "      <th>dialogue_id</th>\n",
              "      <th>turn</th>\n",
              "      <th>uttr</th>\n",
              "      <th>eb+_emot</th>\n",
              "      <th>label_confidence</th>\n",
              "      <th>sent_no</th>\n",
              "      <th>docno</th>\n",
              "      <th>docno</th>\n",
              "    </tr>\n",
              "  </thead>\n",
              "  <tbody>\n",
              "    <tr>\n",
              "      <th>0</th>\n",
              "      <td>97</td>\n",
              "      <td>1</td>\n",
              "      <td>You moron ! What fool washes diapers by the we...</td>\n",
              "      <td>angry</td>\n",
              "      <td>0.437522</td>\n",
              "      <td>0</td>\n",
              "      <td>0</td>\n",
              "      <td>0</td>\n",
              "    </tr>\n",
              "    <tr>\n",
              "      <th>1</th>\n",
              "      <td>97</td>\n",
              "      <td>2</td>\n",
              "      <td>You useless fool !</td>\n",
              "      <td>furious</td>\n",
              "      <td>0.731564</td>\n",
              "      <td>1</td>\n",
              "      <td>1</td>\n",
              "      <td>1</td>\n",
              "    </tr>\n",
              "    <tr>\n",
              "      <th>2</th>\n",
              "      <td>99</td>\n",
              "      <td>1</td>\n",
              "      <td>How dare you sleep !</td>\n",
              "      <td>furious</td>\n",
              "      <td>0.605636</td>\n",
              "      <td>2</td>\n",
              "      <td>2</td>\n",
              "      <td>2</td>\n",
              "    </tr>\n",
              "    <tr>\n",
              "      <th>3</th>\n",
              "      <td>99</td>\n",
              "      <td>2</td>\n",
              "      <td>Up ! Go and clean the house .</td>\n",
              "      <td>prepared</td>\n",
              "      <td>0.650449</td>\n",
              "      <td>3</td>\n",
              "      <td>3</td>\n",
              "      <td>3</td>\n",
              "    </tr>\n",
              "    <tr>\n",
              "      <th>4</th>\n",
              "      <td>100</td>\n",
              "      <td>1</td>\n",
              "      <td>Clean the kitchen .</td>\n",
              "      <td>prepared</td>\n",
              "      <td>0.742187</td>\n",
              "      <td>4</td>\n",
              "      <td>4</td>\n",
              "      <td>4</td>\n",
              "    </tr>\n",
              "    <tr>\n",
              "      <th>...</th>\n",
              "      <td>...</td>\n",
              "      <td>...</td>\n",
              "      <td>...</td>\n",
              "      <td>...</td>\n",
              "      <td>...</td>\n",
              "      <td>...</td>\n",
              "      <td>...</td>\n",
              "      <td>...</td>\n",
              "    </tr>\n",
              "    <tr>\n",
              "      <th>2829421</th>\n",
              "      <td>8820621</td>\n",
              "      <td>3</td>\n",
              "      <td>This is so stupid . How can I be upset over so...</td>\n",
              "      <td>furious</td>\n",
              "      <td>0.455627</td>\n",
              "      <td>2829421</td>\n",
              "      <td>2829421</td>\n",
              "      <td>2829421</td>\n",
              "    </tr>\n",
              "    <tr>\n",
              "      <th>2829422</th>\n",
              "      <td>8820621</td>\n",
              "      <td>4</td>\n",
              "      <td>It 's negative ?</td>\n",
              "      <td>acknowledging</td>\n",
              "      <td>0.440911</td>\n",
              "      <td>2829422</td>\n",
              "      <td>2829422</td>\n",
              "      <td>2829422</td>\n",
              "    </tr>\n",
              "    <tr>\n",
              "      <th>2829423</th>\n",
              "      <td>8820621</td>\n",
              "      <td>5</td>\n",
              "      <td>No , it 's positive .</td>\n",
              "      <td>agreeing</td>\n",
              "      <td>0.428994</td>\n",
              "      <td>2829423</td>\n",
              "      <td>2829423</td>\n",
              "      <td>2829423</td>\n",
              "    </tr>\n",
              "    <tr>\n",
              "      <th>2829424</th>\n",
              "      <td>8820637</td>\n",
              "      <td>1</td>\n",
              "      <td>Thank God !</td>\n",
              "      <td>grateful</td>\n",
              "      <td>0.987517</td>\n",
              "      <td>2829424</td>\n",
              "      <td>2829424</td>\n",
              "      <td>2829424</td>\n",
              "    </tr>\n",
              "    <tr>\n",
              "      <th>2829425</th>\n",
              "      <td>8820637</td>\n",
              "      <td>2</td>\n",
              "      <td>So tell me one of your moves .</td>\n",
              "      <td>suggesting</td>\n",
              "      <td>0.794787</td>\n",
              "      <td>2829425</td>\n",
              "      <td>2829425</td>\n",
              "      <td>2829425</td>\n",
              "    </tr>\n",
              "  </tbody>\n",
              "</table>\n",
              "<p>2829426 rows × 8 columns</p>\n",
              "</div>\n",
              "      <button class=\"colab-df-convert\" onclick=\"convertToInteractive('df-21b62994-3270-4282-9b85-cde1956a3ee8')\"\n",
              "              title=\"Convert this dataframe to an interactive table.\"\n",
              "              style=\"display:none;\">\n",
              "        \n",
              "  <svg xmlns=\"http://www.w3.org/2000/svg\" height=\"24px\"viewBox=\"0 0 24 24\"\n",
              "       width=\"24px\">\n",
              "    <path d=\"M0 0h24v24H0V0z\" fill=\"none\"/>\n",
              "    <path d=\"M18.56 5.44l.94 2.06.94-2.06 2.06-.94-2.06-.94-.94-2.06-.94 2.06-2.06.94zm-11 1L8.5 8.5l.94-2.06 2.06-.94-2.06-.94L8.5 2.5l-.94 2.06-2.06.94zm10 10l.94 2.06.94-2.06 2.06-.94-2.06-.94-.94-2.06-.94 2.06-2.06.94z\"/><path d=\"M17.41 7.96l-1.37-1.37c-.4-.4-.92-.59-1.43-.59-.52 0-1.04.2-1.43.59L10.3 9.45l-7.72 7.72c-.78.78-.78 2.05 0 2.83L4 21.41c.39.39.9.59 1.41.59.51 0 1.02-.2 1.41-.59l7.78-7.78 2.81-2.81c.8-.78.8-2.07 0-2.86zM5.41 20L4 18.59l7.72-7.72 1.47 1.35L5.41 20z\"/>\n",
              "  </svg>\n",
              "      </button>\n",
              "      \n",
              "  <style>\n",
              "    .colab-df-container {\n",
              "      display:flex;\n",
              "      flex-wrap:wrap;\n",
              "      gap: 12px;\n",
              "    }\n",
              "\n",
              "    .colab-df-convert {\n",
              "      background-color: #E8F0FE;\n",
              "      border: none;\n",
              "      border-radius: 50%;\n",
              "      cursor: pointer;\n",
              "      display: none;\n",
              "      fill: #1967D2;\n",
              "      height: 32px;\n",
              "      padding: 0 0 0 0;\n",
              "      width: 32px;\n",
              "    }\n",
              "\n",
              "    .colab-df-convert:hover {\n",
              "      background-color: #E2EBFA;\n",
              "      box-shadow: 0px 1px 2px rgba(60, 64, 67, 0.3), 0px 1px 3px 1px rgba(60, 64, 67, 0.15);\n",
              "      fill: #174EA6;\n",
              "    }\n",
              "\n",
              "    [theme=dark] .colab-df-convert {\n",
              "      background-color: #3B4455;\n",
              "      fill: #D2E3FC;\n",
              "    }\n",
              "\n",
              "    [theme=dark] .colab-df-convert:hover {\n",
              "      background-color: #434B5C;\n",
              "      box-shadow: 0px 1px 3px 1px rgba(0, 0, 0, 0.15);\n",
              "      filter: drop-shadow(0px 1px 2px rgba(0, 0, 0, 0.3));\n",
              "      fill: #FFFFFF;\n",
              "    }\n",
              "  </style>\n",
              "\n",
              "      <script>\n",
              "        const buttonEl =\n",
              "          document.querySelector('#df-21b62994-3270-4282-9b85-cde1956a3ee8 button.colab-df-convert');\n",
              "        buttonEl.style.display =\n",
              "          google.colab.kernel.accessAllowed ? 'block' : 'none';\n",
              "\n",
              "        async function convertToInteractive(key) {\n",
              "          const element = document.querySelector('#df-21b62994-3270-4282-9b85-cde1956a3ee8');\n",
              "          const dataTable =\n",
              "            await google.colab.kernel.invokeFunction('convertToInteractive',\n",
              "                                                     [key], {});\n",
              "          if (!dataTable) return;\n",
              "\n",
              "          const docLinkHtml = 'Like what you see? Visit the ' +\n",
              "            '<a target=\"_blank\" href=https://colab.research.google.com/notebooks/data_table.ipynb>data table notebook</a>'\n",
              "            + ' to learn more about interactive tables.';\n",
              "          element.innerHTML = '';\n",
              "          dataTable['output_type'] = 'display_data';\n",
              "          await google.colab.output.renderOutput(dataTable, element);\n",
              "          const docLink = document.createElement('div');\n",
              "          docLink.innerHTML = docLinkHtml;\n",
              "          element.appendChild(docLink);\n",
              "        }\n",
              "      </script>\n",
              "    </div>\n",
              "  </div>\n",
              "  "
            ]
          },
          "metadata": {},
          "execution_count": 38
        }
      ],
      "source": [
        "df['docno'] = df.index\n",
        "df"
      ],
      "id": "9b276003"
    },
    {
      "cell_type": "code",
      "execution_count": 39,
      "metadata": {
        "id": "0ac99f12"
      },
      "outputs": [],
      "source": [
        "df['docno'] = df['docno'].apply(str)"
      ],
      "id": "0ac99f12"
    },
    {
      "cell_type": "code",
      "execution_count": 42,
      "metadata": {
        "colab": {
          "base_uri": "https://localhost:8080/",
          "height": 424
        },
        "id": "38bc58db",
        "outputId": "1abe0c54-002e-417e-eebd-7c69ccf82f8c"
      },
      "outputs": [
        {
          "output_type": "execute_result",
          "data": {
            "text/plain": [
              "           docno                                               uttr\n",
              "0              0  You moron ! What fool washes diapers by the we...\n",
              "1              1                                 You useless fool !\n",
              "2              2                               How dare you sleep !\n",
              "3              3                      Up ! Go and clean the house .\n",
              "4              4                                Clean the kitchen .\n",
              "...          ...                                                ...\n",
              "2829421  2829421  This is so stupid . How can I be upset over so...\n",
              "2829422  2829422                                   It 's negative ?\n",
              "2829423  2829423                              No , it 's positive .\n",
              "2829424  2829424                                        Thank God !\n",
              "2829425  2829425                     So tell me one of your moves .\n",
              "\n",
              "[2829426 rows x 2 columns]"
            ],
            "text/html": [
              "\n",
              "  <div id=\"df-02c5d5d8-bddd-4c9f-94ba-231264ae1d5b\">\n",
              "    <div class=\"colab-df-container\">\n",
              "      <div>\n",
              "<style scoped>\n",
              "    .dataframe tbody tr th:only-of-type {\n",
              "        vertical-align: middle;\n",
              "    }\n",
              "\n",
              "    .dataframe tbody tr th {\n",
              "        vertical-align: top;\n",
              "    }\n",
              "\n",
              "    .dataframe thead th {\n",
              "        text-align: right;\n",
              "    }\n",
              "</style>\n",
              "<table border=\"1\" class=\"dataframe\">\n",
              "  <thead>\n",
              "    <tr style=\"text-align: right;\">\n",
              "      <th></th>\n",
              "      <th>docno</th>\n",
              "      <th>uttr</th>\n",
              "    </tr>\n",
              "  </thead>\n",
              "  <tbody>\n",
              "    <tr>\n",
              "      <th>0</th>\n",
              "      <td>0</td>\n",
              "      <td>You moron ! What fool washes diapers by the we...</td>\n",
              "    </tr>\n",
              "    <tr>\n",
              "      <th>1</th>\n",
              "      <td>1</td>\n",
              "      <td>You useless fool !</td>\n",
              "    </tr>\n",
              "    <tr>\n",
              "      <th>2</th>\n",
              "      <td>2</td>\n",
              "      <td>How dare you sleep !</td>\n",
              "    </tr>\n",
              "    <tr>\n",
              "      <th>3</th>\n",
              "      <td>3</td>\n",
              "      <td>Up ! Go and clean the house .</td>\n",
              "    </tr>\n",
              "    <tr>\n",
              "      <th>4</th>\n",
              "      <td>4</td>\n",
              "      <td>Clean the kitchen .</td>\n",
              "    </tr>\n",
              "    <tr>\n",
              "      <th>...</th>\n",
              "      <td>...</td>\n",
              "      <td>...</td>\n",
              "    </tr>\n",
              "    <tr>\n",
              "      <th>2829421</th>\n",
              "      <td>2829421</td>\n",
              "      <td>This is so stupid . How can I be upset over so...</td>\n",
              "    </tr>\n",
              "    <tr>\n",
              "      <th>2829422</th>\n",
              "      <td>2829422</td>\n",
              "      <td>It 's negative ?</td>\n",
              "    </tr>\n",
              "    <tr>\n",
              "      <th>2829423</th>\n",
              "      <td>2829423</td>\n",
              "      <td>No , it 's positive .</td>\n",
              "    </tr>\n",
              "    <tr>\n",
              "      <th>2829424</th>\n",
              "      <td>2829424</td>\n",
              "      <td>Thank God !</td>\n",
              "    </tr>\n",
              "    <tr>\n",
              "      <th>2829425</th>\n",
              "      <td>2829425</td>\n",
              "      <td>So tell me one of your moves .</td>\n",
              "    </tr>\n",
              "  </tbody>\n",
              "</table>\n",
              "<p>2829426 rows × 2 columns</p>\n",
              "</div>\n",
              "      <button class=\"colab-df-convert\" onclick=\"convertToInteractive('df-02c5d5d8-bddd-4c9f-94ba-231264ae1d5b')\"\n",
              "              title=\"Convert this dataframe to an interactive table.\"\n",
              "              style=\"display:none;\">\n",
              "        \n",
              "  <svg xmlns=\"http://www.w3.org/2000/svg\" height=\"24px\"viewBox=\"0 0 24 24\"\n",
              "       width=\"24px\">\n",
              "    <path d=\"M0 0h24v24H0V0z\" fill=\"none\"/>\n",
              "    <path d=\"M18.56 5.44l.94 2.06.94-2.06 2.06-.94-2.06-.94-.94-2.06-.94 2.06-2.06.94zm-11 1L8.5 8.5l.94-2.06 2.06-.94-2.06-.94L8.5 2.5l-.94 2.06-2.06.94zm10 10l.94 2.06.94-2.06 2.06-.94-2.06-.94-.94-2.06-.94 2.06-2.06.94z\"/><path d=\"M17.41 7.96l-1.37-1.37c-.4-.4-.92-.59-1.43-.59-.52 0-1.04.2-1.43.59L10.3 9.45l-7.72 7.72c-.78.78-.78 2.05 0 2.83L4 21.41c.39.39.9.59 1.41.59.51 0 1.02-.2 1.41-.59l7.78-7.78 2.81-2.81c.8-.78.8-2.07 0-2.86zM5.41 20L4 18.59l7.72-7.72 1.47 1.35L5.41 20z\"/>\n",
              "  </svg>\n",
              "      </button>\n",
              "      \n",
              "  <style>\n",
              "    .colab-df-container {\n",
              "      display:flex;\n",
              "      flex-wrap:wrap;\n",
              "      gap: 12px;\n",
              "    }\n",
              "\n",
              "    .colab-df-convert {\n",
              "      background-color: #E8F0FE;\n",
              "      border: none;\n",
              "      border-radius: 50%;\n",
              "      cursor: pointer;\n",
              "      display: none;\n",
              "      fill: #1967D2;\n",
              "      height: 32px;\n",
              "      padding: 0 0 0 0;\n",
              "      width: 32px;\n",
              "    }\n",
              "\n",
              "    .colab-df-convert:hover {\n",
              "      background-color: #E2EBFA;\n",
              "      box-shadow: 0px 1px 2px rgba(60, 64, 67, 0.3), 0px 1px 3px 1px rgba(60, 64, 67, 0.15);\n",
              "      fill: #174EA6;\n",
              "    }\n",
              "\n",
              "    [theme=dark] .colab-df-convert {\n",
              "      background-color: #3B4455;\n",
              "      fill: #D2E3FC;\n",
              "    }\n",
              "\n",
              "    [theme=dark] .colab-df-convert:hover {\n",
              "      background-color: #434B5C;\n",
              "      box-shadow: 0px 1px 3px 1px rgba(0, 0, 0, 0.15);\n",
              "      filter: drop-shadow(0px 1px 2px rgba(0, 0, 0, 0.3));\n",
              "      fill: #FFFFFF;\n",
              "    }\n",
              "  </style>\n",
              "\n",
              "      <script>\n",
              "        const buttonEl =\n",
              "          document.querySelector('#df-02c5d5d8-bddd-4c9f-94ba-231264ae1d5b button.colab-df-convert');\n",
              "        buttonEl.style.display =\n",
              "          google.colab.kernel.accessAllowed ? 'block' : 'none';\n",
              "\n",
              "        async function convertToInteractive(key) {\n",
              "          const element = document.querySelector('#df-02c5d5d8-bddd-4c9f-94ba-231264ae1d5b');\n",
              "          const dataTable =\n",
              "            await google.colab.kernel.invokeFunction('convertToInteractive',\n",
              "                                                     [key], {});\n",
              "          if (!dataTable) return;\n",
              "\n",
              "          const docLinkHtml = 'Like what you see? Visit the ' +\n",
              "            '<a target=\"_blank\" href=https://colab.research.google.com/notebooks/data_table.ipynb>data table notebook</a>'\n",
              "            + ' to learn more about interactive tables.';\n",
              "          element.innerHTML = '';\n",
              "          dataTable['output_type'] = 'display_data';\n",
              "          await google.colab.output.renderOutput(dataTable, element);\n",
              "          const docLink = document.createElement('div');\n",
              "          docLink.innerHTML = docLinkHtml;\n",
              "          element.appendChild(docLink);\n",
              "        }\n",
              "      </script>\n",
              "    </div>\n",
              "  </div>\n",
              "  "
            ]
          },
          "metadata": {},
          "execution_count": 42
        }
      ],
      "source": [
        "a = df['docno']\n",
        "b = df['uttr']\n",
        "docs_df = pd.concat([a, b], axis=1)\n",
        "docs_df"
      ],
      "id": "38bc58db"
    },
    {
      "cell_type": "code",
      "execution_count": 43,
      "metadata": {
        "colab": {
          "base_uri": "https://localhost:8080/",
          "height": 424
        },
        "id": "5a7bd10f",
        "outputId": "a8bc422b-b37a-4b8d-87bd-2167d5d552f4"
      },
      "outputs": [
        {
          "output_type": "execute_result",
          "data": {
            "text/plain": [
              "   docno                                               uttr\n",
              "0      0  You moron ! What fool washes diapers by the we...\n",
              "1      1                                 You useless fool !\n",
              "2      2                               How dare you sleep !\n",
              "3      3                      Up ! Go and clean the house .\n",
              "4      4                                Clean the kitchen .\n",
              "..   ...                                                ...\n",
              "95    95  Have you heard from Vivian ? No . But I 'm sur...\n",
              "96    96          Relax a bit . Have fun . Mingle . Drink .\n",
              "97    97  Thank you for coming , Lleó . Thanks for comin...\n",
              "98    98  I appreciate that . Gavina has broken her left...\n",
              "99    99                         I want to go to my party .\n",
              "\n",
              "[100 rows x 2 columns]"
            ],
            "text/html": [
              "\n",
              "  <div id=\"df-eaeb0ca7-f48c-4fc6-994e-021640669c87\">\n",
              "    <div class=\"colab-df-container\">\n",
              "      <div>\n",
              "<style scoped>\n",
              "    .dataframe tbody tr th:only-of-type {\n",
              "        vertical-align: middle;\n",
              "    }\n",
              "\n",
              "    .dataframe tbody tr th {\n",
              "        vertical-align: top;\n",
              "    }\n",
              "\n",
              "    .dataframe thead th {\n",
              "        text-align: right;\n",
              "    }\n",
              "</style>\n",
              "<table border=\"1\" class=\"dataframe\">\n",
              "  <thead>\n",
              "    <tr style=\"text-align: right;\">\n",
              "      <th></th>\n",
              "      <th>docno</th>\n",
              "      <th>uttr</th>\n",
              "    </tr>\n",
              "  </thead>\n",
              "  <tbody>\n",
              "    <tr>\n",
              "      <th>0</th>\n",
              "      <td>0</td>\n",
              "      <td>You moron ! What fool washes diapers by the we...</td>\n",
              "    </tr>\n",
              "    <tr>\n",
              "      <th>1</th>\n",
              "      <td>1</td>\n",
              "      <td>You useless fool !</td>\n",
              "    </tr>\n",
              "    <tr>\n",
              "      <th>2</th>\n",
              "      <td>2</td>\n",
              "      <td>How dare you sleep !</td>\n",
              "    </tr>\n",
              "    <tr>\n",
              "      <th>3</th>\n",
              "      <td>3</td>\n",
              "      <td>Up ! Go and clean the house .</td>\n",
              "    </tr>\n",
              "    <tr>\n",
              "      <th>4</th>\n",
              "      <td>4</td>\n",
              "      <td>Clean the kitchen .</td>\n",
              "    </tr>\n",
              "    <tr>\n",
              "      <th>...</th>\n",
              "      <td>...</td>\n",
              "      <td>...</td>\n",
              "    </tr>\n",
              "    <tr>\n",
              "      <th>95</th>\n",
              "      <td>95</td>\n",
              "      <td>Have you heard from Vivian ? No . But I 'm sur...</td>\n",
              "    </tr>\n",
              "    <tr>\n",
              "      <th>96</th>\n",
              "      <td>96</td>\n",
              "      <td>Relax a bit . Have fun . Mingle . Drink .</td>\n",
              "    </tr>\n",
              "    <tr>\n",
              "      <th>97</th>\n",
              "      <td>97</td>\n",
              "      <td>Thank you for coming , Lleó . Thanks for comin...</td>\n",
              "    </tr>\n",
              "    <tr>\n",
              "      <th>98</th>\n",
              "      <td>98</td>\n",
              "      <td>I appreciate that . Gavina has broken her left...</td>\n",
              "    </tr>\n",
              "    <tr>\n",
              "      <th>99</th>\n",
              "      <td>99</td>\n",
              "      <td>I want to go to my party .</td>\n",
              "    </tr>\n",
              "  </tbody>\n",
              "</table>\n",
              "<p>100 rows × 2 columns</p>\n",
              "</div>\n",
              "      <button class=\"colab-df-convert\" onclick=\"convertToInteractive('df-eaeb0ca7-f48c-4fc6-994e-021640669c87')\"\n",
              "              title=\"Convert this dataframe to an interactive table.\"\n",
              "              style=\"display:none;\">\n",
              "        \n",
              "  <svg xmlns=\"http://www.w3.org/2000/svg\" height=\"24px\"viewBox=\"0 0 24 24\"\n",
              "       width=\"24px\">\n",
              "    <path d=\"M0 0h24v24H0V0z\" fill=\"none\"/>\n",
              "    <path d=\"M18.56 5.44l.94 2.06.94-2.06 2.06-.94-2.06-.94-.94-2.06-.94 2.06-2.06.94zm-11 1L8.5 8.5l.94-2.06 2.06-.94-2.06-.94L8.5 2.5l-.94 2.06-2.06.94zm10 10l.94 2.06.94-2.06 2.06-.94-2.06-.94-.94-2.06-.94 2.06-2.06.94z\"/><path d=\"M17.41 7.96l-1.37-1.37c-.4-.4-.92-.59-1.43-.59-.52 0-1.04.2-1.43.59L10.3 9.45l-7.72 7.72c-.78.78-.78 2.05 0 2.83L4 21.41c.39.39.9.59 1.41.59.51 0 1.02-.2 1.41-.59l7.78-7.78 2.81-2.81c.8-.78.8-2.07 0-2.86zM5.41 20L4 18.59l7.72-7.72 1.47 1.35L5.41 20z\"/>\n",
              "  </svg>\n",
              "      </button>\n",
              "      \n",
              "  <style>\n",
              "    .colab-df-container {\n",
              "      display:flex;\n",
              "      flex-wrap:wrap;\n",
              "      gap: 12px;\n",
              "    }\n",
              "\n",
              "    .colab-df-convert {\n",
              "      background-color: #E8F0FE;\n",
              "      border: none;\n",
              "      border-radius: 50%;\n",
              "      cursor: pointer;\n",
              "      display: none;\n",
              "      fill: #1967D2;\n",
              "      height: 32px;\n",
              "      padding: 0 0 0 0;\n",
              "      width: 32px;\n",
              "    }\n",
              "\n",
              "    .colab-df-convert:hover {\n",
              "      background-color: #E2EBFA;\n",
              "      box-shadow: 0px 1px 2px rgba(60, 64, 67, 0.3), 0px 1px 3px 1px rgba(60, 64, 67, 0.15);\n",
              "      fill: #174EA6;\n",
              "    }\n",
              "\n",
              "    [theme=dark] .colab-df-convert {\n",
              "      background-color: #3B4455;\n",
              "      fill: #D2E3FC;\n",
              "    }\n",
              "\n",
              "    [theme=dark] .colab-df-convert:hover {\n",
              "      background-color: #434B5C;\n",
              "      box-shadow: 0px 1px 3px 1px rgba(0, 0, 0, 0.15);\n",
              "      filter: drop-shadow(0px 1px 2px rgba(0, 0, 0, 0.3));\n",
              "      fill: #FFFFFF;\n",
              "    }\n",
              "  </style>\n",
              "\n",
              "      <script>\n",
              "        const buttonEl =\n",
              "          document.querySelector('#df-eaeb0ca7-f48c-4fc6-994e-021640669c87 button.colab-df-convert');\n",
              "        buttonEl.style.display =\n",
              "          google.colab.kernel.accessAllowed ? 'block' : 'none';\n",
              "\n",
              "        async function convertToInteractive(key) {\n",
              "          const element = document.querySelector('#df-eaeb0ca7-f48c-4fc6-994e-021640669c87');\n",
              "          const dataTable =\n",
              "            await google.colab.kernel.invokeFunction('convertToInteractive',\n",
              "                                                     [key], {});\n",
              "          if (!dataTable) return;\n",
              "\n",
              "          const docLinkHtml = 'Like what you see? Visit the ' +\n",
              "            '<a target=\"_blank\" href=https://colab.research.google.com/notebooks/data_table.ipynb>data table notebook</a>'\n",
              "            + ' to learn more about interactive tables.';\n",
              "          element.innerHTML = '';\n",
              "          dataTable['output_type'] = 'display_data';\n",
              "          await google.colab.output.renderOutput(dataTable, element);\n",
              "          const docLink = document.createElement('div');\n",
              "          docLink.innerHTML = docLinkHtml;\n",
              "          element.appendChild(docLink);\n",
              "        }\n",
              "      </script>\n",
              "    </div>\n",
              "  </div>\n",
              "  "
            ]
          },
          "metadata": {},
          "execution_count": 43
        }
      ],
      "source": [
        "docs_df= docs_df[:100]\n",
        "docs_df"
      ],
      "id": "5a7bd10f"
    },
    {
      "cell_type": "code",
      "execution_count": 33,
      "metadata": {
        "id": "7fd81b21"
      },
      "outputs": [],
      "source": [
        "!pip install -q python-terrier"
      ],
      "id": "7fd81b21"
    },
    {
      "cell_type": "code",
      "execution_count": 45,
      "metadata": {
        "id": "7cfad5e4"
      },
      "outputs": [],
      "source": [
        "import pyterrier as pt\n",
        "if not pt.started():\n",
        "  pt.init()"
      ],
      "id": "7cfad5e4"
    },
    {
      "cell_type": "code",
      "execution_count": 44,
      "metadata": {
        "colab": {
          "base_uri": "https://localhost:8080/",
          "height": 70
        },
        "id": "e4adc0ad",
        "outputId": "7384b232-883b-4d01-aa5d-0604b4b7bf84"
      },
      "outputs": [
        {
          "output_type": "stream",
          "name": "stderr",
          "text": [
            "/usr/local/lib/python3.10/dist-packages/pyterrier/index.py:628: FutureWarning: iteritems is deprecated and will be removed in a future version. Use .items instead.\n",
            "  for column, value in meta_column[1].iteritems():\n"
          ]
        },
        {
          "output_type": "execute_result",
          "data": {
            "text/plain": [
              "'./index_3docs/data.properties'"
            ],
            "application/vnd.google.colaboratory.intrinsic+json": {
              "type": "string"
            }
          },
          "metadata": {},
          "execution_count": 44
        }
      ],
      "source": [
        "indexer = pt.DFIndexer(\"./index_3docs\", overwrite=True)\n",
        "index_ref = indexer.index(docs_df[\"uttr\"], docs_df[\"docno\"])\n",
        "index_ref.toString()"
      ],
      "id": "e4adc0ad"
    },
    {
      "cell_type": "code",
      "execution_count": 46,
      "metadata": {
        "colab": {
          "base_uri": "https://localhost:8080/"
        },
        "id": "c9bc9271",
        "outputId": "e41b35b1-7426-46af-c77e-8c709d0a83df"
      },
      "outputs": [
        {
          "output_type": "stream",
          "name": "stdout",
          "text": [
            "total 2.6M\n",
            "-rw-r--r-- 1 root root  455 May 21 21:01 data.direct.bf\n",
            "-rw-r--r-- 1 root root 1.7K May 21 21:01 data.document.fsarrayfile\n",
            "-rw-r--r-- 1 root root  716 May 21 21:01 data.inverted.bf\n",
            "-rw-r--r-- 1 root root  31K May 21 21:01 data.lexicon.fsomapfile\n",
            "-rw-r--r-- 1 root root  825 May 21 21:01 data.lexicon.fsomaphash\n",
            "-rw-r--r-- 1 root root 1.5K May 21 21:01 data.lexicon.fsomapid\n",
            "-rw-r--r-- 1 root root 1.1K May 21 21:01 data.meta-0.fsomapfile\n",
            "-rw-r--r-- 1 root root 508K May 21 21:00 data.meta-0.fsomapfile.1\n",
            "-rw-r--r-- 1 root root 508K May 21 21:00 data.meta-0.fsomapfile.2\n",
            "-rw-r--r-- 1 root root 508K May 21 21:00 data.meta-0.fsomapfile.3\n",
            "-rw-r--r-- 1 root root 508K May 21 21:00 data.meta-0.fsomapfile.4\n",
            "-rw-r--r-- 1 root root 508K May 21 21:00 data.meta-0.fsomapfile.5\n",
            "-rw-r--r-- 1 root root  800 May 21 21:01 data.meta.idx\n",
            "-rw-r--r-- 1 root root 1.6K May 21 21:01 data.meta.zdata\n",
            "-rw-r--r-- 1 root root 4.1K May 21 21:01 data.properties\n"
          ]
        }
      ],
      "source": [
        "!ls -lh index_3docs/"
      ],
      "id": "c9bc9271"
    },
    {
      "cell_type": "code",
      "execution_count": 47,
      "metadata": {
        "id": "5c0e28d4"
      },
      "outputs": [],
      "source": [
        "index = pt.IndexFactory.of(index_ref)"
      ],
      "id": "5c0e28d4"
    },
    {
      "cell_type": "code",
      "execution_count": 48,
      "metadata": {
        "colab": {
          "base_uri": "https://localhost:8080/"
        },
        "id": "74b41b79",
        "outputId": "e7eb999c-e8f5-4d40-8961-4f950014042e"
      },
      "outputs": [
        {
          "output_type": "stream",
          "name": "stdout",
          "text": [
            "Number of documents: 100\n",
            "Number of terms: 369\n",
            "Number of postings: 553\n",
            "Number of fields: 0\n",
            "Number of tokens: 572\n",
            "Field names: []\n",
            "Positions:   false\n",
            "\n"
          ]
        }
      ],
      "source": [
        "print(index.getCollectionStatistics().toString())"
      ],
      "id": "74b41b79"
    },
    {
      "cell_type": "code",
      "execution_count": 49,
      "metadata": {
        "colab": {
          "base_uri": "https://localhost:8080/",
          "height": 81
        },
        "id": "17356b00",
        "outputId": "4ba2c7d1-901f-403d-daed-86dbb50b9ba6"
      },
      "outputs": [
        {
          "output_type": "execute_result",
          "data": {
            "text/plain": [
              "  qid  docid docno  rank     score  query\n",
              "0   1     96    96     0  3.828918  drink"
            ],
            "text/html": [
              "\n",
              "  <div id=\"df-3aeaf573-6be3-473c-9948-0f6246bb9fc6\">\n",
              "    <div class=\"colab-df-container\">\n",
              "      <div>\n",
              "<style scoped>\n",
              "    .dataframe tbody tr th:only-of-type {\n",
              "        vertical-align: middle;\n",
              "    }\n",
              "\n",
              "    .dataframe tbody tr th {\n",
              "        vertical-align: top;\n",
              "    }\n",
              "\n",
              "    .dataframe thead th {\n",
              "        text-align: right;\n",
              "    }\n",
              "</style>\n",
              "<table border=\"1\" class=\"dataframe\">\n",
              "  <thead>\n",
              "    <tr style=\"text-align: right;\">\n",
              "      <th></th>\n",
              "      <th>qid</th>\n",
              "      <th>docid</th>\n",
              "      <th>docno</th>\n",
              "      <th>rank</th>\n",
              "      <th>score</th>\n",
              "      <th>query</th>\n",
              "    </tr>\n",
              "  </thead>\n",
              "  <tbody>\n",
              "    <tr>\n",
              "      <th>0</th>\n",
              "      <td>1</td>\n",
              "      <td>96</td>\n",
              "      <td>96</td>\n",
              "      <td>0</td>\n",
              "      <td>3.828918</td>\n",
              "      <td>drink</td>\n",
              "    </tr>\n",
              "  </tbody>\n",
              "</table>\n",
              "</div>\n",
              "      <button class=\"colab-df-convert\" onclick=\"convertToInteractive('df-3aeaf573-6be3-473c-9948-0f6246bb9fc6')\"\n",
              "              title=\"Convert this dataframe to an interactive table.\"\n",
              "              style=\"display:none;\">\n",
              "        \n",
              "  <svg xmlns=\"http://www.w3.org/2000/svg\" height=\"24px\"viewBox=\"0 0 24 24\"\n",
              "       width=\"24px\">\n",
              "    <path d=\"M0 0h24v24H0V0z\" fill=\"none\"/>\n",
              "    <path d=\"M18.56 5.44l.94 2.06.94-2.06 2.06-.94-2.06-.94-.94-2.06-.94 2.06-2.06.94zm-11 1L8.5 8.5l.94-2.06 2.06-.94-2.06-.94L8.5 2.5l-.94 2.06-2.06.94zm10 10l.94 2.06.94-2.06 2.06-.94-2.06-.94-.94-2.06-.94 2.06-2.06.94z\"/><path d=\"M17.41 7.96l-1.37-1.37c-.4-.4-.92-.59-1.43-.59-.52 0-1.04.2-1.43.59L10.3 9.45l-7.72 7.72c-.78.78-.78 2.05 0 2.83L4 21.41c.39.39.9.59 1.41.59.51 0 1.02-.2 1.41-.59l7.78-7.78 2.81-2.81c.8-.78.8-2.07 0-2.86zM5.41 20L4 18.59l7.72-7.72 1.47 1.35L5.41 20z\"/>\n",
              "  </svg>\n",
              "      </button>\n",
              "      \n",
              "  <style>\n",
              "    .colab-df-container {\n",
              "      display:flex;\n",
              "      flex-wrap:wrap;\n",
              "      gap: 12px;\n",
              "    }\n",
              "\n",
              "    .colab-df-convert {\n",
              "      background-color: #E8F0FE;\n",
              "      border: none;\n",
              "      border-radius: 50%;\n",
              "      cursor: pointer;\n",
              "      display: none;\n",
              "      fill: #1967D2;\n",
              "      height: 32px;\n",
              "      padding: 0 0 0 0;\n",
              "      width: 32px;\n",
              "    }\n",
              "\n",
              "    .colab-df-convert:hover {\n",
              "      background-color: #E2EBFA;\n",
              "      box-shadow: 0px 1px 2px rgba(60, 64, 67, 0.3), 0px 1px 3px 1px rgba(60, 64, 67, 0.15);\n",
              "      fill: #174EA6;\n",
              "    }\n",
              "\n",
              "    [theme=dark] .colab-df-convert {\n",
              "      background-color: #3B4455;\n",
              "      fill: #D2E3FC;\n",
              "    }\n",
              "\n",
              "    [theme=dark] .colab-df-convert:hover {\n",
              "      background-color: #434B5C;\n",
              "      box-shadow: 0px 1px 3px 1px rgba(0, 0, 0, 0.15);\n",
              "      filter: drop-shadow(0px 1px 2px rgba(0, 0, 0, 0.3));\n",
              "      fill: #FFFFFF;\n",
              "    }\n",
              "  </style>\n",
              "\n",
              "      <script>\n",
              "        const buttonEl =\n",
              "          document.querySelector('#df-3aeaf573-6be3-473c-9948-0f6246bb9fc6 button.colab-df-convert');\n",
              "        buttonEl.style.display =\n",
              "          google.colab.kernel.accessAllowed ? 'block' : 'none';\n",
              "\n",
              "        async function convertToInteractive(key) {\n",
              "          const element = document.querySelector('#df-3aeaf573-6be3-473c-9948-0f6246bb9fc6');\n",
              "          const dataTable =\n",
              "            await google.colab.kernel.invokeFunction('convertToInteractive',\n",
              "                                                     [key], {});\n",
              "          if (!dataTable) return;\n",
              "\n",
              "          const docLinkHtml = 'Like what you see? Visit the ' +\n",
              "            '<a target=\"_blank\" href=https://colab.research.google.com/notebooks/data_table.ipynb>data table notebook</a>'\n",
              "            + ' to learn more about interactive tables.';\n",
              "          element.innerHTML = '';\n",
              "          dataTable['output_type'] = 'display_data';\n",
              "          await google.colab.output.renderOutput(dataTable, element);\n",
              "          const docLink = document.createElement('div');\n",
              "          docLink.innerHTML = docLinkHtml;\n",
              "          element.appendChild(docLink);\n",
              "        }\n",
              "      </script>\n",
              "    </div>\n",
              "  </div>\n",
              "  "
            ]
          },
          "metadata": {},
          "execution_count": 49
        }
      ],
      "source": [
        "query = \"drink\"\n",
        "\n",
        "br = pt.BatchRetrieve(index, wmodel=\"TF_IDF\")\n",
        "br.search(query)"
      ],
      "id": "17356b00"
    },
    {
      "cell_type": "markdown",
      "metadata": {
        "id": "OoGE1vghMugZ"
      },
      "source": [
        "multiple search"
      ],
      "id": "OoGE1vghMugZ"
    },
    {
      "cell_type": "code",
      "execution_count": 50,
      "metadata": {
        "colab": {
          "base_uri": "https://localhost:8080/",
          "height": 269
        },
        "id": "2226cd98",
        "outputId": "eb8575fc-5839-49da-a6ff-a4cd66eb84e3"
      },
      "outputs": [
        {
          "output_type": "execute_result",
          "data": {
            "text/plain": [
              "      qid  docid docno  rank     score    query\n",
              "0  query1      3     3     0  3.493267    Clean\n",
              "1  query1      4     4     1  3.493267    Clean\n",
              "2  query1      5     5     2  2.923507    Clean\n",
              "3  query1     76    76     3  1.477552    Clean\n",
              "4  query2      4     4     0  4.215627  kitchen\n",
              "5  query2      5     5     1  3.528047  kitchen\n",
              "6  query3     98    98     0  3.122572   broken"
            ],
            "text/html": [
              "\n",
              "  <div id=\"df-5af423f5-a4f1-49be-b5d4-e42b16403e80\">\n",
              "    <div class=\"colab-df-container\">\n",
              "      <div>\n",
              "<style scoped>\n",
              "    .dataframe tbody tr th:only-of-type {\n",
              "        vertical-align: middle;\n",
              "    }\n",
              "\n",
              "    .dataframe tbody tr th {\n",
              "        vertical-align: top;\n",
              "    }\n",
              "\n",
              "    .dataframe thead th {\n",
              "        text-align: right;\n",
              "    }\n",
              "</style>\n",
              "<table border=\"1\" class=\"dataframe\">\n",
              "  <thead>\n",
              "    <tr style=\"text-align: right;\">\n",
              "      <th></th>\n",
              "      <th>qid</th>\n",
              "      <th>docid</th>\n",
              "      <th>docno</th>\n",
              "      <th>rank</th>\n",
              "      <th>score</th>\n",
              "      <th>query</th>\n",
              "    </tr>\n",
              "  </thead>\n",
              "  <tbody>\n",
              "    <tr>\n",
              "      <th>0</th>\n",
              "      <td>query1</td>\n",
              "      <td>3</td>\n",
              "      <td>3</td>\n",
              "      <td>0</td>\n",
              "      <td>3.493267</td>\n",
              "      <td>Clean</td>\n",
              "    </tr>\n",
              "    <tr>\n",
              "      <th>1</th>\n",
              "      <td>query1</td>\n",
              "      <td>4</td>\n",
              "      <td>4</td>\n",
              "      <td>1</td>\n",
              "      <td>3.493267</td>\n",
              "      <td>Clean</td>\n",
              "    </tr>\n",
              "    <tr>\n",
              "      <th>2</th>\n",
              "      <td>query1</td>\n",
              "      <td>5</td>\n",
              "      <td>5</td>\n",
              "      <td>2</td>\n",
              "      <td>2.923507</td>\n",
              "      <td>Clean</td>\n",
              "    </tr>\n",
              "    <tr>\n",
              "      <th>3</th>\n",
              "      <td>query1</td>\n",
              "      <td>76</td>\n",
              "      <td>76</td>\n",
              "      <td>3</td>\n",
              "      <td>1.477552</td>\n",
              "      <td>Clean</td>\n",
              "    </tr>\n",
              "    <tr>\n",
              "      <th>4</th>\n",
              "      <td>query2</td>\n",
              "      <td>4</td>\n",
              "      <td>4</td>\n",
              "      <td>0</td>\n",
              "      <td>4.215627</td>\n",
              "      <td>kitchen</td>\n",
              "    </tr>\n",
              "    <tr>\n",
              "      <th>5</th>\n",
              "      <td>query2</td>\n",
              "      <td>5</td>\n",
              "      <td>5</td>\n",
              "      <td>1</td>\n",
              "      <td>3.528047</td>\n",
              "      <td>kitchen</td>\n",
              "    </tr>\n",
              "    <tr>\n",
              "      <th>6</th>\n",
              "      <td>query3</td>\n",
              "      <td>98</td>\n",
              "      <td>98</td>\n",
              "      <td>0</td>\n",
              "      <td>3.122572</td>\n",
              "      <td>broken</td>\n",
              "    </tr>\n",
              "  </tbody>\n",
              "</table>\n",
              "</div>\n",
              "      <button class=\"colab-df-convert\" onclick=\"convertToInteractive('df-5af423f5-a4f1-49be-b5d4-e42b16403e80')\"\n",
              "              title=\"Convert this dataframe to an interactive table.\"\n",
              "              style=\"display:none;\">\n",
              "        \n",
              "  <svg xmlns=\"http://www.w3.org/2000/svg\" height=\"24px\"viewBox=\"0 0 24 24\"\n",
              "       width=\"24px\">\n",
              "    <path d=\"M0 0h24v24H0V0z\" fill=\"none\"/>\n",
              "    <path d=\"M18.56 5.44l.94 2.06.94-2.06 2.06-.94-2.06-.94-.94-2.06-.94 2.06-2.06.94zm-11 1L8.5 8.5l.94-2.06 2.06-.94-2.06-.94L8.5 2.5l-.94 2.06-2.06.94zm10 10l.94 2.06.94-2.06 2.06-.94-2.06-.94-.94-2.06-.94 2.06-2.06.94z\"/><path d=\"M17.41 7.96l-1.37-1.37c-.4-.4-.92-.59-1.43-.59-.52 0-1.04.2-1.43.59L10.3 9.45l-7.72 7.72c-.78.78-.78 2.05 0 2.83L4 21.41c.39.39.9.59 1.41.59.51 0 1.02-.2 1.41-.59l7.78-7.78 2.81-2.81c.8-.78.8-2.07 0-2.86zM5.41 20L4 18.59l7.72-7.72 1.47 1.35L5.41 20z\"/>\n",
              "  </svg>\n",
              "      </button>\n",
              "      \n",
              "  <style>\n",
              "    .colab-df-container {\n",
              "      display:flex;\n",
              "      flex-wrap:wrap;\n",
              "      gap: 12px;\n",
              "    }\n",
              "\n",
              "    .colab-df-convert {\n",
              "      background-color: #E8F0FE;\n",
              "      border: none;\n",
              "      border-radius: 50%;\n",
              "      cursor: pointer;\n",
              "      display: none;\n",
              "      fill: #1967D2;\n",
              "      height: 32px;\n",
              "      padding: 0 0 0 0;\n",
              "      width: 32px;\n",
              "    }\n",
              "\n",
              "    .colab-df-convert:hover {\n",
              "      background-color: #E2EBFA;\n",
              "      box-shadow: 0px 1px 2px rgba(60, 64, 67, 0.3), 0px 1px 3px 1px rgba(60, 64, 67, 0.15);\n",
              "      fill: #174EA6;\n",
              "    }\n",
              "\n",
              "    [theme=dark] .colab-df-convert {\n",
              "      background-color: #3B4455;\n",
              "      fill: #D2E3FC;\n",
              "    }\n",
              "\n",
              "    [theme=dark] .colab-df-convert:hover {\n",
              "      background-color: #434B5C;\n",
              "      box-shadow: 0px 1px 3px 1px rgba(0, 0, 0, 0.15);\n",
              "      filter: drop-shadow(0px 1px 2px rgba(0, 0, 0, 0.3));\n",
              "      fill: #FFFFFF;\n",
              "    }\n",
              "  </style>\n",
              "\n",
              "      <script>\n",
              "        const buttonEl =\n",
              "          document.querySelector('#df-5af423f5-a4f1-49be-b5d4-e42b16403e80 button.colab-df-convert');\n",
              "        buttonEl.style.display =\n",
              "          google.colab.kernel.accessAllowed ? 'block' : 'none';\n",
              "\n",
              "        async function convertToInteractive(key) {\n",
              "          const element = document.querySelector('#df-5af423f5-a4f1-49be-b5d4-e42b16403e80');\n",
              "          const dataTable =\n",
              "            await google.colab.kernel.invokeFunction('convertToInteractive',\n",
              "                                                     [key], {});\n",
              "          if (!dataTable) return;\n",
              "\n",
              "          const docLinkHtml = 'Like what you see? Visit the ' +\n",
              "            '<a target=\"_blank\" href=https://colab.research.google.com/notebooks/data_table.ipynb>data table notebook</a>'\n",
              "            + ' to learn more about interactive tables.';\n",
              "          element.innerHTML = '';\n",
              "          dataTable['output_type'] = 'display_data';\n",
              "          await google.colab.output.renderOutput(dataTable, element);\n",
              "          const docLink = document.createElement('div');\n",
              "          docLink.innerHTML = docLinkHtml;\n",
              "          element.appendChild(docLink);\n",
              "        }\n",
              "      </script>\n",
              "    </div>\n",
              "  </div>\n",
              "  "
            ]
          },
          "metadata": {},
          "execution_count": 50
        }
      ],
      "source": [
        "queries = pd.DataFrame([[\"query1\", \"Clean\"], [\"query2\", \"kitchen\"], [\"query3\", \"broken\"]], columns=[\"qid\", \"query\"])\n",
        "br(queries)"
      ],
      "id": "2226cd98"
    },
    {
      "cell_type": "markdown",
      "metadata": {
        "id": "zcFmnwmHSCrU"
      },
      "source": [
        "# CLUSTERING\n",
        "\n",
        "> Indented block\n",
        "\n"
      ],
      "id": "zcFmnwmHSCrU"
    },
    {
      "cell_type": "code",
      "execution_count": null,
      "metadata": {
        "id": "IgE1INccSH6z"
      },
      "outputs": [],
      "source": [
        "from sklearn.feature_extraction.text import TfidfVectorizer\n",
        "\n",
        "vectorizer = TfidfVectorizer(max_df=0.8, min_df=5, stop_words='english') #now we create an istance of the object TfidfVectorizer -> and then we give as argument to this object our documents\n",
        "#we remove stopwords and the words that are very frequent in our dataset\n",
        "#we need to convert all the string into vectors (we use ft-idf)"
      ],
      "id": "IgE1INccSH6z"
    },
    {
      "cell_type": "code",
      "execution_count": null,
      "metadata": {
        "colab": {
          "base_uri": "https://localhost:8080/",
          "height": 74
        },
        "id": "XzjpmhfsSIBy",
        "outputId": "28a30b6a-6544-4b01-d8f8-7961af3aed01"
      },
      "outputs": [
        {
          "data": {
            "text/html": [
              "<style>#sk-container-id-2 {color: black;background-color: white;}#sk-container-id-2 pre{padding: 0;}#sk-container-id-2 div.sk-toggleable {background-color: white;}#sk-container-id-2 label.sk-toggleable__label {cursor: pointer;display: block;width: 100%;margin-bottom: 0;padding: 0.3em;box-sizing: border-box;text-align: center;}#sk-container-id-2 label.sk-toggleable__label-arrow:before {content: \"▸\";float: left;margin-right: 0.25em;color: #696969;}#sk-container-id-2 label.sk-toggleable__label-arrow:hover:before {color: black;}#sk-container-id-2 div.sk-estimator:hover label.sk-toggleable__label-arrow:before {color: black;}#sk-container-id-2 div.sk-toggleable__content {max-height: 0;max-width: 0;overflow: hidden;text-align: left;background-color: #f0f8ff;}#sk-container-id-2 div.sk-toggleable__content pre {margin: 0.2em;color: black;border-radius: 0.25em;background-color: #f0f8ff;}#sk-container-id-2 input.sk-toggleable__control:checked~div.sk-toggleable__content {max-height: 200px;max-width: 100%;overflow: auto;}#sk-container-id-2 input.sk-toggleable__control:checked~label.sk-toggleable__label-arrow:before {content: \"▾\";}#sk-container-id-2 div.sk-estimator input.sk-toggleable__control:checked~label.sk-toggleable__label {background-color: #d4ebff;}#sk-container-id-2 div.sk-label input.sk-toggleable__control:checked~label.sk-toggleable__label {background-color: #d4ebff;}#sk-container-id-2 input.sk-hidden--visually {border: 0;clip: rect(1px 1px 1px 1px);clip: rect(1px, 1px, 1px, 1px);height: 1px;margin: -1px;overflow: hidden;padding: 0;position: absolute;width: 1px;}#sk-container-id-2 div.sk-estimator {font-family: monospace;background-color: #f0f8ff;border: 1px dotted black;border-radius: 0.25em;box-sizing: border-box;margin-bottom: 0.5em;}#sk-container-id-2 div.sk-estimator:hover {background-color: #d4ebff;}#sk-container-id-2 div.sk-parallel-item::after {content: \"\";width: 100%;border-bottom: 1px solid gray;flex-grow: 1;}#sk-container-id-2 div.sk-label:hover label.sk-toggleable__label {background-color: #d4ebff;}#sk-container-id-2 div.sk-serial::before {content: \"\";position: absolute;border-left: 1px solid gray;box-sizing: border-box;top: 0;bottom: 0;left: 50%;z-index: 0;}#sk-container-id-2 div.sk-serial {display: flex;flex-direction: column;align-items: center;background-color: white;padding-right: 0.2em;padding-left: 0.2em;position: relative;}#sk-container-id-2 div.sk-item {position: relative;z-index: 1;}#sk-container-id-2 div.sk-parallel {display: flex;align-items: stretch;justify-content: center;background-color: white;position: relative;}#sk-container-id-2 div.sk-item::before, #sk-container-id-2 div.sk-parallel-item::before {content: \"\";position: absolute;border-left: 1px solid gray;box-sizing: border-box;top: 0;bottom: 0;left: 50%;z-index: -1;}#sk-container-id-2 div.sk-parallel-item {display: flex;flex-direction: column;z-index: 1;position: relative;background-color: white;}#sk-container-id-2 div.sk-parallel-item:first-child::after {align-self: flex-end;width: 50%;}#sk-container-id-2 div.sk-parallel-item:last-child::after {align-self: flex-start;width: 50%;}#sk-container-id-2 div.sk-parallel-item:only-child::after {width: 0;}#sk-container-id-2 div.sk-dashed-wrapped {border: 1px dashed gray;margin: 0 0.4em 0.5em 0.4em;box-sizing: border-box;padding-bottom: 0.4em;background-color: white;}#sk-container-id-2 div.sk-label label {font-family: monospace;font-weight: bold;display: inline-block;line-height: 1.2em;}#sk-container-id-2 div.sk-label-container {text-align: center;}#sk-container-id-2 div.sk-container {/* jupyter's `normalize.less` sets `[hidden] { display: none; }` but bootstrap.min.css set `[hidden] { display: none !important; }` so we also need the `!important` here to be able to override the default hidden behavior on the sphinx rendered scikit-learn.org. See: https://github.com/scikit-learn/scikit-learn/issues/21755 */display: inline-block !important;position: relative;}#sk-container-id-2 div.sk-text-repr-fallback {display: none;}</style><div id=\"sk-container-id-2\" class=\"sk-top-container\"><div class=\"sk-text-repr-fallback\"><pre>TfidfVectorizer(max_df=0.8, min_df=5, stop_words=&#x27;english&#x27;)</pre><b>In a Jupyter environment, please rerun this cell to show the HTML representation or trust the notebook. <br />On GitHub, the HTML representation is unable to render, please try loading this page with nbviewer.org.</b></div><div class=\"sk-container\" hidden><div class=\"sk-item\"><div class=\"sk-estimator sk-toggleable\"><input class=\"sk-toggleable__control sk-hidden--visually\" id=\"sk-estimator-id-2\" type=\"checkbox\" checked><label for=\"sk-estimator-id-2\" class=\"sk-toggleable__label sk-toggleable__label-arrow\">TfidfVectorizer</label><div class=\"sk-toggleable__content\"><pre>TfidfVectorizer(max_df=0.8, min_df=5, stop_words=&#x27;english&#x27;)</pre></div></div></div></div></div>"
            ],
            "text/plain": [
              "TfidfVectorizer(max_df=0.8, min_df=5, stop_words='english')"
            ]
          },
          "execution_count": 37,
          "metadata": {},
          "output_type": "execute_result"
        }
      ],
      "source": [
        "vectorizer.fit(sentence) #give our docuemnt as argument to the instance of TfidfVectorizer\n",
        "#Nb the documents is a list of string that have only the headline and a small description, so we use these information about the documents in order to create the different vectors\n",
        "#we are creating the vectors using the TF-IDF -> so at the end we have vecotrs long as the vocabulary (sparse vector)"
      ],
      "id": "XzjpmhfsSIBy"
    },
    {
      "cell_type": "code",
      "execution_count": null,
      "metadata": {
        "colab": {
          "base_uri": "https://localhost:8080/"
        },
        "id": "u3qRjXmpSIE1",
        "outputId": "9d80a5dc-4e9b-43a6-f1c6-2b96095ae501"
      },
      "outputs": [
        {
          "name": "stdout",
          "output_type": "stream",
          "text": [
            "Length of vocabulary: 58865\n"
          ]
        }
      ],
      "source": [
        "vocab = vectorizer.get_feature_names_out()\n",
        "\n",
        "print(f\"Length of vocabulary: {len(vocab)}\")"
      ],
      "id": "u3qRjXmpSIE1"
    },
    {
      "cell_type": "code",
      "execution_count": null,
      "metadata": {
        "colab": {
          "base_uri": "https://localhost:8080/"
        },
        "id": "sFT-X7qRSIHq",
        "outputId": "2f102f7c-c4e7-487b-fb68-eb691b9db01c"
      },
      "outputs": [
        {
          "data": {
            "text/plain": [
              "['155',\n",
              " 'admirers',\n",
              " 'adoring',\n",
              " 'affirmative',\n",
              " 'appel',\n",
              " 'arch',\n",
              " 'aster',\n",
              " 'avila',\n",
              " 'beaner',\n",
              " 'bernardy',\n",
              " 'boarded',\n",
              " 'brachial',\n",
              " 'breastfeeding',\n",
              " 'brownish',\n",
              " 'bumblebee',\n",
              " 'cell',\n",
              " 'cervical',\n",
              " 'chipper',\n",
              " 'compartment',\n",
              " 'danni',\n",
              " 'delko',\n",
              " 'denzel',\n",
              " 'dermal',\n",
              " 'dianne',\n",
              " 'dip',\n",
              " 'discerning',\n",
              " 'dobbs',\n",
              " 'domestic',\n",
              " 'donatello',\n",
              " 'dresser',\n",
              " 'druggies',\n",
              " 'eleuterio',\n",
              " 'ensure',\n",
              " 'expectations',\n",
              " 'fawlty',\n",
              " 'filler',\n",
              " 'fitzy',\n",
              " 'fondle',\n",
              " 'frigg',\n",
              " 'gatwick',\n",
              " 'gennaro',\n",
              " 'gentlest',\n",
              " 'guilala',\n",
              " 'heeey',\n",
              " 'heights',\n",
              " 'innovative',\n",
              " 'jinmo',\n",
              " 'juanito',\n",
              " 'kaiten',\n",
              " 'kinfolk',\n",
              " 'kranz',\n",
              " 'laerte',\n",
              " 'lois',\n",
              " 'lowen',\n",
              " 'lucilla',\n",
              " 'martens',\n",
              " 'mattias',\n",
              " 'mediterranean',\n",
              " 'millisecond',\n",
              " 'mistakes',\n",
              " 'nakrang',\n",
              " 'necklace',\n",
              " 'patronizing',\n",
              " 'pense',\n",
              " 'perils',\n",
              " 'perverts',\n",
              " 'pistol',\n",
              " 'planner',\n",
              " 'plead',\n",
              " 'poncho',\n",
              " 'pound',\n",
              " 'quickie',\n",
              " 'quotation',\n",
              " 'ritsuko',\n",
              " 'roosters',\n",
              " 'selects',\n",
              " 'sen',\n",
              " 'shareholders',\n",
              " 'sith',\n",
              " 'sj',\n",
              " 'song',\n",
              " 'sparkhill',\n",
              " 'squealing',\n",
              " 'stableman',\n",
              " 'synthetics',\n",
              " 'takayama',\n",
              " 'tangle',\n",
              " 'tells',\n",
              " 'thirties',\n",
              " 'thrower',\n",
              " 'tombs',\n",
              " 'toshiko',\n",
              " 'trends',\n",
              " 'ujirareteru',\n",
              " 'uplink',\n",
              " 'upriver',\n",
              " 'velasco',\n",
              " 'vilest',\n",
              " 'winding',\n",
              " 'wow']"
            ]
          },
          "execution_count": 39,
          "metadata": {},
          "output_type": "execute_result"
        }
      ],
      "source": [
        "import random\n",
        "\n",
        "sorted(random.sample(vocab.tolist(),100))"
      ],
      "id": "sFT-X7qRSIHq"
    },
    {
      "cell_type": "code",
      "execution_count": null,
      "metadata": {
        "colab": {
          "base_uri": "https://localhost:8080/"
        },
        "id": "MQ_OuBt_qAko",
        "outputId": "d47807ad-2a69-4349-eb0e-7bd11c6eecba"
      },
      "outputs": [
        {
          "data": {
            "text/plain": [
              "<2829426x58865 sparse matrix of type '<class 'numpy.float64'>'\n",
              "\twith 12265019 stored elements in Compressed Sparse Row format>"
            ]
          },
          "execution_count": 40,
          "metadata": {},
          "output_type": "execute_result"
        }
      ],
      "source": [
        "vector_documents = vectorizer.transform(sentence)\n",
        "vector_documents"
      ],
      "id": "MQ_OuBt_qAko"
    },
    {
      "cell_type": "markdown",
      "metadata": {
        "id": "zTMAzp7Fqiit"
      },
      "source": [
        "#### TODO\n",
        "we can check the similarity between different sentence as done in the lab #4"
      ],
      "id": "zTMAzp7Fqiit"
    },
    {
      "cell_type": "code",
      "execution_count": null,
      "metadata": {
        "colab": {
          "base_uri": "https://localhost:8080/",
          "height": 1000
        },
        "id": "vbloqqbjqAnR",
        "outputId": "7becc8d1-3fb9-43e2-ce93-22c5f87595cc"
      },
      "outputs": [
        {
          "name": "stdout",
          "output_type": "stream",
          "text": [
            "Initialization complete\n",
            "Iteration 0, inertia 2699358.052633195.\n",
            "Iteration 1, inertia 2639353.495766778.\n",
            "Iteration 2, inertia 2600100.1391102467.\n",
            "Iteration 3, inertia 2586734.494493982.\n",
            "Iteration 4, inertia 2583922.789649324.\n",
            "Iteration 5, inertia 2582709.106069252.\n",
            "Iteration 6, inertia 2580455.1929944293.\n",
            "Iteration 7, inertia 2576928.2096156953.\n",
            "Iteration 8, inertia 2575527.0225158287.\n",
            "Iteration 9, inertia 2575121.0657151323.\n",
            "Iteration 10, inertia 2575026.85006396.\n",
            "Iteration 11, inertia 2575014.231133117.\n",
            "Iteration 12, inertia 2575007.6739331214.\n",
            "Iteration 13, inertia 2575002.922550467.\n",
            "Iteration 14, inertia 2574999.159702227.\n",
            "Iteration 15, inertia 2574996.3648125585.\n",
            "Iteration 16, inertia 2574994.4082504795.\n",
            "Iteration 17, inertia 2574993.0850976333.\n",
            "Iteration 18, inertia 2574992.1760235038.\n",
            "Iteration 19, inertia 2574991.5161875375.\n",
            "Iteration 20, inertia 2574991.0637949966.\n",
            "Iteration 21, inertia 2574990.762034864.\n",
            "Iteration 22, inertia 2574990.5275559407.\n",
            "Iteration 23, inertia 2574990.392820391.\n",
            "Iteration 24, inertia 2574990.3155407943.\n",
            "Iteration 25, inertia 2574990.2701061564.\n",
            "Iteration 26, inertia 2574990.2414310775.\n",
            "Iteration 27, inertia 2574990.218727884.\n",
            "Iteration 28, inertia 2574990.203956113.\n",
            "Iteration 29, inertia 2574990.196809261.\n",
            "Iteration 30, inertia 2574990.191822011.\n",
            "Iteration 31, inertia 2574990.1888171653.\n",
            "Iteration 32, inertia 2574990.1857676823.\n",
            "Iteration 33, inertia 2574990.1837916244.\n",
            "Iteration 34, inertia 2574990.1824101363.\n",
            "Iteration 35, inertia 2574990.1818976416.\n",
            "Iteration 36, inertia 2574990.1815820946.\n",
            "Iteration 37, inertia 2574990.181356053.\n",
            "Converged at iteration 37: center shift 9.73426707579492e-10 within tolerance 1.6426160339238305e-09.\n",
            "Initialization complete\n",
            "Iteration 0, inertia 2692986.245192756.\n",
            "Iteration 1, inertia 2613017.620263259.\n",
            "Iteration 2, inertia 2580224.212178046.\n",
            "Iteration 3, inertia 2570025.081771328.\n",
            "Iteration 4, inertia 2565854.0432425346.\n",
            "Iteration 5, inertia 2561651.859143555.\n",
            "Iteration 6, inertia 2560325.5749687525.\n",
            "Iteration 7, inertia 2560206.2096880637.\n",
            "Iteration 8, inertia 2560176.6280290512.\n",
            "Iteration 9, inertia 2560146.5208194796.\n",
            "Iteration 10, inertia 2560102.6005151607.\n",
            "Iteration 11, inertia 2560018.856374848.\n",
            "Iteration 12, inertia 2559948.7423866456.\n",
            "Iteration 13, inertia 2559947.4673403306.\n",
            "Iteration 14, inertia 2559947.3336689835.\n",
            "Iteration 15, inertia 2559947.3037500842.\n",
            "Iteration 16, inertia 2559947.298594865.\n",
            "Iteration 17, inertia 2559947.2967130044.\n",
            "Iteration 18, inertia 2559947.295835359.\n",
            "Iteration 19, inertia 2559947.2954281.\n",
            "Iteration 20, inertia 2559947.2952015325.\n",
            "Converged at iteration 20: center shift 9.305189204391963e-10 within tolerance 1.6426160339238305e-09.\n"
          ]
        },
        {
          "data": {
            "text/html": [
              "<style>#sk-container-id-3 {color: black;background-color: white;}#sk-container-id-3 pre{padding: 0;}#sk-container-id-3 div.sk-toggleable {background-color: white;}#sk-container-id-3 label.sk-toggleable__label {cursor: pointer;display: block;width: 100%;margin-bottom: 0;padding: 0.3em;box-sizing: border-box;text-align: center;}#sk-container-id-3 label.sk-toggleable__label-arrow:before {content: \"▸\";float: left;margin-right: 0.25em;color: #696969;}#sk-container-id-3 label.sk-toggleable__label-arrow:hover:before {color: black;}#sk-container-id-3 div.sk-estimator:hover label.sk-toggleable__label-arrow:before {color: black;}#sk-container-id-3 div.sk-toggleable__content {max-height: 0;max-width: 0;overflow: hidden;text-align: left;background-color: #f0f8ff;}#sk-container-id-3 div.sk-toggleable__content pre {margin: 0.2em;color: black;border-radius: 0.25em;background-color: #f0f8ff;}#sk-container-id-3 input.sk-toggleable__control:checked~div.sk-toggleable__content {max-height: 200px;max-width: 100%;overflow: auto;}#sk-container-id-3 input.sk-toggleable__control:checked~label.sk-toggleable__label-arrow:before {content: \"▾\";}#sk-container-id-3 div.sk-estimator input.sk-toggleable__control:checked~label.sk-toggleable__label {background-color: #d4ebff;}#sk-container-id-3 div.sk-label input.sk-toggleable__control:checked~label.sk-toggleable__label {background-color: #d4ebff;}#sk-container-id-3 input.sk-hidden--visually {border: 0;clip: rect(1px 1px 1px 1px);clip: rect(1px, 1px, 1px, 1px);height: 1px;margin: -1px;overflow: hidden;padding: 0;position: absolute;width: 1px;}#sk-container-id-3 div.sk-estimator {font-family: monospace;background-color: #f0f8ff;border: 1px dotted black;border-radius: 0.25em;box-sizing: border-box;margin-bottom: 0.5em;}#sk-container-id-3 div.sk-estimator:hover {background-color: #d4ebff;}#sk-container-id-3 div.sk-parallel-item::after {content: \"\";width: 100%;border-bottom: 1px solid gray;flex-grow: 1;}#sk-container-id-3 div.sk-label:hover label.sk-toggleable__label {background-color: #d4ebff;}#sk-container-id-3 div.sk-serial::before {content: \"\";position: absolute;border-left: 1px solid gray;box-sizing: border-box;top: 0;bottom: 0;left: 50%;z-index: 0;}#sk-container-id-3 div.sk-serial {display: flex;flex-direction: column;align-items: center;background-color: white;padding-right: 0.2em;padding-left: 0.2em;position: relative;}#sk-container-id-3 div.sk-item {position: relative;z-index: 1;}#sk-container-id-3 div.sk-parallel {display: flex;align-items: stretch;justify-content: center;background-color: white;position: relative;}#sk-container-id-3 div.sk-item::before, #sk-container-id-3 div.sk-parallel-item::before {content: \"\";position: absolute;border-left: 1px solid gray;box-sizing: border-box;top: 0;bottom: 0;left: 50%;z-index: -1;}#sk-container-id-3 div.sk-parallel-item {display: flex;flex-direction: column;z-index: 1;position: relative;background-color: white;}#sk-container-id-3 div.sk-parallel-item:first-child::after {align-self: flex-end;width: 50%;}#sk-container-id-3 div.sk-parallel-item:last-child::after {align-self: flex-start;width: 50%;}#sk-container-id-3 div.sk-parallel-item:only-child::after {width: 0;}#sk-container-id-3 div.sk-dashed-wrapped {border: 1px dashed gray;margin: 0 0.4em 0.5em 0.4em;box-sizing: border-box;padding-bottom: 0.4em;background-color: white;}#sk-container-id-3 div.sk-label label {font-family: monospace;font-weight: bold;display: inline-block;line-height: 1.2em;}#sk-container-id-3 div.sk-label-container {text-align: center;}#sk-container-id-3 div.sk-container {/* jupyter's `normalize.less` sets `[hidden] { display: none; }` but bootstrap.min.css set `[hidden] { display: none !important; }` so we also need the `!important` here to be able to override the default hidden behavior on the sphinx rendered scikit-learn.org. See: https://github.com/scikit-learn/scikit-learn/issues/21755 */display: inline-block !important;position: relative;}#sk-container-id-3 div.sk-text-repr-fallback {display: none;}</style><div id=\"sk-container-id-3\" class=\"sk-top-container\"><div class=\"sk-text-repr-fallback\"><pre>KMeans(max_iter=100, n_clusters=41, n_init=2, random_state=2307, verbose=True)</pre><b>In a Jupyter environment, please rerun this cell to show the HTML representation or trust the notebook. <br />On GitHub, the HTML representation is unable to render, please try loading this page with nbviewer.org.</b></div><div class=\"sk-container\" hidden><div class=\"sk-item\"><div class=\"sk-estimator sk-toggleable\"><input class=\"sk-toggleable__control sk-hidden--visually\" id=\"sk-estimator-id-3\" type=\"checkbox\" checked><label for=\"sk-estimator-id-3\" class=\"sk-toggleable__label sk-toggleable__label-arrow\">KMeans</label><div class=\"sk-toggleable__content\"><pre>KMeans(max_iter=100, n_clusters=41, n_init=2, random_state=2307, verbose=True)</pre></div></div></div></div></div>"
            ],
            "text/plain": [
              "KMeans(max_iter=100, n_clusters=41, n_init=2, random_state=2307, verbose=True)"
            ]
          },
          "execution_count": 41,
          "metadata": {},
          "output_type": "execute_result"
        }
      ],
      "source": [
        "from sklearn.cluster import KMeans\n",
        "\n",
        "k = len(set(emote)) #number of cluster is set equal to the number or label (so the number of category / topics) --> so the result is more realistic (set for discard the repetiton)\n",
        "\n",
        "kmeans = KMeans(n_clusters=k, max_iter=100, n_init=2, verbose=True, random_state=2307) #we need to create a instance of the  Kmeans and set the number of cluster\n",
        "#with multiple restart we try to avoid the local minimun\n",
        "kmeans.fit(vector_documents)\n",
        "#inertia value is related to the sum of the square distances with the centroids\n",
        "#if #centroid = #point --> inertia would  be 0 "
      ],
      "id": "vbloqqbjqAnR"
    },
    {
      "cell_type": "code",
      "execution_count": null,
      "metadata": {
        "colab": {
          "base_uri": "https://localhost:8080/"
        },
        "id": "79MGRf_KqApX",
        "outputId": "c5a95257-2161-46f3-a435-dade6efe2617"
      },
      "outputs": [
        {
          "data": {
            "text/plain": [
              "['hey',\n",
              " 'going',\n",
              " 'come',\n",
              " 'guys',\n",
              " 'look',\n",
              " 'did',\n",
              " 'right',\n",
              " 'don',\n",
              " 'know',\n",
              " 'want',\n",
              " 'got',\n",
              " 'stop',\n",
              " 'just',\n",
              " 'wait',\n",
              " 'hello',\n",
              " 'buddy',\n",
              " 'good',\n",
              " 'think',\n",
              " 'doing',\n",
              " 'like']"
            ]
          },
          "execution_count": 42,
          "metadata": {},
          "output_type": "execute_result"
        }
      ],
      "source": [
        "# Get the centroid for the first cluster\n",
        "centroid = kmeans.cluster_centers_[14]\n",
        "\n",
        "# Sort terms according to their weights \n",
        "# (argsort goes from lowest to highest, we reverse the order through slicing)\n",
        "sorted_terms = centroid.argsort()[::-1] #we look at the centroid of the first cluster looking at the most frequent words (we take the centroid becuase can be seen as an average value of the different clusters that are insie the single clusters)\n",
        "\n",
        "# Print out the top 10 terms for the cluster\n",
        "[vocab[j] for j in sorted_terms[:20]] #we take the  centroid and we look at the frequenst terms (but the cetroid is not a document??????????????????? ---> but we look at the projection of the point on the different axis so we are able to find the value of each word as a document)"
      ],
      "id": "79MGRf_KqApX"
    },
    {
      "cell_type": "code",
      "execution_count": null,
      "metadata": {
        "colab": {
          "base_uri": "https://localhost:8080/"
        },
        "id": "f_ctPD3OqArs",
        "outputId": "c91b1291-c52e-4b2a-b8ba-ab78ed303621"
      },
      "outputs": [
        {
          "name": "stdout",
          "output_type": "stream",
          "text": [
            "document 0 is in cluster 15\n",
            "document 1 is in cluster 15\n",
            "document 2 is in cluster 15\n",
            "document 3 is in cluster 20\n",
            "document 4 is in cluster 15\n",
            "document 5 is in cluster 15\n",
            "document 6 is in cluster 15\n",
            "document 7 is in cluster 15\n",
            "document 8 is in cluster 15\n",
            "document 9 is in cluster 35\n",
            "document 10 is in cluster 32\n",
            "document 11 is in cluster 15\n",
            "document 12 is in cluster 15\n",
            "document 13 is in cluster 15\n",
            "document 14 is in cluster 15\n",
            "document 15 is in cluster 15\n",
            "document 16 is in cluster 28\n",
            "document 17 is in cluster 15\n",
            "document 18 is in cluster 28\n",
            "document 19 is in cluster 15\n",
            "document 20 is in cluster 15\n",
            "document 21 is in cluster 15\n",
            "document 22 is in cluster 15\n",
            "document 23 is in cluster 25\n",
            "document 24 is in cluster 15\n",
            "document 25 is in cluster 15\n",
            "document 26 is in cluster 15\n",
            "document 27 is in cluster 15\n",
            "document 28 is in cluster 29\n",
            "document 29 is in cluster 12\n"
          ]
        }
      ],
      "source": [
        "for i in range(30): \n",
        "    print(f\"document {i} is in cluster {kmeans.labels_[i]}\") #look at the distribution of the different documents in the different clusters"
      ],
      "id": "f_ctPD3OqArs"
    },
    {
      "cell_type": "code",
      "execution_count": null,
      "metadata": {
        "colab": {
          "base_uri": "https://localhost:8080/"
        },
        "id": "MSw13cqnsF-t",
        "outputId": "7cb8fbd1-522c-4782-c634-0db0c4f58c6c"
      },
      "outputs": [
        {
          "name": "stdout",
          "output_type": "stream",
          "text": [
            "Top terms per cluster:\n",
            "Cluster 0:\t['ponder', 'kennedy', 'welfare', 'lincoln', 'nation', 'windows', 'ﬂying', 'fragile', 'fraidy', 'fraid']\n",
            "Cluster 1:\t['em', 'breaker', 'amuse', 'maybe', 'pry', 'homeless', 'thrown', 'storm', 'stories', 'fired']\n",
            "Cluster 2:\t['turning', 'like', 'just', 'right', 'll', 'know', 'don', 've', 'mind', 'left']\n",
            "Cluster 3:\t['man', 'old', 'know', 'don', 'like', 'young', 'come', 'just', 'good', 'right']\n",
            "Cluster 4:\t['thanks', 'good', 'yeah', 'lot', 'thank', 'right', 'great', 'okay', 'oh', 'fine']\n",
            "Cluster 5:\t['guy', 'know', 'like', 'just', 'don', 'got', 'hey', 'right', 'did', 'good']\n",
            "Cluster 6:\t['happy', 'birthday', 'make', 'year', 'new', 'just', 'really', 'll', 'don', 'look']\n",
            "Cluster 7:\t['yeah', 'right', 'know', 'good', 'like', 'just', 'll', 'did', 'oh', 'come']\n",
            "Cluster 8:\t['grandma', 'grandpa', 'come', 'll', 'hi', 'don', 'did', 'hello', 'know', 'doing']\n",
            "Cluster 9:\t['going', 'know', 'tell', 'home', 'right', 'aren', 'hell', 'don', 'just', 'come']\n",
            "Cluster 10:\t['got', 've', 'just', 'right', 'know', 'don', 'll', 'time', 'like', 'money']\n",
            "Cluster 11:\t['supposed', 'know', 'mean', 'aren', 'meet', 'just', 'don', 'say', 'hell', 'weren']\n",
            "Cluster 12:\t['come', 'did', 'll', 'don', 'right', 'didn', 've', 'yes', 'know', 'just']\n",
            "Cluster 13:\t['girl', 'little', 'like', 'know', 'good', 'don', 'just', 'did', 'hey', 'll']\n",
            "Cluster 14:\t['hey', 'going', 'come', 'guys', 'look', 'did', 'right', 'don', 'know', 'want']\n",
            "Cluster 15:\t['know', 'don', 'll', 'like', 'right', 'just', 'yes', 'look', 'thank', 'time']\n",
            "Cluster 16:\t['afraid', 'don', 'll', 'come', 'know', 'just', 'aren', 've', 'won', 'like']\n",
            "Cluster 17:\t['coming', 'thank', 'thanks', 'right', 'home', 'know', 'didn', 'aren', 'don', 'just']\n",
            "Cluster 18:\t['funny', 'think', 'isn', 'don', 'really', 'know', 'look', 'oh', 'just', 'like']\n",
            "Cluster 19:\t['behave', 'like', 'll', 'don', 'way', 'know', 'did', 'promise', 'just', 'come']\n",
            "Cluster 20:\t['house', 'll', 'don', 'know', 'come', 'just', 'like', 'want', 'right', 've']\n",
            "Cluster 21:\t['sure', 'make', 'yeah', 'want', 'll', 'don', 'right', 'okay', 'know', 'just']\n",
            "Cluster 22:\t['want', 'don', 'know', 'just', 'come', 'tell', 'didn', 'did', 'say', 'help']\n",
            "Cluster 23:\t['happened', 'tell', 'know', 'just', 'hell', 'did', 'don', 'hey', 'sorry', 'night']\n",
            "Cluster 24:\t['okay', 'll', 'right', 'yeah', 'just', 'gonna', 'going', 'let', 'come', 'don']\n",
            "Cluster 25:\t['think', 'don', 'know', 'll', 'did', 'just', 'didn', 'like', 'right', 'gonna']\n",
            "Cluster 26:\t['honey', 'okay', 'oh', 'don', 'hi', 'right', 'come', 'know', 'hey', 'sorry']\n",
            "Cluster 27:\t['cousin', 'know', 'don', 'll', 'come', 'just', 'like', 'tell', 'yes', 'got']\n",
            "Cluster 28:\t['really', 'know', 'don', 'think', 'sorry', 'like', 'good', 'want', 'just', 'did']\n",
            "Cluster 29:\t['doing', 'hell', 'hey', 'know', 'think', 'fuck', 'don', 'right', 'just', 'hi']\n",
            "Cluster 30:\t['oh', 'god', 'just', 'thank', 'right', 'yes', 'sorry', 'know', 'yeah', 'don']\n",
            "Cluster 31:\t['whoa', 'hey', 'look', 'easy', 'right', 'doing', 'going', 'okay', 'wait', 'yeah']\n",
            "Cluster 32:\t['open', 'door', 'don', 'eyes', 'll', 'come', 'window', 'just', 'gate', 'let']\n",
            "Cluster 33:\t['good', 'morning', 'night', 'evening', 'luck', 'bye', 'day', 'thank', 'sir', 'afternoon']\n",
            "Cluster 34:\t['keys', 'car', 'got', 'll', 'don', 'forgot', 'just', 'did', 'need', 'right']\n",
            "Cluster 35:\t['dad', 'mom', 'did', 'know', 'don', 'just', 'come', 'going', 'll', 'right']\n",
            "Cluster 36:\t['did', 'say', 'know', 'tell', 'hear', 'just', 'didn', 'yes', 'like', 'happen']\n",
            "Cluster 37:\t['talk', 'want', 'don', 'need', 'll', 'just', 'let', 'like', 'did', 'wanna']\n",
            "Cluster 38:\t['let', 'come', 'right', 'don', 'just', 'll', 'know', 'won', 'look', 'wait']\n",
            "Cluster 39:\t['goodness', 'thank', 'oh', 'sake', 'gracious', 'look', 'don', 'come', 'll', 'just']\n",
            "Cluster 40:\t['hurry', 'come', 'let', 'll', 'don', 'better', 'coming', 'time', 'wait', 'waiting']\n"
          ]
        }
      ],
      "source": [
        "print(\"Top terms per cluster:\") #look at the top words in each centroids in the different cluster\n",
        "vocab = vectorizer.get_feature_names_out()\n",
        "\n",
        "for i in range(kmeans.n_clusters):\n",
        "    centroid = kmeans.cluster_centers_[i]    \n",
        "    sorted_terms = centroid.argsort()[::-1]\n",
        "    print(f\"Cluster {i}:\\t{[vocab[j] for j in sorted_terms[:10]]}\") #we can see that the word 'trump' is contained in different clusters ?????????"
      ],
      "id": "MSw13cqnsF-t"
    },
    {
      "cell_type": "markdown",
      "metadata": {
        "id": "5gzKlNB5sh93"
      },
      "source": [
        "# TODO\n",
        "we have to try to work on the dataset, discarding puntuaction and stop words because the terms in the clustering are not so interesting.\n",
        "\n",
        "Maybe another solution can be to use the embedding as representation of the sentences????"
      ],
      "id": "5gzKlNB5sh93"
    },
    {
      "cell_type": "markdown",
      "metadata": {
        "id": "eoubnXor1Qko"
      },
      "source": [
        "# EMBEDDINGS"
      ],
      "id": "eoubnXor1Qko"
    },
    {
      "cell_type": "code",
      "execution_count": null,
      "metadata": {
        "colab": {
          "base_uri": "https://localhost:8080/"
        },
        "id": "dXd-ILsZtOlU",
        "outputId": "f962bbe0-fdb0-4356-be05-221ae4952986"
      },
      "outputs": [
        {
          "name": "stdout",
          "output_type": "stream",
          "text": [
            "Looking in indexes: https://pypi.org/simple, https://us-python.pkg.dev/colab-wheels/public/simple/\n",
            "Requirement already satisfied: gensim in /usr/local/lib/python3.10/dist-packages (4.3.1)\n",
            "Requirement already satisfied: numpy>=1.18.5 in /usr/local/lib/python3.10/dist-packages (from gensim) (1.22.4)\n",
            "Requirement already satisfied: scipy>=1.7.0 in /usr/local/lib/python3.10/dist-packages (from gensim) (1.10.1)\n",
            "Requirement already satisfied: smart-open>=1.8.1 in /usr/local/lib/python3.10/dist-packages (from gensim) (6.3.0)\n"
          ]
        }
      ],
      "source": [
        "!pip install --upgrade gensim"
      ],
      "id": "dXd-ILsZtOlU"
    },
    {
      "cell_type": "code",
      "execution_count": null,
      "metadata": {
        "colab": {
          "base_uri": "https://localhost:8080/"
        },
        "id": "CwQJbd-ptOql",
        "outputId": "089cd436-28b0-42d6-fe46-b287a0324e51"
      },
      "outputs": [
        {
          "data": {
            "text/plain": [
              "[['You moron ', 'What fool washes diapers by the well !'],\n",
              " ['You useless fool !']]"
            ]
          },
          "execution_count": 46,
          "metadata": {},
          "output_type": "execute_result"
        }
      ],
      "source": [
        "import re\n",
        "#from all the texts, we need to extract the single words in order to train the word2vec model\n",
        "\n",
        "#in order to keep only the interesting words, we need to clean the difference texts. So for this reaosn we use regular expression to remove useless words\n",
        "\n",
        "# remove newline characters\n",
        "docs = [re.sub('\\n', ' ', doc) for doc in sentence]\n",
        "# remove email addresses\n",
        "docs = [re.sub('[a-zA-Z0-9._%+-]+@[a-zA-Z0-9.-]+\\.[a-zA-Z]{2,}', '', doc) for doc in sentence]\n",
        "# split sentences \n",
        "sentences = [re.split('[?!.]\\s', doc) for doc in sentence] #we serach for specific punctuaction in order to idnetify the end of a sentences. \n",
        "# we start from a document so for this reason we want to obtain the sentences \n",
        "sentences[:2]\n",
        "\n",
        "#each list contains the different sentences in a document. we have aslo an external list that contains the all docuemnts"
      ],
      "id": "CwQJbd-ptOql"
    },
    {
      "cell_type": "code",
      "execution_count": null,
      "metadata": {
        "colab": {
          "base_uri": "https://localhost:8080/"
        },
        "id": "6rhiUnnPtOtM",
        "outputId": "585f7a86-b6d0-4dae-9a30-398ebfac17c8"
      },
      "outputs": [
        {
          "data": {
            "text/plain": [
              "['You moron ',\n",
              " 'What fool washes diapers by the well !',\n",
              " 'You useless fool !',\n",
              " 'How dare you sleep !',\n",
              " 'Up ']"
            ]
          },
          "execution_count": 48,
          "metadata": {},
          "output_type": "execute_result"
        }
      ],
      "source": [
        "sentences[:5]"
      ],
      "id": "6rhiUnnPtOtM"
    },
    {
      "cell_type": "code",
      "execution_count": null,
      "metadata": {
        "colab": {
          "base_uri": "https://localhost:8080/"
        },
        "id": "7CaBfunl2P1w",
        "outputId": "36e1869c-1b89-4dcf-c1ec-a1b0eaf64001"
      },
      "outputs": [
        {
          "data": {
            "text/plain": [
              "['You moron ',\n",
              " 'What fool washes diapers by the well !',\n",
              " 'You useless fool !',\n",
              " 'How dare you sleep !',\n",
              " 'Up ',\n",
              " 'Go and clean the house .',\n",
              " 'Clean the kitchen .',\n",
              " \"I cleaned the kitchen , ma 'am .\",\n",
              " 'Your name means to trust ',\n",
              " 'It also means truth ',\n",
              " 'And endurance ',\n",
              " 'Or it could be god .',\n",
              " 'You were given a great name ',\n",
              " \"You 'd better live up to it .\",\n",
              " \"I 'll go home in the spring once the snow melts .\",\n",
              " 'Listen ',\n",
              " \"No matter how tough it gets I wouldn 't bring shame to you and your dad \",\n",
              " \"I promise I won 't .\",\n",
              " 'Your medicine ',\n",
              " 'Open your mouth .']"
            ]
          },
          "execution_count": 47,
          "metadata": {},
          "output_type": "execute_result"
        }
      ],
      "source": [
        "from pandas.core.common import flatten\n",
        "#we want only a list a list of  string.\n",
        "\n",
        "sentences = list(flatten(sentences)) #till now we have a list of of list where for each document that is represent by a element in the external list, we have the different sentences \n",
        "# of that document that are represented bu different elements inside the list.\n",
        "# Now we want to merge all the sentences of all the documnts, because the trian is based on all the dataset and not considering a single document.\n",
        "\n",
        "sentences[:20]"
      ],
      "id": "7CaBfunl2P1w"
    },
    {
      "cell_type": "code",
      "execution_count": null,
      "metadata": {
        "colab": {
          "base_uri": "https://localhost:8080/"
        },
        "id": "jGyUBNontOvy",
        "outputId": "a54f881a-ff72-49c2-cf9d-1e41db1b7330"
      },
      "outputs": [
        {
          "name": "stdout",
          "output_type": "stream",
          "text": [
            "['you', 'moron']\n",
            "['what', 'fool', 'washes', 'diapers', 'by', 'the', 'well']\n",
            "['you', 'useless', 'fool']\n",
            "['how', 'dare', 'you', 'sleep']\n",
            "['go', 'and', 'clean', 'the', 'house']\n",
            "['clean', 'the', 'kitchen']\n",
            "['i', 'cleaned', 'the', 'kitchen', 'ma', 'am']\n",
            "['your', 'name', 'means', 'to', 'trust']\n",
            "['it', 'also', 'means', 'truth']\n",
            "['and', 'endurance']\n"
          ]
        }
      ],
      "source": [
        "tokenized_sentences = [re.sub('\\W', ' ', sentence).lower().split() for sentence in sentences] #remove whatever is a non alpha numerical character\n",
        "# remove sentences that are only 1 word long\n",
        "tokenized_sentences = [sentence for sentence in tokenized_sentences if len(sentence) > 1]\n",
        "\n",
        "#we remove all the capital leacture\n",
        "#after cleaning, we take the single words\n",
        "\n",
        "for sentence in tokenized_sentences[:10]:\n",
        "    print(sentence)\n",
        "\n",
        "#till now we have sentences, but in order to  create the embeddings we need to consider the single words; so for this reason we need to tokenize the sentences"
      ],
      "id": "jGyUBNontOvy"
    },
    {
      "cell_type": "code",
      "execution_count": null,
      "metadata": {
        "colab": {
          "base_uri": "https://localhost:8080/",
          "height": 382
        },
        "id": "t7s0SsUwtOye",
        "outputId": "646ecdf6-abf0-4bfe-b47a-d3cc2d9d5623"
      },
      "outputs": [
        {
          "ename": "KeyboardInterrupt",
          "evalue": "ignored",
          "output_type": "error",
          "traceback": [
            "\u001b[0;31m---------------------------------------------------------------------------\u001b[0m",
            "\u001b[0;31mKeyboardInterrupt\u001b[0m                         Traceback (most recent call last)",
            "\u001b[0;32m<ipython-input-51-1067fcf3ff55>\u001b[0m in \u001b[0;36m<cell line: 3>\u001b[0;34m()\u001b[0m\n\u001b[1;32m      1\u001b[0m \u001b[0;32mfrom\u001b[0m \u001b[0mgensim\u001b[0m\u001b[0;34m.\u001b[0m\u001b[0mmodels\u001b[0m\u001b[0;34m.\u001b[0m\u001b[0mword2vec\u001b[0m \u001b[0;32mimport\u001b[0m \u001b[0mWord2Vec\u001b[0m\u001b[0;34m\u001b[0m\u001b[0;34m\u001b[0m\u001b[0m\n\u001b[1;32m      2\u001b[0m \u001b[0;34m\u001b[0m\u001b[0m\n\u001b[0;32m----> 3\u001b[0;31m \u001b[0mmodel\u001b[0m \u001b[0;34m=\u001b[0m \u001b[0mWord2Vec\u001b[0m\u001b[0;34m(\u001b[0m\u001b[0mtokenized_sentences\u001b[0m\u001b[0;34m,\u001b[0m \u001b[0mvector_size\u001b[0m\u001b[0;34m=\u001b[0m\u001b[0;36m30\u001b[0m\u001b[0;34m,\u001b[0m \u001b[0mmin_count\u001b[0m\u001b[0;34m=\u001b[0m\u001b[0;36m5\u001b[0m\u001b[0;34m,\u001b[0m \u001b[0mwindow\u001b[0m\u001b[0;34m=\u001b[0m\u001b[0;36m10\u001b[0m\u001b[0;34m)\u001b[0m \u001b[0;31m#we decide the size of the enbeddings, and the context windows to create this representation\u001b[0m\u001b[0;34m\u001b[0m\u001b[0;34m\u001b[0m\u001b[0m\n\u001b[0m\u001b[1;32m      4\u001b[0m \u001b[0;34m\u001b[0m\u001b[0m\n\u001b[1;32m      5\u001b[0m \u001b[0;31m#w1 w2 w3 w4 (half of the windows to the left and half on the right) #in this case we use 2 as context window\u001b[0m\u001b[0;34m\u001b[0m\u001b[0;34m\u001b[0m\u001b[0m\n",
            "\u001b[0;32m/usr/local/lib/python3.10/dist-packages/gensim/models/word2vec.py\u001b[0m in \u001b[0;36m__init__\u001b[0;34m(self, sentences, corpus_file, vector_size, alpha, window, min_count, max_vocab_size, sample, seed, workers, min_alpha, sg, hs, negative, ns_exponent, cbow_mean, hashfxn, epochs, null_word, trim_rule, sorted_vocab, batch_words, compute_loss, callbacks, comment, max_final_vocab, shrink_windows)\u001b[0m\n\u001b[1;32m    427\u001b[0m         \u001b[0;32mif\u001b[0m \u001b[0mcorpus_iterable\u001b[0m \u001b[0;32mis\u001b[0m \u001b[0;32mnot\u001b[0m \u001b[0;32mNone\u001b[0m \u001b[0;32mor\u001b[0m \u001b[0mcorpus_file\u001b[0m \u001b[0;32mis\u001b[0m \u001b[0;32mnot\u001b[0m \u001b[0;32mNone\u001b[0m\u001b[0;34m:\u001b[0m\u001b[0;34m\u001b[0m\u001b[0;34m\u001b[0m\u001b[0m\n\u001b[1;32m    428\u001b[0m             \u001b[0mself\u001b[0m\u001b[0;34m.\u001b[0m\u001b[0m_check_corpus_sanity\u001b[0m\u001b[0;34m(\u001b[0m\u001b[0mcorpus_iterable\u001b[0m\u001b[0;34m=\u001b[0m\u001b[0mcorpus_iterable\u001b[0m\u001b[0;34m,\u001b[0m \u001b[0mcorpus_file\u001b[0m\u001b[0;34m=\u001b[0m\u001b[0mcorpus_file\u001b[0m\u001b[0;34m,\u001b[0m \u001b[0mpasses\u001b[0m\u001b[0;34m=\u001b[0m\u001b[0;34m(\u001b[0m\u001b[0mepochs\u001b[0m \u001b[0;34m+\u001b[0m \u001b[0;36m1\u001b[0m\u001b[0;34m)\u001b[0m\u001b[0;34m)\u001b[0m\u001b[0;34m\u001b[0m\u001b[0;34m\u001b[0m\u001b[0m\n\u001b[0;32m--> 429\u001b[0;31m             \u001b[0mself\u001b[0m\u001b[0;34m.\u001b[0m\u001b[0mbuild_vocab\u001b[0m\u001b[0;34m(\u001b[0m\u001b[0mcorpus_iterable\u001b[0m\u001b[0;34m=\u001b[0m\u001b[0mcorpus_iterable\u001b[0m\u001b[0;34m,\u001b[0m \u001b[0mcorpus_file\u001b[0m\u001b[0;34m=\u001b[0m\u001b[0mcorpus_file\u001b[0m\u001b[0;34m,\u001b[0m \u001b[0mtrim_rule\u001b[0m\u001b[0;34m=\u001b[0m\u001b[0mtrim_rule\u001b[0m\u001b[0;34m)\u001b[0m\u001b[0;34m\u001b[0m\u001b[0;34m\u001b[0m\u001b[0m\n\u001b[0m\u001b[1;32m    430\u001b[0m             self.train(\n\u001b[1;32m    431\u001b[0m                 \u001b[0mcorpus_iterable\u001b[0m\u001b[0;34m=\u001b[0m\u001b[0mcorpus_iterable\u001b[0m\u001b[0;34m,\u001b[0m \u001b[0mcorpus_file\u001b[0m\u001b[0;34m=\u001b[0m\u001b[0mcorpus_file\u001b[0m\u001b[0;34m,\u001b[0m \u001b[0mtotal_examples\u001b[0m\u001b[0;34m=\u001b[0m\u001b[0mself\u001b[0m\u001b[0;34m.\u001b[0m\u001b[0mcorpus_count\u001b[0m\u001b[0;34m,\u001b[0m\u001b[0;34m\u001b[0m\u001b[0;34m\u001b[0m\u001b[0m\n",
            "\u001b[0;32m/usr/local/lib/python3.10/dist-packages/gensim/models/word2vec.py\u001b[0m in \u001b[0;36mbuild_vocab\u001b[0;34m(self, corpus_iterable, corpus_file, update, progress_per, keep_raw_vocab, trim_rule, **kwargs)\u001b[0m\n\u001b[1;32m    489\u001b[0m         \"\"\"\n\u001b[1;32m    490\u001b[0m         \u001b[0mself\u001b[0m\u001b[0;34m.\u001b[0m\u001b[0m_check_corpus_sanity\u001b[0m\u001b[0;34m(\u001b[0m\u001b[0mcorpus_iterable\u001b[0m\u001b[0;34m=\u001b[0m\u001b[0mcorpus_iterable\u001b[0m\u001b[0;34m,\u001b[0m \u001b[0mcorpus_file\u001b[0m\u001b[0;34m=\u001b[0m\u001b[0mcorpus_file\u001b[0m\u001b[0;34m,\u001b[0m \u001b[0mpasses\u001b[0m\u001b[0;34m=\u001b[0m\u001b[0;36m1\u001b[0m\u001b[0;34m)\u001b[0m\u001b[0;34m\u001b[0m\u001b[0;34m\u001b[0m\u001b[0m\n\u001b[0;32m--> 491\u001b[0;31m         total_words, corpus_count = self.scan_vocab(\n\u001b[0m\u001b[1;32m    492\u001b[0m             corpus_iterable=corpus_iterable, corpus_file=corpus_file, progress_per=progress_per, trim_rule=trim_rule)\n\u001b[1;32m    493\u001b[0m         \u001b[0mself\u001b[0m\u001b[0;34m.\u001b[0m\u001b[0mcorpus_count\u001b[0m \u001b[0;34m=\u001b[0m \u001b[0mcorpus_count\u001b[0m\u001b[0;34m\u001b[0m\u001b[0;34m\u001b[0m\u001b[0m\n",
            "\u001b[0;32m/usr/local/lib/python3.10/dist-packages/gensim/models/word2vec.py\u001b[0m in \u001b[0;36mscan_vocab\u001b[0;34m(self, corpus_iterable, corpus_file, progress_per, workers, trim_rule)\u001b[0m\n\u001b[1;32m    584\u001b[0m             \u001b[0mcorpus_iterable\u001b[0m \u001b[0;34m=\u001b[0m \u001b[0mLineSentence\u001b[0m\u001b[0;34m(\u001b[0m\u001b[0mcorpus_file\u001b[0m\u001b[0;34m)\u001b[0m\u001b[0;34m\u001b[0m\u001b[0;34m\u001b[0m\u001b[0m\n\u001b[1;32m    585\u001b[0m \u001b[0;34m\u001b[0m\u001b[0m\n\u001b[0;32m--> 586\u001b[0;31m         \u001b[0mtotal_words\u001b[0m\u001b[0;34m,\u001b[0m \u001b[0mcorpus_count\u001b[0m \u001b[0;34m=\u001b[0m \u001b[0mself\u001b[0m\u001b[0;34m.\u001b[0m\u001b[0m_scan_vocab\u001b[0m\u001b[0;34m(\u001b[0m\u001b[0mcorpus_iterable\u001b[0m\u001b[0;34m,\u001b[0m \u001b[0mprogress_per\u001b[0m\u001b[0;34m,\u001b[0m \u001b[0mtrim_rule\u001b[0m\u001b[0;34m)\u001b[0m\u001b[0;34m\u001b[0m\u001b[0;34m\u001b[0m\u001b[0m\n\u001b[0m\u001b[1;32m    587\u001b[0m \u001b[0;34m\u001b[0m\u001b[0m\n\u001b[1;32m    588\u001b[0m         logger.info(\n",
            "\u001b[0;32m/usr/local/lib/python3.10/dist-packages/gensim/models/word2vec.py\u001b[0m in \u001b[0;36m_scan_vocab\u001b[0;34m(self, sentences, progress_per, trim_rule)\u001b[0m\n\u001b[1;32m    568\u001b[0m                 )\n\u001b[1;32m    569\u001b[0m             \u001b[0;32mfor\u001b[0m \u001b[0mword\u001b[0m \u001b[0;32min\u001b[0m \u001b[0msentence\u001b[0m\u001b[0;34m:\u001b[0m\u001b[0;34m\u001b[0m\u001b[0;34m\u001b[0m\u001b[0m\n\u001b[0;32m--> 570\u001b[0;31m                 \u001b[0mvocab\u001b[0m\u001b[0;34m[\u001b[0m\u001b[0mword\u001b[0m\u001b[0;34m]\u001b[0m \u001b[0;34m+=\u001b[0m \u001b[0;36m1\u001b[0m\u001b[0;34m\u001b[0m\u001b[0;34m\u001b[0m\u001b[0m\n\u001b[0m\u001b[1;32m    571\u001b[0m             \u001b[0mtotal_words\u001b[0m \u001b[0;34m+=\u001b[0m \u001b[0mlen\u001b[0m\u001b[0;34m(\u001b[0m\u001b[0msentence\u001b[0m\u001b[0;34m)\u001b[0m\u001b[0;34m\u001b[0m\u001b[0;34m\u001b[0m\u001b[0m\n\u001b[1;32m    572\u001b[0m \u001b[0;34m\u001b[0m\u001b[0m\n",
            "\u001b[0;31mKeyboardInterrupt\u001b[0m: "
          ]
        }
      ],
      "source": [
        "from gensim.models.word2vec import Word2Vec\n",
        "\n",
        "model = Word2Vec(tokenized_sentences, vector_size=30, min_count=5, window=10) #we decide the size of the enbeddings, and the context windows to create this representation\n",
        "\n",
        "#w1 w2 w3 w4 (half of the windows to the left and half on the right) #in this case we use 2 as context window\n",
        "#w2 <--> w1,w3\n",
        "#w3 <--> w2,w4\n",
        "#w1 <--> w2\n",
        "#w4 <--> w3\n",
        "#both can be the input and the output"
      ],
      "id": "t7s0SsUwtOye"
    },
    {
      "cell_type": "code",
      "execution_count": null,
      "metadata": {
        "id": "uCJaO2O8tO0z"
      },
      "outputs": [],
      "source": [
        "len(tokenized_sentences)"
      ],
      "id": "uCJaO2O8tO0z"
    },
    {
      "cell_type": "code",
      "execution_count": null,
      "metadata": {
        "id": "QQeJ7kTntO3Y"
      },
      "outputs": [],
      "source": [
        "term = 'car'\n",
        "model.wv[term] #we have an array that represent the embedding representation vector\n",
        "#positive and negative values so space is in all the part (not in a single quadrante)"
      ],
      "id": "QQeJ7kTntO3Y"
    },
    {
      "cell_type": "code",
      "execution_count": null,
      "metadata": {
        "id": "3hYZl4NKtO5y"
      },
      "outputs": [],
      "source": [
        "term = 'house'\n",
        "#term = 'microsoft'\n",
        "#term ='clinton'\n",
        "model.wv.most_similar(term)  #through this representation we can look at the cosine similarity between the different words; \n",
        "#in the bag-of-word the similarity between words wasn't present because each word was represented by a sparse vector (with only one 1) and for this reason all the vectors are perpendicular each other\n",
        "\n",
        "#we are searching the very similar words with repsecet the input (close vector in the space)"
      ],
      "id": "3hYZl4NKtO5y"
    },
    {
      "cell_type": "code",
      "execution_count": null,
      "metadata": {
        "id": "RMbGotSItO8V"
      },
      "outputs": [],
      "source": [],
      "id": "RMbGotSItO8V"
    },
    {
      "cell_type": "code",
      "execution_count": null,
      "metadata": {
        "id": "yT50xgyAtO-r"
      },
      "outputs": [],
      "source": [],
      "id": "yT50xgyAtO-r"
    },
    {
      "cell_type": "markdown",
      "metadata": {
        "id": "1dd910cd"
      },
      "source": [
        "# LOGISTIC REGRESSION (MODEL + split train/test)"
      ],
      "id": "1dd910cd"
    },
    {
      "cell_type": "code",
      "execution_count": null,
      "metadata": {
        "id": "d60faf21"
      },
      "outputs": [],
      "source": [
        "data = df[\"uttr\"].tolist()"
      ],
      "id": "d60faf21"
    },
    {
      "cell_type": "code",
      "execution_count": null,
      "metadata": {
        "id": "5816a742"
      },
      "outputs": [],
      "source": [
        "from sklearn.model_selection import train_test_split\n",
        "train_x, test_x, train_y, test_y = train_test_split(data,df[\"eb+_emot\"], test_size=0.2, random_state=2307)"
      ],
      "id": "5816a742"
    },
    {
      "cell_type": "code",
      "execution_count": null,
      "metadata": {
        "id": "3bbe1362"
      },
      "outputs": [],
      "source": [
        "len(train_x) "
      ],
      "id": "3bbe1362"
    },
    {
      "cell_type": "code",
      "execution_count": null,
      "metadata": {
        "id": "c9abaf4a"
      },
      "outputs": [],
      "source": [
        "train_x"
      ],
      "id": "c9abaf4a"
    },
    {
      "cell_type": "code",
      "execution_count": null,
      "metadata": {
        "id": "7ce43ba6"
      },
      "outputs": [],
      "source": [
        "len(test_x)"
      ],
      "id": "7ce43ba6"
    },
    {
      "cell_type": "markdown",
      "metadata": {
        "id": "2a7de2d5"
      },
      "source": [
        "### Now we use CountVectorizer in order to split the difference sentecens in words, looking at how much words we can identify\n",
        "\n",
        "if we compute the length of the vocabulary, we have found 198K of words. Till now we haven't discarded the puntuaction and the stopwords yet.\n",
        "If we try to discard them and recompute the vocabulary dimension, we obtain 52k of words. \n",
        "It seems a lot but the Oxford Vocabulary contains around 600k of words.\n",
        "One reason of our vocabulary dimension is related to the fact that our intial dataset contains aroud 2 milions of sentences"
      ],
      "id": "2a7de2d5"
    },
    {
      "cell_type": "code",
      "execution_count": null,
      "metadata": {
        "id": "599bb0b5",
        "colab": {
          "base_uri": "https://localhost:8080/",
          "height": 201
        },
        "outputId": "369a05fb-81fb-463c-acb2-45e737a057bb"
      },
      "outputs": [
        {
          "output_type": "error",
          "ename": "NameError",
          "evalue": "ignored",
          "traceback": [
            "\u001b[0;31m---------------------------------------------------------------------------\u001b[0m",
            "\u001b[0;31mNameError\u001b[0m                                 Traceback (most recent call last)",
            "\u001b[0;32m<ipython-input-19-193bb7100b22>\u001b[0m in \u001b[0;36m<cell line: 3>\u001b[0;34m()\u001b[0m\n\u001b[1;32m      1\u001b[0m \u001b[0;32mfrom\u001b[0m \u001b[0msklearn\u001b[0m\u001b[0;34m.\u001b[0m\u001b[0mfeature_extraction\u001b[0m\u001b[0;34m.\u001b[0m\u001b[0mtext\u001b[0m \u001b[0;32mimport\u001b[0m \u001b[0mCountVectorizer\u001b[0m\u001b[0;34m\u001b[0m\u001b[0;34m\u001b[0m\u001b[0m\n\u001b[1;32m      2\u001b[0m \u001b[0mvectorizer\u001b[0m \u001b[0;34m=\u001b[0m \u001b[0mCountVectorizer\u001b[0m\u001b[0;34m(\u001b[0m\u001b[0;34m)\u001b[0m\u001b[0;34m\u001b[0m\u001b[0;34m\u001b[0m\u001b[0m\n\u001b[0;32m----> 3\u001b[0;31m \u001b[0mvectorizer\u001b[0m\u001b[0;34m.\u001b[0m\u001b[0mfit\u001b[0m\u001b[0;34m(\u001b[0m\u001b[0mtrain_x\u001b[0m\u001b[0;34m)\u001b[0m\u001b[0;34m\u001b[0m\u001b[0;34m\u001b[0m\u001b[0m\n\u001b[0m",
            "\u001b[0;31mNameError\u001b[0m: name 'train_x' is not defined"
          ]
        }
      ],
      "source": [
        "from sklearn.feature_extraction.text import CountVectorizer \n",
        "vectorizer = CountVectorizer()\n",
        "vectorizer.fit(train_x)"
      ],
      "id": "599bb0b5"
    },
    {
      "cell_type": "code",
      "execution_count": null,
      "metadata": {
        "id": "5d4b6d07"
      },
      "outputs": [],
      "source": [
        "len(vectorizer.get_feature_names_out()) # we indentify 117656  different words\n",
        "# we lose some words only present in the test set --> but we have margin sowe can lose some words"
      ],
      "id": "5d4b6d07"
    },
    {
      "cell_type": "code",
      "execution_count": null,
      "metadata": {
        "id": "1781db55"
      },
      "outputs": [],
      "source": [
        "vectorizer.get_feature_names_out()[:1000]"
      ],
      "id": "1781db55"
    },
    {
      "cell_type": "code",
      "execution_count": null,
      "metadata": {
        "id": "e8e3c325",
        "colab": {
          "base_uri": "https://localhost:8080/",
          "height": 219
        },
        "outputId": "3733e4f5-0f48-4e39-b777-69c68feca4ba"
      },
      "outputs": [
        {
          "output_type": "error",
          "ename": "NameError",
          "evalue": "ignored",
          "traceback": [
            "\u001b[0;31m---------------------------------------------------------------------------\u001b[0m",
            "\u001b[0;31mNameError\u001b[0m                                 Traceback (most recent call last)",
            "\u001b[0;32m<ipython-input-18-444fee379afb>\u001b[0m in \u001b[0;36m<cell line: 1>\u001b[0;34m()\u001b[0m\n\u001b[0;32m----> 1\u001b[0;31m \u001b[0mvectorizer\u001b[0m \u001b[0;34m=\u001b[0m \u001b[0mCountVectorizer\u001b[0m\u001b[0;34m(\u001b[0m\u001b[0mmin_df\u001b[0m\u001b[0;34m=\u001b[0m\u001b[0;36m5\u001b[0m\u001b[0;34m,\u001b[0m \u001b[0mstop_words\u001b[0m\u001b[0;34m=\u001b[0m\u001b[0;34m'english'\u001b[0m\u001b[0;34m)\u001b[0m\u001b[0;34m\u001b[0m\u001b[0;34m\u001b[0m\u001b[0m\n\u001b[0m\u001b[1;32m      2\u001b[0m \u001b[0mvectorizer\u001b[0m\u001b[0;34m.\u001b[0m\u001b[0mfit\u001b[0m\u001b[0;34m(\u001b[0m\u001b[0mtrain_x\u001b[0m\u001b[0;34m)\u001b[0m\u001b[0;34m\u001b[0m\u001b[0;34m\u001b[0m\u001b[0m\n\u001b[1;32m      3\u001b[0m \u001b[0mprint\u001b[0m\u001b[0;34m(\u001b[0m\u001b[0;34mf\"vocabulary size: {len(vectorizer.get_feature_names_out())}\"\u001b[0m\u001b[0;34m)\u001b[0m\u001b[0;34m\u001b[0m\u001b[0;34m\u001b[0m\u001b[0m\n\u001b[1;32m      4\u001b[0m \u001b[0;31m#we reduce  the vocabulary only 1341; we lose 16k words\u001b[0m\u001b[0;34m\u001b[0m\u001b[0;34m\u001b[0m\u001b[0m\n",
            "\u001b[0;31mNameError\u001b[0m: name 'CountVectorizer' is not defined"
          ]
        }
      ],
      "source": [
        "vectorizer = CountVectorizer(min_df=5, stop_words='english')\n",
        "vectorizer.fit(train_x)\n",
        "print(f\"vocabulary size: {len(vectorizer.get_feature_names_out())}\")\n",
        "#we reduce  the vocabulary only 1341; we lose 16k words"
      ],
      "id": "e8e3c325"
    },
    {
      "cell_type": "code",
      "execution_count": null,
      "metadata": {
        "id": "2c204a30"
      },
      "outputs": [],
      "source": [
        "vectorizer.get_feature_names()"
      ],
      "id": "2c204a30"
    },
    {
      "cell_type": "code",
      "execution_count": null,
      "metadata": {
        "id": "239b0154"
      },
      "outputs": [],
      "source": [
        "train_x_vector = vectorizer.transform(train_x) #i can map the wors into vectors in order to train our classifier\n",
        "train_x_vector"
      ],
      "id": "239b0154"
    },
    {
      "cell_type": "code",
      "execution_count": null,
      "metadata": {
        "id": "cc5ed8d3"
      },
      "outputs": [],
      "source": [
        "train_x"
      ],
      "id": "cc5ed8d3"
    },
    {
      "cell_type": "markdown",
      "metadata": {
        "id": "e0b2632c"
      },
      "source": [
        "# what inside the vectors?"
      ],
      "id": "e0b2632c"
    },
    {
      "cell_type": "code",
      "execution_count": null,
      "metadata": {
        "id": "2ec90910"
      },
      "outputs": [],
      "source": [
        "import random\n",
        "i = random.randrange(len(train_x))\n",
        "\n",
        "print('random tweet:')\n",
        "print(train_x[i])\n",
        "\n",
        "print('\\nsparse vector:')\n",
        "print(train_x_vector[i])\n",
        "\n",
        "vocab = vectorizer.get_feature_names_out()\n",
        "print('\\nvocabulary of tweet:')\n",
        "[(j,vocab[j]) for j in train_x_vector[i].nonzero()[1]]"
      ],
      "id": "2ec90910"
    },
    {
      "cell_type": "markdown",
      "metadata": {
        "id": "2b52445d"
      },
      "source": [
        "## TRAIN LOGISTIC REGRESSION"
      ],
      "id": "2b52445d"
    },
    {
      "cell_type": "code",
      "execution_count": null,
      "metadata": {
        "id": "f9c90874",
        "colab": {
          "base_uri": "https://localhost:8080/",
          "height": 201
        },
        "outputId": "8eed68e0-975b-4da1-ecc9-590f9b2a8412"
      },
      "outputs": [
        {
          "output_type": "error",
          "ename": "NameError",
          "evalue": "ignored",
          "traceback": [
            "\u001b[0;31m---------------------------------------------------------------------------\u001b[0m",
            "\u001b[0;31mNameError\u001b[0m                                 Traceback (most recent call last)",
            "\u001b[0;32m<ipython-input-16-004b7435fc9d>\u001b[0m in \u001b[0;36m<cell line: 2>\u001b[0;34m()\u001b[0m\n\u001b[1;32m      1\u001b[0m \u001b[0;32mfrom\u001b[0m \u001b[0msklearn\u001b[0m\u001b[0;34m.\u001b[0m\u001b[0mlinear_model\u001b[0m \u001b[0;32mimport\u001b[0m \u001b[0mLogisticRegression\u001b[0m \u001b[0;31m#we use logistic regression in order to build our model\u001b[0m\u001b[0;34m\u001b[0m\u001b[0;34m\u001b[0m\u001b[0m\n\u001b[0;32m----> 2\u001b[0;31m \u001b[0mmodel\u001b[0m \u001b[0;34m=\u001b[0m \u001b[0mLogisticRegression\u001b[0m\u001b[0;34m(\u001b[0m\u001b[0;34m)\u001b[0m\u001b[0;34m.\u001b[0m\u001b[0mfit\u001b[0m\u001b[0;34m(\u001b[0m\u001b[0mtrain_x_vector\u001b[0m\u001b[0;34m,\u001b[0m \u001b[0mtrain_y\u001b[0m\u001b[0;34m)\u001b[0m\u001b[0;34m\u001b[0m\u001b[0;34m\u001b[0m\u001b[0m\n\u001b[0m\u001b[1;32m      3\u001b[0m \u001b[0mprint\u001b[0m\u001b[0;34m(\u001b[0m\u001b[0mmodel\u001b[0m\u001b[0;34m)\u001b[0m\u001b[0;34m\u001b[0m\u001b[0;34m\u001b[0m\u001b[0m\n",
            "\u001b[0;31mNameError\u001b[0m: name 'train_x_vector' is not defined"
          ]
        }
      ],
      "source": [
        "from sklearn.linear_model import LogisticRegression #we use logistic regression in order to build our model\n",
        "model = LogisticRegression().fit(train_x_vector, train_y) \n",
        "print(model)"
      ],
      "id": "f9c90874"
    },
    {
      "cell_type": "code",
      "execution_count": null,
      "metadata": {
        "id": "0f6641e0",
        "colab": {
          "base_uri": "https://localhost:8080/",
          "height": 184
        },
        "outputId": "c9f973e9-120d-4e3b-bf3f-7b2e82276a0e"
      },
      "outputs": [
        {
          "output_type": "error",
          "ename": "NameError",
          "evalue": "ignored",
          "traceback": [
            "\u001b[0;31m---------------------------------------------------------------------------\u001b[0m",
            "\u001b[0;31mNameError\u001b[0m                                 Traceback (most recent call last)",
            "\u001b[0;32m<ipython-input-17-6a0391ab585e>\u001b[0m in \u001b[0;36m<cell line: 1>\u001b[0;34m()\u001b[0m\n\u001b[0;32m----> 1\u001b[0;31m \u001b[0mtest_x_vector\u001b[0m \u001b[0;34m=\u001b[0m \u001b[0mvectorizer\u001b[0m\u001b[0;34m.\u001b[0m\u001b[0mtransform\u001b[0m\u001b[0;34m(\u001b[0m\u001b[0mtest_x\u001b[0m\u001b[0;34m)\u001b[0m\u001b[0;34m\u001b[0m\u001b[0;34m\u001b[0m\u001b[0m\n\u001b[0m\u001b[1;32m      2\u001b[0m \u001b[0mpred_y\u001b[0m \u001b[0;34m=\u001b[0m \u001b[0mmodel\u001b[0m\u001b[0;34m.\u001b[0m\u001b[0mpredict\u001b[0m\u001b[0;34m(\u001b[0m\u001b[0mtest_x_vector\u001b[0m\u001b[0;34m)\u001b[0m \u001b[0;31m#we learnd, and we use this model to predict the label of new data\u001b[0m\u001b[0;34m\u001b[0m\u001b[0;34m\u001b[0m\u001b[0m\n",
            "\u001b[0;31mNameError\u001b[0m: name 'vectorizer' is not defined"
          ]
        }
      ],
      "source": [
        "test_x_vector = vectorizer.transform(test_x)\n",
        "pred_y = model.predict(test_x_vector) #we learnd, and we use this model to predict the label of new data"
      ],
      "id": "0f6641e0"
    },
    {
      "cell_type": "code",
      "execution_count": null,
      "metadata": {
        "id": "cc0c4645"
      },
      "outputs": [],
      "source": [
        "from sklearn.metrics import accuracy_score\n",
        "print(f'accuracy: {accuracy_score(pred_y, test_y):.4f}')\n",
        "#it's a linear model, so this accuracy is pretty decent\n",
        "#if we use more complex model, we achive higher accuracy\n",
        "\n",
        "#in order to achive higer accuracy can related to the pre-processing (in some case we have very noised daa so we have \n",
        "# to preprocess the data manually)"
      ],
      "id": "cc0c4645"
    },
    {
      "cell_type": "markdown",
      "metadata": {
        "id": "1c6374f7"
      },
      "source": [
        "we can try to insert some senteces and look at the model predictions"
      ],
      "id": "1c6374f7"
    },
    {
      "cell_type": "code",
      "execution_count": null,
      "metadata": {
        "id": "b752e17f"
      },
      "outputs": [],
      "source": [
        "sent0 = 'I can\\'t believe how much fun I\\'m having learning to train a text classifier!'\n",
        "sent1 = 'I am really confused. I want my mommy.'\n",
        "sent2 = 'The internet connection has been pretty annoying today!'\n",
        "sent3 = 'They just played my favourite song on the radio.'\n",
        "sent4 = \"I don't like going to the dentist.\" #not is classified as stopword so is not consider\n",
        "#so if we write do not, the model keeps do as posttive because not is not considered\n",
        "# we can try an the classification wiuld be positive\n",
        "transformed_tweets = vectorizer.transform([sent0,sent1,sent2,sent3,sent4])\n",
        "predictions = model.predict(transformed_tweets)\n",
        "print(predictions) #output of the tweets present in the upper part of the block"
      ],
      "id": "b752e17f"
    },
    {
      "cell_type": "markdown",
      "metadata": {
        "id": "31a8231b"
      },
      "source": [
        "# POSSIBLE SOLUTION TO IMPROVE THE RESULTS"
      ],
      "id": "31a8231b"
    },
    {
      "cell_type": "markdown",
      "metadata": {
        "id": "05634ec4"
      },
      "source": [
        "Till now we have used all the dataset to train our models. in each case, we obtain very low result around 0.5 of accuracy. \n",
        "\n",
        "If we look at the dataset provided, we can see that for each line there is a feature that indicates the accuracy of that target for the specific sentece. In some cases, there is a value that is very low, also under the 0.5. \n",
        "\n",
        "So a possible idea in order to implement the result, can be to consider in the training phase only the sentences with a target that has an accuracy at least of 0.7/0.8"
      ],
      "id": "05634ec4"
    },
    {
      "cell_type": "markdown",
      "metadata": {
        "id": "98e1f84a"
      },
      "source": [
        "# BERT"
      ],
      "id": "98e1f84a"
    },
    {
      "cell_type": "code",
      "execution_count": null,
      "metadata": {
        "colab": {
          "base_uri": "https://localhost:8080/",
          "height": 424
        },
        "id": "6T6ZfXKMrieo",
        "outputId": "10a066a2-b972-47d6-de96-4050cd67abdd"
      },
      "outputs": [
        {
          "output_type": "execute_result",
          "data": {
            "text/plain": [
              "         dialogue_id  turn                                               uttr  \\\n",
              "26               619     4                         I 'm asking you . Please .   \n",
              "55              1302     1  You can 't use your strength to bully people ....   \n",
              "75              1718     1  Vanessa , what are you doing ? Is this what yo...   \n",
              "79              1791     1                             May I take your coat ?   \n",
              "82              1818     1                              Think you 're funny ?   \n",
              "...              ...   ...                                                ...   \n",
              "2829406      8819844     1                          What ? Why are you here ?   \n",
              "2829408      8819844     3                            Don 't you welcome me ?   \n",
              "2829413      8820065     3  V.I.K.I. , pause diagnostics . Command confirm...   \n",
              "2829415      8820065     5                              Don 't you , doctor ?   \n",
              "2829417      8820571     2  That seems to be your game . What 's that supp...   \n",
              "\n",
              "            eb+_emot  label_confidence  \n",
              "26       questioning          0.503825  \n",
              "55       questioning          0.894568  \n",
              "75       questioning          0.660891  \n",
              "79       questioning          0.574863  \n",
              "82       questioning          0.966028  \n",
              "...              ...               ...  \n",
              "2829406  questioning          0.979078  \n",
              "2829408  questioning          0.863672  \n",
              "2829413  questioning          0.783998  \n",
              "2829415  questioning          0.981621  \n",
              "2829417  questioning          0.632388  \n",
              "\n",
              "[841556 rows x 5 columns]"
            ],
            "text/html": [
              "\n",
              "  <div id=\"df-a33c20dc-17fc-4482-9bbc-69113b2595d9\">\n",
              "    <div class=\"colab-df-container\">\n",
              "      <div>\n",
              "<style scoped>\n",
              "    .dataframe tbody tr th:only-of-type {\n",
              "        vertical-align: middle;\n",
              "    }\n",
              "\n",
              "    .dataframe tbody tr th {\n",
              "        vertical-align: top;\n",
              "    }\n",
              "\n",
              "    .dataframe thead th {\n",
              "        text-align: right;\n",
              "    }\n",
              "</style>\n",
              "<table border=\"1\" class=\"dataframe\">\n",
              "  <thead>\n",
              "    <tr style=\"text-align: right;\">\n",
              "      <th></th>\n",
              "      <th>dialogue_id</th>\n",
              "      <th>turn</th>\n",
              "      <th>uttr</th>\n",
              "      <th>eb+_emot</th>\n",
              "      <th>label_confidence</th>\n",
              "    </tr>\n",
              "  </thead>\n",
              "  <tbody>\n",
              "    <tr>\n",
              "      <th>26</th>\n",
              "      <td>619</td>\n",
              "      <td>4</td>\n",
              "      <td>I 'm asking you . Please .</td>\n",
              "      <td>questioning</td>\n",
              "      <td>0.503825</td>\n",
              "    </tr>\n",
              "    <tr>\n",
              "      <th>55</th>\n",
              "      <td>1302</td>\n",
              "      <td>1</td>\n",
              "      <td>You can 't use your strength to bully people ....</td>\n",
              "      <td>questioning</td>\n",
              "      <td>0.894568</td>\n",
              "    </tr>\n",
              "    <tr>\n",
              "      <th>75</th>\n",
              "      <td>1718</td>\n",
              "      <td>1</td>\n",
              "      <td>Vanessa , what are you doing ? Is this what yo...</td>\n",
              "      <td>questioning</td>\n",
              "      <td>0.660891</td>\n",
              "    </tr>\n",
              "    <tr>\n",
              "      <th>79</th>\n",
              "      <td>1791</td>\n",
              "      <td>1</td>\n",
              "      <td>May I take your coat ?</td>\n",
              "      <td>questioning</td>\n",
              "      <td>0.574863</td>\n",
              "    </tr>\n",
              "    <tr>\n",
              "      <th>82</th>\n",
              "      <td>1818</td>\n",
              "      <td>1</td>\n",
              "      <td>Think you 're funny ?</td>\n",
              "      <td>questioning</td>\n",
              "      <td>0.966028</td>\n",
              "    </tr>\n",
              "    <tr>\n",
              "      <th>...</th>\n",
              "      <td>...</td>\n",
              "      <td>...</td>\n",
              "      <td>...</td>\n",
              "      <td>...</td>\n",
              "      <td>...</td>\n",
              "    </tr>\n",
              "    <tr>\n",
              "      <th>2829406</th>\n",
              "      <td>8819844</td>\n",
              "      <td>1</td>\n",
              "      <td>What ? Why are you here ?</td>\n",
              "      <td>questioning</td>\n",
              "      <td>0.979078</td>\n",
              "    </tr>\n",
              "    <tr>\n",
              "      <th>2829408</th>\n",
              "      <td>8819844</td>\n",
              "      <td>3</td>\n",
              "      <td>Don 't you welcome me ?</td>\n",
              "      <td>questioning</td>\n",
              "      <td>0.863672</td>\n",
              "    </tr>\n",
              "    <tr>\n",
              "      <th>2829413</th>\n",
              "      <td>8820065</td>\n",
              "      <td>3</td>\n",
              "      <td>V.I.K.I. , pause diagnostics . Command confirm...</td>\n",
              "      <td>questioning</td>\n",
              "      <td>0.783998</td>\n",
              "    </tr>\n",
              "    <tr>\n",
              "      <th>2829415</th>\n",
              "      <td>8820065</td>\n",
              "      <td>5</td>\n",
              "      <td>Don 't you , doctor ?</td>\n",
              "      <td>questioning</td>\n",
              "      <td>0.981621</td>\n",
              "    </tr>\n",
              "    <tr>\n",
              "      <th>2829417</th>\n",
              "      <td>8820571</td>\n",
              "      <td>2</td>\n",
              "      <td>That seems to be your game . What 's that supp...</td>\n",
              "      <td>questioning</td>\n",
              "      <td>0.632388</td>\n",
              "    </tr>\n",
              "  </tbody>\n",
              "</table>\n",
              "<p>841556 rows × 5 columns</p>\n",
              "</div>\n",
              "      <button class=\"colab-df-convert\" onclick=\"convertToInteractive('df-a33c20dc-17fc-4482-9bbc-69113b2595d9')\"\n",
              "              title=\"Convert this dataframe to an interactive table.\"\n",
              "              style=\"display:none;\">\n",
              "        \n",
              "  <svg xmlns=\"http://www.w3.org/2000/svg\" height=\"24px\"viewBox=\"0 0 24 24\"\n",
              "       width=\"24px\">\n",
              "    <path d=\"M0 0h24v24H0V0z\" fill=\"none\"/>\n",
              "    <path d=\"M18.56 5.44l.94 2.06.94-2.06 2.06-.94-2.06-.94-.94-2.06-.94 2.06-2.06.94zm-11 1L8.5 8.5l.94-2.06 2.06-.94-2.06-.94L8.5 2.5l-.94 2.06-2.06.94zm10 10l.94 2.06.94-2.06 2.06-.94-2.06-.94-.94-2.06-.94 2.06-2.06.94z\"/><path d=\"M17.41 7.96l-1.37-1.37c-.4-.4-.92-.59-1.43-.59-.52 0-1.04.2-1.43.59L10.3 9.45l-7.72 7.72c-.78.78-.78 2.05 0 2.83L4 21.41c.39.39.9.59 1.41.59.51 0 1.02-.2 1.41-.59l7.78-7.78 2.81-2.81c.8-.78.8-2.07 0-2.86zM5.41 20L4 18.59l7.72-7.72 1.47 1.35L5.41 20z\"/>\n",
              "  </svg>\n",
              "      </button>\n",
              "      \n",
              "  <style>\n",
              "    .colab-df-container {\n",
              "      display:flex;\n",
              "      flex-wrap:wrap;\n",
              "      gap: 12px;\n",
              "    }\n",
              "\n",
              "    .colab-df-convert {\n",
              "      background-color: #E8F0FE;\n",
              "      border: none;\n",
              "      border-radius: 50%;\n",
              "      cursor: pointer;\n",
              "      display: none;\n",
              "      fill: #1967D2;\n",
              "      height: 32px;\n",
              "      padding: 0 0 0 0;\n",
              "      width: 32px;\n",
              "    }\n",
              "\n",
              "    .colab-df-convert:hover {\n",
              "      background-color: #E2EBFA;\n",
              "      box-shadow: 0px 1px 2px rgba(60, 64, 67, 0.3), 0px 1px 3px 1px rgba(60, 64, 67, 0.15);\n",
              "      fill: #174EA6;\n",
              "    }\n",
              "\n",
              "    [theme=dark] .colab-df-convert {\n",
              "      background-color: #3B4455;\n",
              "      fill: #D2E3FC;\n",
              "    }\n",
              "\n",
              "    [theme=dark] .colab-df-convert:hover {\n",
              "      background-color: #434B5C;\n",
              "      box-shadow: 0px 1px 3px 1px rgba(0, 0, 0, 0.15);\n",
              "      filter: drop-shadow(0px 1px 2px rgba(0, 0, 0, 0.3));\n",
              "      fill: #FFFFFF;\n",
              "    }\n",
              "  </style>\n",
              "\n",
              "      <script>\n",
              "        const buttonEl =\n",
              "          document.querySelector('#df-a33c20dc-17fc-4482-9bbc-69113b2595d9 button.colab-df-convert');\n",
              "        buttonEl.style.display =\n",
              "          google.colab.kernel.accessAllowed ? 'block' : 'none';\n",
              "\n",
              "        async function convertToInteractive(key) {\n",
              "          const element = document.querySelector('#df-a33c20dc-17fc-4482-9bbc-69113b2595d9');\n",
              "          const dataTable =\n",
              "            await google.colab.kernel.invokeFunction('convertToInteractive',\n",
              "                                                     [key], {});\n",
              "          if (!dataTable) return;\n",
              "\n",
              "          const docLinkHtml = 'Like what you see? Visit the ' +\n",
              "            '<a target=\"_blank\" href=https://colab.research.google.com/notebooks/data_table.ipynb>data table notebook</a>'\n",
              "            + ' to learn more about interactive tables.';\n",
              "          element.innerHTML = '';\n",
              "          dataTable['output_type'] = 'display_data';\n",
              "          await google.colab.output.renderOutput(dataTable, element);\n",
              "          const docLink = document.createElement('div');\n",
              "          docLink.innerHTML = docLinkHtml;\n",
              "          element.appendChild(docLink);\n",
              "        }\n",
              "      </script>\n",
              "    </div>\n",
              "  </div>\n",
              "  "
            ]
          },
          "metadata": {},
          "execution_count": 4
        }
      ],
      "source": [
        "df_majority = df[df[\"eb+_emot\"] == 'questioning'];\n",
        "df_majority"
      ],
      "id": "6T6ZfXKMrieo"
    },
    {
      "cell_type": "code",
      "execution_count": null,
      "metadata": {
        "colab": {
          "base_uri": "https://localhost:8080/",
          "height": 424
        },
        "id": "hhKfxGa1s4F-",
        "outputId": "c9126a99-6f50-440f-8a6a-66cbec25f1b2"
      },
      "outputs": [
        {
          "output_type": "execute_result",
          "data": {
            "text/plain": [
              "         dialogue_id  turn                                               uttr  \\\n",
              "0                 97     1  You moron ! What fool washes diapers by the we...   \n",
              "1                 97     2                                 You useless fool !   \n",
              "2                 99     1                               How dare you sleep !   \n",
              "3                 99     2                      Up ! Go and clean the house .   \n",
              "4                100     1                                Clean the kitchen .   \n",
              "...              ...   ...                                                ...   \n",
              "2829421      8820621     3  This is so stupid . How can I be upset over so...   \n",
              "2829422      8820621     4                                   It 's negative ?   \n",
              "2829423      8820621     5                              No , it 's positive .   \n",
              "2829424      8820637     1                                        Thank God !   \n",
              "2829425      8820637     2                     So tell me one of your moves .   \n",
              "\n",
              "              eb+_emot  label_confidence  \n",
              "0                angry          0.437522  \n",
              "1              furious          0.731564  \n",
              "2              furious          0.605636  \n",
              "3             prepared          0.650449  \n",
              "4             prepared          0.742187  \n",
              "...                ...               ...  \n",
              "2829421        furious          0.455627  \n",
              "2829422  acknowledging          0.440911  \n",
              "2829423       agreeing          0.428994  \n",
              "2829424       grateful          0.987517  \n",
              "2829425     suggesting          0.794787  \n",
              "\n",
              "[1987870 rows x 5 columns]"
            ],
            "text/html": [
              "\n",
              "  <div id=\"df-5c89cbdc-0350-4004-bfad-df2b9d6d9799\">\n",
              "    <div class=\"colab-df-container\">\n",
              "      <div>\n",
              "<style scoped>\n",
              "    .dataframe tbody tr th:only-of-type {\n",
              "        vertical-align: middle;\n",
              "    }\n",
              "\n",
              "    .dataframe tbody tr th {\n",
              "        vertical-align: top;\n",
              "    }\n",
              "\n",
              "    .dataframe thead th {\n",
              "        text-align: right;\n",
              "    }\n",
              "</style>\n",
              "<table border=\"1\" class=\"dataframe\">\n",
              "  <thead>\n",
              "    <tr style=\"text-align: right;\">\n",
              "      <th></th>\n",
              "      <th>dialogue_id</th>\n",
              "      <th>turn</th>\n",
              "      <th>uttr</th>\n",
              "      <th>eb+_emot</th>\n",
              "      <th>label_confidence</th>\n",
              "    </tr>\n",
              "  </thead>\n",
              "  <tbody>\n",
              "    <tr>\n",
              "      <th>0</th>\n",
              "      <td>97</td>\n",
              "      <td>1</td>\n",
              "      <td>You moron ! What fool washes diapers by the we...</td>\n",
              "      <td>angry</td>\n",
              "      <td>0.437522</td>\n",
              "    </tr>\n",
              "    <tr>\n",
              "      <th>1</th>\n",
              "      <td>97</td>\n",
              "      <td>2</td>\n",
              "      <td>You useless fool !</td>\n",
              "      <td>furious</td>\n",
              "      <td>0.731564</td>\n",
              "    </tr>\n",
              "    <tr>\n",
              "      <th>2</th>\n",
              "      <td>99</td>\n",
              "      <td>1</td>\n",
              "      <td>How dare you sleep !</td>\n",
              "      <td>furious</td>\n",
              "      <td>0.605636</td>\n",
              "    </tr>\n",
              "    <tr>\n",
              "      <th>3</th>\n",
              "      <td>99</td>\n",
              "      <td>2</td>\n",
              "      <td>Up ! Go and clean the house .</td>\n",
              "      <td>prepared</td>\n",
              "      <td>0.650449</td>\n",
              "    </tr>\n",
              "    <tr>\n",
              "      <th>4</th>\n",
              "      <td>100</td>\n",
              "      <td>1</td>\n",
              "      <td>Clean the kitchen .</td>\n",
              "      <td>prepared</td>\n",
              "      <td>0.742187</td>\n",
              "    </tr>\n",
              "    <tr>\n",
              "      <th>...</th>\n",
              "      <td>...</td>\n",
              "      <td>...</td>\n",
              "      <td>...</td>\n",
              "      <td>...</td>\n",
              "      <td>...</td>\n",
              "    </tr>\n",
              "    <tr>\n",
              "      <th>2829421</th>\n",
              "      <td>8820621</td>\n",
              "      <td>3</td>\n",
              "      <td>This is so stupid . How can I be upset over so...</td>\n",
              "      <td>furious</td>\n",
              "      <td>0.455627</td>\n",
              "    </tr>\n",
              "    <tr>\n",
              "      <th>2829422</th>\n",
              "      <td>8820621</td>\n",
              "      <td>4</td>\n",
              "      <td>It 's negative ?</td>\n",
              "      <td>acknowledging</td>\n",
              "      <td>0.440911</td>\n",
              "    </tr>\n",
              "    <tr>\n",
              "      <th>2829423</th>\n",
              "      <td>8820621</td>\n",
              "      <td>5</td>\n",
              "      <td>No , it 's positive .</td>\n",
              "      <td>agreeing</td>\n",
              "      <td>0.428994</td>\n",
              "    </tr>\n",
              "    <tr>\n",
              "      <th>2829424</th>\n",
              "      <td>8820637</td>\n",
              "      <td>1</td>\n",
              "      <td>Thank God !</td>\n",
              "      <td>grateful</td>\n",
              "      <td>0.987517</td>\n",
              "    </tr>\n",
              "    <tr>\n",
              "      <th>2829425</th>\n",
              "      <td>8820637</td>\n",
              "      <td>2</td>\n",
              "      <td>So tell me one of your moves .</td>\n",
              "      <td>suggesting</td>\n",
              "      <td>0.794787</td>\n",
              "    </tr>\n",
              "  </tbody>\n",
              "</table>\n",
              "<p>1987870 rows × 5 columns</p>\n",
              "</div>\n",
              "      <button class=\"colab-df-convert\" onclick=\"convertToInteractive('df-5c89cbdc-0350-4004-bfad-df2b9d6d9799')\"\n",
              "              title=\"Convert this dataframe to an interactive table.\"\n",
              "              style=\"display:none;\">\n",
              "        \n",
              "  <svg xmlns=\"http://www.w3.org/2000/svg\" height=\"24px\"viewBox=\"0 0 24 24\"\n",
              "       width=\"24px\">\n",
              "    <path d=\"M0 0h24v24H0V0z\" fill=\"none\"/>\n",
              "    <path d=\"M18.56 5.44l.94 2.06.94-2.06 2.06-.94-2.06-.94-.94-2.06-.94 2.06-2.06.94zm-11 1L8.5 8.5l.94-2.06 2.06-.94-2.06-.94L8.5 2.5l-.94 2.06-2.06.94zm10 10l.94 2.06.94-2.06 2.06-.94-2.06-.94-.94-2.06-.94 2.06-2.06.94z\"/><path d=\"M17.41 7.96l-1.37-1.37c-.4-.4-.92-.59-1.43-.59-.52 0-1.04.2-1.43.59L10.3 9.45l-7.72 7.72c-.78.78-.78 2.05 0 2.83L4 21.41c.39.39.9.59 1.41.59.51 0 1.02-.2 1.41-.59l7.78-7.78 2.81-2.81c.8-.78.8-2.07 0-2.86zM5.41 20L4 18.59l7.72-7.72 1.47 1.35L5.41 20z\"/>\n",
              "  </svg>\n",
              "      </button>\n",
              "      \n",
              "  <style>\n",
              "    .colab-df-container {\n",
              "      display:flex;\n",
              "      flex-wrap:wrap;\n",
              "      gap: 12px;\n",
              "    }\n",
              "\n",
              "    .colab-df-convert {\n",
              "      background-color: #E8F0FE;\n",
              "      border: none;\n",
              "      border-radius: 50%;\n",
              "      cursor: pointer;\n",
              "      display: none;\n",
              "      fill: #1967D2;\n",
              "      height: 32px;\n",
              "      padding: 0 0 0 0;\n",
              "      width: 32px;\n",
              "    }\n",
              "\n",
              "    .colab-df-convert:hover {\n",
              "      background-color: #E2EBFA;\n",
              "      box-shadow: 0px 1px 2px rgba(60, 64, 67, 0.3), 0px 1px 3px 1px rgba(60, 64, 67, 0.15);\n",
              "      fill: #174EA6;\n",
              "    }\n",
              "\n",
              "    [theme=dark] .colab-df-convert {\n",
              "      background-color: #3B4455;\n",
              "      fill: #D2E3FC;\n",
              "    }\n",
              "\n",
              "    [theme=dark] .colab-df-convert:hover {\n",
              "      background-color: #434B5C;\n",
              "      box-shadow: 0px 1px 3px 1px rgba(0, 0, 0, 0.15);\n",
              "      filter: drop-shadow(0px 1px 2px rgba(0, 0, 0, 0.3));\n",
              "      fill: #FFFFFF;\n",
              "    }\n",
              "  </style>\n",
              "\n",
              "      <script>\n",
              "        const buttonEl =\n",
              "          document.querySelector('#df-5c89cbdc-0350-4004-bfad-df2b9d6d9799 button.colab-df-convert');\n",
              "        buttonEl.style.display =\n",
              "          google.colab.kernel.accessAllowed ? 'block' : 'none';\n",
              "\n",
              "        async function convertToInteractive(key) {\n",
              "          const element = document.querySelector('#df-5c89cbdc-0350-4004-bfad-df2b9d6d9799');\n",
              "          const dataTable =\n",
              "            await google.colab.kernel.invokeFunction('convertToInteractive',\n",
              "                                                     [key], {});\n",
              "          if (!dataTable) return;\n",
              "\n",
              "          const docLinkHtml = 'Like what you see? Visit the ' +\n",
              "            '<a target=\"_blank\" href=https://colab.research.google.com/notebooks/data_table.ipynb>data table notebook</a>'\n",
              "            + ' to learn more about interactive tables.';\n",
              "          element.innerHTML = '';\n",
              "          dataTable['output_type'] = 'display_data';\n",
              "          await google.colab.output.renderOutput(dataTable, element);\n",
              "          const docLink = document.createElement('div');\n",
              "          docLink.innerHTML = docLinkHtml;\n",
              "          element.appendChild(docLink);\n",
              "        }\n",
              "      </script>\n",
              "    </div>\n",
              "  </div>\n",
              "  "
            ]
          },
          "metadata": {},
          "execution_count": 5
        }
      ],
      "source": [
        "df_minority = df[df[\"eb+_emot\"] != 'questioning'];\n",
        "df_minority"
      ],
      "id": "hhKfxGa1s4F-"
    },
    {
      "cell_type": "code",
      "execution_count": null,
      "metadata": {
        "colab": {
          "base_uri": "https://localhost:8080/",
          "height": 424
        },
        "id": "hgBhbDs7p2I4",
        "outputId": "a1b919e4-d6c8-4bc1-a25b-444d9b681d5e"
      },
      "outputs": [
        {
          "output_type": "execute_result",
          "data": {
            "text/plain": [
              "         dialogue_id  turn                                               uttr  \\\n",
              "2339563      8669200     1                                        this ring ?   \n",
              "2728459      4925866     2               No . Why , have you lost something ?   \n",
              "775141       1138482     3  Do you think he killed someone ? Thus , shot s...   \n",
              "1245900      3423011     1       Yo , can you pass the sports section , Kev ?   \n",
              "1965213      6861557     2                Does he resemble Joseph Théphanie ?   \n",
              "...              ...   ...                                                ...   \n",
              "2734894      5158535     1                                Is Max there ? No .   \n",
              "550655         69517     1                           Where are the children ?   \n",
              "860179       1539017     1           Hey ! Why you running around like that ?   \n",
              "1088959      2661114     2              Do you want me to be a doll forever ?   \n",
              "1692465      5546881     2                            Diana , what 's wrong ?   \n",
              "\n",
              "            eb+_emot  label_confidence  \n",
              "2339563  questioning          0.941471  \n",
              "2728459  questioning          0.975147  \n",
              "775141   questioning          0.899408  \n",
              "1245900  questioning          0.827465  \n",
              "1965213  questioning          0.786643  \n",
              "...              ...               ...  \n",
              "2734894  questioning          0.905073  \n",
              "550655   questioning          0.809053  \n",
              "860179   questioning          0.925177  \n",
              "1088959  questioning          0.895170  \n",
              "1692465  questioning          0.749296  \n",
              "\n",
              "[169917 rows x 5 columns]"
            ],
            "text/html": [
              "\n",
              "  <div id=\"df-b72d27e5-96cc-462a-97ac-beb103a07cd0\">\n",
              "    <div class=\"colab-df-container\">\n",
              "      <div>\n",
              "<style scoped>\n",
              "    .dataframe tbody tr th:only-of-type {\n",
              "        vertical-align: middle;\n",
              "    }\n",
              "\n",
              "    .dataframe tbody tr th {\n",
              "        vertical-align: top;\n",
              "    }\n",
              "\n",
              "    .dataframe thead th {\n",
              "        text-align: right;\n",
              "    }\n",
              "</style>\n",
              "<table border=\"1\" class=\"dataframe\">\n",
              "  <thead>\n",
              "    <tr style=\"text-align: right;\">\n",
              "      <th></th>\n",
              "      <th>dialogue_id</th>\n",
              "      <th>turn</th>\n",
              "      <th>uttr</th>\n",
              "      <th>eb+_emot</th>\n",
              "      <th>label_confidence</th>\n",
              "    </tr>\n",
              "  </thead>\n",
              "  <tbody>\n",
              "    <tr>\n",
              "      <th>2339563</th>\n",
              "      <td>8669200</td>\n",
              "      <td>1</td>\n",
              "      <td>this ring ?</td>\n",
              "      <td>questioning</td>\n",
              "      <td>0.941471</td>\n",
              "    </tr>\n",
              "    <tr>\n",
              "      <th>2728459</th>\n",
              "      <td>4925866</td>\n",
              "      <td>2</td>\n",
              "      <td>No . Why , have you lost something ?</td>\n",
              "      <td>questioning</td>\n",
              "      <td>0.975147</td>\n",
              "    </tr>\n",
              "    <tr>\n",
              "      <th>775141</th>\n",
              "      <td>1138482</td>\n",
              "      <td>3</td>\n",
              "      <td>Do you think he killed someone ? Thus , shot s...</td>\n",
              "      <td>questioning</td>\n",
              "      <td>0.899408</td>\n",
              "    </tr>\n",
              "    <tr>\n",
              "      <th>1245900</th>\n",
              "      <td>3423011</td>\n",
              "      <td>1</td>\n",
              "      <td>Yo , can you pass the sports section , Kev ?</td>\n",
              "      <td>questioning</td>\n",
              "      <td>0.827465</td>\n",
              "    </tr>\n",
              "    <tr>\n",
              "      <th>1965213</th>\n",
              "      <td>6861557</td>\n",
              "      <td>2</td>\n",
              "      <td>Does he resemble Joseph Théphanie ?</td>\n",
              "      <td>questioning</td>\n",
              "      <td>0.786643</td>\n",
              "    </tr>\n",
              "    <tr>\n",
              "      <th>...</th>\n",
              "      <td>...</td>\n",
              "      <td>...</td>\n",
              "      <td>...</td>\n",
              "      <td>...</td>\n",
              "      <td>...</td>\n",
              "    </tr>\n",
              "    <tr>\n",
              "      <th>2734894</th>\n",
              "      <td>5158535</td>\n",
              "      <td>1</td>\n",
              "      <td>Is Max there ? No .</td>\n",
              "      <td>questioning</td>\n",
              "      <td>0.905073</td>\n",
              "    </tr>\n",
              "    <tr>\n",
              "      <th>550655</th>\n",
              "      <td>69517</td>\n",
              "      <td>1</td>\n",
              "      <td>Where are the children ?</td>\n",
              "      <td>questioning</td>\n",
              "      <td>0.809053</td>\n",
              "    </tr>\n",
              "    <tr>\n",
              "      <th>860179</th>\n",
              "      <td>1539017</td>\n",
              "      <td>1</td>\n",
              "      <td>Hey ! Why you running around like that ?</td>\n",
              "      <td>questioning</td>\n",
              "      <td>0.925177</td>\n",
              "    </tr>\n",
              "    <tr>\n",
              "      <th>1088959</th>\n",
              "      <td>2661114</td>\n",
              "      <td>2</td>\n",
              "      <td>Do you want me to be a doll forever ?</td>\n",
              "      <td>questioning</td>\n",
              "      <td>0.895170</td>\n",
              "    </tr>\n",
              "    <tr>\n",
              "      <th>1692465</th>\n",
              "      <td>5546881</td>\n",
              "      <td>2</td>\n",
              "      <td>Diana , what 's wrong ?</td>\n",
              "      <td>questioning</td>\n",
              "      <td>0.749296</td>\n",
              "    </tr>\n",
              "  </tbody>\n",
              "</table>\n",
              "<p>169917 rows × 5 columns</p>\n",
              "</div>\n",
              "      <button class=\"colab-df-convert\" onclick=\"convertToInteractive('df-b72d27e5-96cc-462a-97ac-beb103a07cd0')\"\n",
              "              title=\"Convert this dataframe to an interactive table.\"\n",
              "              style=\"display:none;\">\n",
              "        \n",
              "  <svg xmlns=\"http://www.w3.org/2000/svg\" height=\"24px\"viewBox=\"0 0 24 24\"\n",
              "       width=\"24px\">\n",
              "    <path d=\"M0 0h24v24H0V0z\" fill=\"none\"/>\n",
              "    <path d=\"M18.56 5.44l.94 2.06.94-2.06 2.06-.94-2.06-.94-.94-2.06-.94 2.06-2.06.94zm-11 1L8.5 8.5l.94-2.06 2.06-.94-2.06-.94L8.5 2.5l-.94 2.06-2.06.94zm10 10l.94 2.06.94-2.06 2.06-.94-2.06-.94-.94-2.06-.94 2.06-2.06.94z\"/><path d=\"M17.41 7.96l-1.37-1.37c-.4-.4-.92-.59-1.43-.59-.52 0-1.04.2-1.43.59L10.3 9.45l-7.72 7.72c-.78.78-.78 2.05 0 2.83L4 21.41c.39.39.9.59 1.41.59.51 0 1.02-.2 1.41-.59l7.78-7.78 2.81-2.81c.8-.78.8-2.07 0-2.86zM5.41 20L4 18.59l7.72-7.72 1.47 1.35L5.41 20z\"/>\n",
              "  </svg>\n",
              "      </button>\n",
              "      \n",
              "  <style>\n",
              "    .colab-df-container {\n",
              "      display:flex;\n",
              "      flex-wrap:wrap;\n",
              "      gap: 12px;\n",
              "    }\n",
              "\n",
              "    .colab-df-convert {\n",
              "      background-color: #E8F0FE;\n",
              "      border: none;\n",
              "      border-radius: 50%;\n",
              "      cursor: pointer;\n",
              "      display: none;\n",
              "      fill: #1967D2;\n",
              "      height: 32px;\n",
              "      padding: 0 0 0 0;\n",
              "      width: 32px;\n",
              "    }\n",
              "\n",
              "    .colab-df-convert:hover {\n",
              "      background-color: #E2EBFA;\n",
              "      box-shadow: 0px 1px 2px rgba(60, 64, 67, 0.3), 0px 1px 3px 1px rgba(60, 64, 67, 0.15);\n",
              "      fill: #174EA6;\n",
              "    }\n",
              "\n",
              "    [theme=dark] .colab-df-convert {\n",
              "      background-color: #3B4455;\n",
              "      fill: #D2E3FC;\n",
              "    }\n",
              "\n",
              "    [theme=dark] .colab-df-convert:hover {\n",
              "      background-color: #434B5C;\n",
              "      box-shadow: 0px 1px 3px 1px rgba(0, 0, 0, 0.15);\n",
              "      filter: drop-shadow(0px 1px 2px rgba(0, 0, 0, 0.3));\n",
              "      fill: #FFFFFF;\n",
              "    }\n",
              "  </style>\n",
              "\n",
              "      <script>\n",
              "        const buttonEl =\n",
              "          document.querySelector('#df-b72d27e5-96cc-462a-97ac-beb103a07cd0 button.colab-df-convert');\n",
              "        buttonEl.style.display =\n",
              "          google.colab.kernel.accessAllowed ? 'block' : 'none';\n",
              "\n",
              "        async function convertToInteractive(key) {\n",
              "          const element = document.querySelector('#df-b72d27e5-96cc-462a-97ac-beb103a07cd0');\n",
              "          const dataTable =\n",
              "            await google.colab.kernel.invokeFunction('convertToInteractive',\n",
              "                                                     [key], {});\n",
              "          if (!dataTable) return;\n",
              "\n",
              "          const docLinkHtml = 'Like what you see? Visit the ' +\n",
              "            '<a target=\"_blank\" href=https://colab.research.google.com/notebooks/data_table.ipynb>data table notebook</a>'\n",
              "            + ' to learn more about interactive tables.';\n",
              "          element.innerHTML = '';\n",
              "          dataTable['output_type'] = 'display_data';\n",
              "          await google.colab.output.renderOutput(dataTable, element);\n",
              "          const docLink = document.createElement('div');\n",
              "          docLink.innerHTML = docLinkHtml;\n",
              "          element.appendChild(docLink);\n",
              "        }\n",
              "      </script>\n",
              "    </div>\n",
              "  </div>\n",
              "  "
            ]
          },
          "metadata": {},
          "execution_count": 6
        }
      ],
      "source": [
        "from sklearn.utils import resample\n",
        "df_majority_downsampled = resample(df_majority, \n",
        "                                   replace=False,\n",
        "                                   n_samples=169917,     # number of samples into the minority class (change it accordingly to your dataset)\n",
        "                                   random_state=123)  # reproducible results\n",
        "df_majority_downsampled"
      ],
      "id": "hgBhbDs7p2I4"
    },
    {
      "cell_type": "code",
      "execution_count": null,
      "metadata": {
        "colab": {
          "base_uri": "https://localhost:8080/",
          "height": 424
        },
        "id": "Jyn2SMK9p2L9",
        "outputId": "11445a0f-5fb8-468e-d20d-d2548162dcf5"
      },
      "outputs": [
        {
          "output_type": "execute_result",
          "data": {
            "text/plain": [
              "         dialogue_id  turn                                               uttr  \\\n",
              "2339563      8669200     1                                        this ring ?   \n",
              "2728459      4925866     2               No . Why , have you lost something ?   \n",
              "775141       1138482     3  Do you think he killed someone ? Thus , shot s...   \n",
              "1245900      3423011     1       Yo , can you pass the sports section , Kev ?   \n",
              "1965213      6861557     2                Does he resemble Joseph Théphanie ?   \n",
              "...              ...   ...                                                ...   \n",
              "2829421      8820621     3  This is so stupid . How can I be upset over so...   \n",
              "2829422      8820621     4                                   It 's negative ?   \n",
              "2829423      8820621     5                              No , it 's positive .   \n",
              "2829424      8820637     1                                        Thank God !   \n",
              "2829425      8820637     2                     So tell me one of your moves .   \n",
              "\n",
              "              eb+_emot  label_confidence  \n",
              "2339563    questioning          0.941471  \n",
              "2728459    questioning          0.975147  \n",
              "775141     questioning          0.899408  \n",
              "1245900    questioning          0.827465  \n",
              "1965213    questioning          0.786643  \n",
              "...                ...               ...  \n",
              "2829421        furious          0.455627  \n",
              "2829422  acknowledging          0.440911  \n",
              "2829423       agreeing          0.428994  \n",
              "2829424       grateful          0.987517  \n",
              "2829425     suggesting          0.794787  \n",
              "\n",
              "[2157787 rows x 5 columns]"
            ],
            "text/html": [
              "\n",
              "  <div id=\"df-7b086e8c-7327-415d-bdb1-247160542f3c\">\n",
              "    <div class=\"colab-df-container\">\n",
              "      <div>\n",
              "<style scoped>\n",
              "    .dataframe tbody tr th:only-of-type {\n",
              "        vertical-align: middle;\n",
              "    }\n",
              "\n",
              "    .dataframe tbody tr th {\n",
              "        vertical-align: top;\n",
              "    }\n",
              "\n",
              "    .dataframe thead th {\n",
              "        text-align: right;\n",
              "    }\n",
              "</style>\n",
              "<table border=\"1\" class=\"dataframe\">\n",
              "  <thead>\n",
              "    <tr style=\"text-align: right;\">\n",
              "      <th></th>\n",
              "      <th>dialogue_id</th>\n",
              "      <th>turn</th>\n",
              "      <th>uttr</th>\n",
              "      <th>eb+_emot</th>\n",
              "      <th>label_confidence</th>\n",
              "    </tr>\n",
              "  </thead>\n",
              "  <tbody>\n",
              "    <tr>\n",
              "      <th>2339563</th>\n",
              "      <td>8669200</td>\n",
              "      <td>1</td>\n",
              "      <td>this ring ?</td>\n",
              "      <td>questioning</td>\n",
              "      <td>0.941471</td>\n",
              "    </tr>\n",
              "    <tr>\n",
              "      <th>2728459</th>\n",
              "      <td>4925866</td>\n",
              "      <td>2</td>\n",
              "      <td>No . Why , have you lost something ?</td>\n",
              "      <td>questioning</td>\n",
              "      <td>0.975147</td>\n",
              "    </tr>\n",
              "    <tr>\n",
              "      <th>775141</th>\n",
              "      <td>1138482</td>\n",
              "      <td>3</td>\n",
              "      <td>Do you think he killed someone ? Thus , shot s...</td>\n",
              "      <td>questioning</td>\n",
              "      <td>0.899408</td>\n",
              "    </tr>\n",
              "    <tr>\n",
              "      <th>1245900</th>\n",
              "      <td>3423011</td>\n",
              "      <td>1</td>\n",
              "      <td>Yo , can you pass the sports section , Kev ?</td>\n",
              "      <td>questioning</td>\n",
              "      <td>0.827465</td>\n",
              "    </tr>\n",
              "    <tr>\n",
              "      <th>1965213</th>\n",
              "      <td>6861557</td>\n",
              "      <td>2</td>\n",
              "      <td>Does he resemble Joseph Théphanie ?</td>\n",
              "      <td>questioning</td>\n",
              "      <td>0.786643</td>\n",
              "    </tr>\n",
              "    <tr>\n",
              "      <th>...</th>\n",
              "      <td>...</td>\n",
              "      <td>...</td>\n",
              "      <td>...</td>\n",
              "      <td>...</td>\n",
              "      <td>...</td>\n",
              "    </tr>\n",
              "    <tr>\n",
              "      <th>2829421</th>\n",
              "      <td>8820621</td>\n",
              "      <td>3</td>\n",
              "      <td>This is so stupid . How can I be upset over so...</td>\n",
              "      <td>furious</td>\n",
              "      <td>0.455627</td>\n",
              "    </tr>\n",
              "    <tr>\n",
              "      <th>2829422</th>\n",
              "      <td>8820621</td>\n",
              "      <td>4</td>\n",
              "      <td>It 's negative ?</td>\n",
              "      <td>acknowledging</td>\n",
              "      <td>0.440911</td>\n",
              "    </tr>\n",
              "    <tr>\n",
              "      <th>2829423</th>\n",
              "      <td>8820621</td>\n",
              "      <td>5</td>\n",
              "      <td>No , it 's positive .</td>\n",
              "      <td>agreeing</td>\n",
              "      <td>0.428994</td>\n",
              "    </tr>\n",
              "    <tr>\n",
              "      <th>2829424</th>\n",
              "      <td>8820637</td>\n",
              "      <td>1</td>\n",
              "      <td>Thank God !</td>\n",
              "      <td>grateful</td>\n",
              "      <td>0.987517</td>\n",
              "    </tr>\n",
              "    <tr>\n",
              "      <th>2829425</th>\n",
              "      <td>8820637</td>\n",
              "      <td>2</td>\n",
              "      <td>So tell me one of your moves .</td>\n",
              "      <td>suggesting</td>\n",
              "      <td>0.794787</td>\n",
              "    </tr>\n",
              "  </tbody>\n",
              "</table>\n",
              "<p>2157787 rows × 5 columns</p>\n",
              "</div>\n",
              "      <button class=\"colab-df-convert\" onclick=\"convertToInteractive('df-7b086e8c-7327-415d-bdb1-247160542f3c')\"\n",
              "              title=\"Convert this dataframe to an interactive table.\"\n",
              "              style=\"display:none;\">\n",
              "        \n",
              "  <svg xmlns=\"http://www.w3.org/2000/svg\" height=\"24px\"viewBox=\"0 0 24 24\"\n",
              "       width=\"24px\">\n",
              "    <path d=\"M0 0h24v24H0V0z\" fill=\"none\"/>\n",
              "    <path d=\"M18.56 5.44l.94 2.06.94-2.06 2.06-.94-2.06-.94-.94-2.06-.94 2.06-2.06.94zm-11 1L8.5 8.5l.94-2.06 2.06-.94-2.06-.94L8.5 2.5l-.94 2.06-2.06.94zm10 10l.94 2.06.94-2.06 2.06-.94-2.06-.94-.94-2.06-.94 2.06-2.06.94z\"/><path d=\"M17.41 7.96l-1.37-1.37c-.4-.4-.92-.59-1.43-.59-.52 0-1.04.2-1.43.59L10.3 9.45l-7.72 7.72c-.78.78-.78 2.05 0 2.83L4 21.41c.39.39.9.59 1.41.59.51 0 1.02-.2 1.41-.59l7.78-7.78 2.81-2.81c.8-.78.8-2.07 0-2.86zM5.41 20L4 18.59l7.72-7.72 1.47 1.35L5.41 20z\"/>\n",
              "  </svg>\n",
              "      </button>\n",
              "      \n",
              "  <style>\n",
              "    .colab-df-container {\n",
              "      display:flex;\n",
              "      flex-wrap:wrap;\n",
              "      gap: 12px;\n",
              "    }\n",
              "\n",
              "    .colab-df-convert {\n",
              "      background-color: #E8F0FE;\n",
              "      border: none;\n",
              "      border-radius: 50%;\n",
              "      cursor: pointer;\n",
              "      display: none;\n",
              "      fill: #1967D2;\n",
              "      height: 32px;\n",
              "      padding: 0 0 0 0;\n",
              "      width: 32px;\n",
              "    }\n",
              "\n",
              "    .colab-df-convert:hover {\n",
              "      background-color: #E2EBFA;\n",
              "      box-shadow: 0px 1px 2px rgba(60, 64, 67, 0.3), 0px 1px 3px 1px rgba(60, 64, 67, 0.15);\n",
              "      fill: #174EA6;\n",
              "    }\n",
              "\n",
              "    [theme=dark] .colab-df-convert {\n",
              "      background-color: #3B4455;\n",
              "      fill: #D2E3FC;\n",
              "    }\n",
              "\n",
              "    [theme=dark] .colab-df-convert:hover {\n",
              "      background-color: #434B5C;\n",
              "      box-shadow: 0px 1px 3px 1px rgba(0, 0, 0, 0.15);\n",
              "      filter: drop-shadow(0px 1px 2px rgba(0, 0, 0, 0.3));\n",
              "      fill: #FFFFFF;\n",
              "    }\n",
              "  </style>\n",
              "\n",
              "      <script>\n",
              "        const buttonEl =\n",
              "          document.querySelector('#df-7b086e8c-7327-415d-bdb1-247160542f3c button.colab-df-convert');\n",
              "        buttonEl.style.display =\n",
              "          google.colab.kernel.accessAllowed ? 'block' : 'none';\n",
              "\n",
              "        async function convertToInteractive(key) {\n",
              "          const element = document.querySelector('#df-7b086e8c-7327-415d-bdb1-247160542f3c');\n",
              "          const dataTable =\n",
              "            await google.colab.kernel.invokeFunction('convertToInteractive',\n",
              "                                                     [key], {});\n",
              "          if (!dataTable) return;\n",
              "\n",
              "          const docLinkHtml = 'Like what you see? Visit the ' +\n",
              "            '<a target=\"_blank\" href=https://colab.research.google.com/notebooks/data_table.ipynb>data table notebook</a>'\n",
              "            + ' to learn more about interactive tables.';\n",
              "          element.innerHTML = '';\n",
              "          dataTable['output_type'] = 'display_data';\n",
              "          await google.colab.output.renderOutput(dataTable, element);\n",
              "          const docLink = document.createElement('div');\n",
              "          docLink.innerHTML = docLinkHtml;\n",
              "          element.appendChild(docLink);\n",
              "        }\n",
              "      </script>\n",
              "    </div>\n",
              "  </div>\n",
              "  "
            ]
          },
          "metadata": {},
          "execution_count": 7
        }
      ],
      "source": [
        "df_downsampled = pd.concat([df_majority_downsampled, df_minority])\n",
        "df_downsampled"
      ],
      "id": "Jyn2SMK9p2L9"
    },
    {
      "cell_type": "code",
      "execution_count": null,
      "metadata": {
        "colab": {
          "base_uri": "https://localhost:8080/",
          "height": 447
        },
        "id": "XRgp_c5Mp2PE",
        "outputId": "36561ce9-2c36-4d08-a836-ec8c12df71cc"
      },
      "outputs": [
        {
          "output_type": "execute_result",
          "data": {
            "text/plain": [
              "<Axes: >"
            ]
          },
          "metadata": {},
          "execution_count": 8
        },
        {
          "output_type": "display_data",
          "data": {
            "text/plain": [
              "<Figure size 640x480 with 1 Axes>"
            ],
            "image/png": "[encoded data removed]"
          },
          "metadata": {}
        }
      ],
      "source": [
        "df_downsampled['eb+_emot'].value_counts()[:20].plot(kind='barh')"
      ],
      "id": "XRgp_c5Mp2PE"
    },
    {
      "cell_type": "code",
      "execution_count": null,
      "metadata": {
        "colab": {
          "base_uri": "https://localhost:8080/",
          "height": 447
        },
        "id": "kWXYQkBcp2SI",
        "outputId": "10278d2e-8c9b-4986-886f-54ce179db099"
      },
      "outputs": [
        {
          "output_type": "execute_result",
          "data": {
            "text/plain": [
              "<Axes: >"
            ]
          },
          "metadata": {},
          "execution_count": 9
        },
        {
          "output_type": "display_data",
          "data": {
            "text/plain": [
              "<Figure size 640x480 with 1 Axes>"
            ],
            "image/png": "[encoded data removed]"
          },
          "metadata": {}
        }
      ],
      "source": [
        "df_downsampled['eb+_emot'].value_counts()[21:].plot(kind='barh')"
      ],
      "id": "kWXYQkBcp2SI"
    },
    {
      "cell_type": "code",
      "execution_count": null,
      "metadata": {
        "id": "9K1VmPdop2VR"
      },
      "outputs": [],
      "source": [
        "# maybe we have to reduce all the label, but in this way we reduce a lot the inital datset"
      ],
      "id": "9K1VmPdop2VR"
    },
    {
      "cell_type": "code",
      "execution_count": null,
      "metadata": {
        "colab": {
          "base_uri": "https://localhost:8080/",
          "height": 455
        },
        "id": "RRjl5SxDp1CO",
        "outputId": "03121eec-0c05-47c8-a8db-7779b40208e6"
      },
      "outputs": [
        {
          "output_type": "execute_result",
          "data": {
            "text/plain": [
              "                       dialogue_id  turn  \\\n",
              "eb+_emot                                   \n",
              "acknowledging 673360        651816     3   \n",
              "              2014246      7102357     1   \n",
              "              1185561      3133074     1   \n",
              "              835483       1423692     1   \n",
              "              1318267      3771816     1   \n",
              "...                            ...   ...   \n",
              "wishing       1992942      6997608     1   \n",
              "              1844234      6267532     4   \n",
              "              1071615      2580328     2   \n",
              "              1720674      5681741     2   \n",
              "              2054328      7298493     2   \n",
              "\n",
              "                                                                    uttr  \\\n",
              "eb+_emot                                                                   \n",
              "acknowledging 673360                             Bravo ! You nailed it !   \n",
              "              2014246                                            Danny .   \n",
              "              1185561                     Jim ... put out that lantern .   \n",
              "              835483                    That 's his middle name , atut .   \n",
              "              1318267  Okay , Goldilocks Well , that was fun Yeah Sha...   \n",
              "...                                                                  ...   \n",
              "wishing       1992942  Oh , hello . Fancy seeing you in here . Hello ...   \n",
              "              1844234         I see . It looks good on you . Thank you .   \n",
              "              1071615                            I said , \" Good night !   \n",
              "              1720674              Hi , Molly . It 's nice to meet you .   \n",
              "              2054328                                          Respect !   \n",
              "\n",
              "                            eb+_emot  label_confidence  \n",
              "eb+_emot                                                \n",
              "acknowledging 673360   acknowledging          0.465149  \n",
              "              2014246  acknowledging          0.558941  \n",
              "              1185561  acknowledging          0.460270  \n",
              "              835483   acknowledging          0.742046  \n",
              "              1318267  acknowledging          0.524833  \n",
              "...                              ...               ...  \n",
              "wishing       1992942        wishing          0.945237  \n",
              "              1844234        wishing          0.853609  \n",
              "              1071615        wishing          0.999153  \n",
              "              1720674        wishing          0.966649  \n",
              "              2054328        wishing          0.813046  \n",
              "\n",
              "[107889 rows x 5 columns]"
            ],
            "text/html": [
              "\n",
              "  <div id=\"df-56143cc3-7a73-4437-82ab-862f063af130\">\n",
              "    <div class=\"colab-df-container\">\n",
              "      <div>\n",
              "<style scoped>\n",
              "    .dataframe tbody tr th:only-of-type {\n",
              "        vertical-align: middle;\n",
              "    }\n",
              "\n",
              "    .dataframe tbody tr th {\n",
              "        vertical-align: top;\n",
              "    }\n",
              "\n",
              "    .dataframe thead th {\n",
              "        text-align: right;\n",
              "    }\n",
              "</style>\n",
              "<table border=\"1\" class=\"dataframe\">\n",
              "  <thead>\n",
              "    <tr style=\"text-align: right;\">\n",
              "      <th></th>\n",
              "      <th></th>\n",
              "      <th>dialogue_id</th>\n",
              "      <th>turn</th>\n",
              "      <th>uttr</th>\n",
              "      <th>eb+_emot</th>\n",
              "      <th>label_confidence</th>\n",
              "    </tr>\n",
              "    <tr>\n",
              "      <th>eb+_emot</th>\n",
              "      <th></th>\n",
              "      <th></th>\n",
              "      <th></th>\n",
              "      <th></th>\n",
              "      <th></th>\n",
              "      <th></th>\n",
              "    </tr>\n",
              "  </thead>\n",
              "  <tbody>\n",
              "    <tr>\n",
              "      <th rowspan=\"5\" valign=\"top\">acknowledging</th>\n",
              "      <th>673360</th>\n",
              "      <td>651816</td>\n",
              "      <td>3</td>\n",
              "      <td>Bravo ! You nailed it !</td>\n",
              "      <td>acknowledging</td>\n",
              "      <td>0.465149</td>\n",
              "    </tr>\n",
              "    <tr>\n",
              "      <th>2014246</th>\n",
              "      <td>7102357</td>\n",
              "      <td>1</td>\n",
              "      <td>Danny .</td>\n",
              "      <td>acknowledging</td>\n",
              "      <td>0.558941</td>\n",
              "    </tr>\n",
              "    <tr>\n",
              "      <th>1185561</th>\n",
              "      <td>3133074</td>\n",
              "      <td>1</td>\n",
              "      <td>Jim ... put out that lantern .</td>\n",
              "      <td>acknowledging</td>\n",
              "      <td>0.460270</td>\n",
              "    </tr>\n",
              "    <tr>\n",
              "      <th>835483</th>\n",
              "      <td>1423692</td>\n",
              "      <td>1</td>\n",
              "      <td>That 's his middle name , atut .</td>\n",
              "      <td>acknowledging</td>\n",
              "      <td>0.742046</td>\n",
              "    </tr>\n",
              "    <tr>\n",
              "      <th>1318267</th>\n",
              "      <td>3771816</td>\n",
              "      <td>1</td>\n",
              "      <td>Okay , Goldilocks Well , that was fun Yeah Sha...</td>\n",
              "      <td>acknowledging</td>\n",
              "      <td>0.524833</td>\n",
              "    </tr>\n",
              "    <tr>\n",
              "      <th>...</th>\n",
              "      <th>...</th>\n",
              "      <td>...</td>\n",
              "      <td>...</td>\n",
              "      <td>...</td>\n",
              "      <td>...</td>\n",
              "      <td>...</td>\n",
              "    </tr>\n",
              "    <tr>\n",
              "      <th rowspan=\"5\" valign=\"top\">wishing</th>\n",
              "      <th>1992942</th>\n",
              "      <td>6997608</td>\n",
              "      <td>1</td>\n",
              "      <td>Oh , hello . Fancy seeing you in here . Hello ...</td>\n",
              "      <td>wishing</td>\n",
              "      <td>0.945237</td>\n",
              "    </tr>\n",
              "    <tr>\n",
              "      <th>1844234</th>\n",
              "      <td>6267532</td>\n",
              "      <td>4</td>\n",
              "      <td>I see . It looks good on you . Thank you .</td>\n",
              "      <td>wishing</td>\n",
              "      <td>0.853609</td>\n",
              "    </tr>\n",
              "    <tr>\n",
              "      <th>1071615</th>\n",
              "      <td>2580328</td>\n",
              "      <td>2</td>\n",
              "      <td>I said , \" Good night !</td>\n",
              "      <td>wishing</td>\n",
              "      <td>0.999153</td>\n",
              "    </tr>\n",
              "    <tr>\n",
              "      <th>1720674</th>\n",
              "      <td>5681741</td>\n",
              "      <td>2</td>\n",
              "      <td>Hi , Molly . It 's nice to meet you .</td>\n",
              "      <td>wishing</td>\n",
              "      <td>0.966649</td>\n",
              "    </tr>\n",
              "    <tr>\n",
              "      <th>2054328</th>\n",
              "      <td>7298493</td>\n",
              "      <td>2</td>\n",
              "      <td>Respect !</td>\n",
              "      <td>wishing</td>\n",
              "      <td>0.813046</td>\n",
              "    </tr>\n",
              "  </tbody>\n",
              "</table>\n",
              "<p>107889 rows × 5 columns</p>\n",
              "</div>\n",
              "      <button class=\"colab-df-convert\" onclick=\"convertToInteractive('df-56143cc3-7a73-4437-82ab-862f063af130')\"\n",
              "              title=\"Convert this dataframe to an interactive table.\"\n",
              "              style=\"display:none;\">\n",
              "        \n",
              "  <svg xmlns=\"http://www.w3.org/2000/svg\" height=\"24px\"viewBox=\"0 0 24 24\"\n",
              "       width=\"24px\">\n",
              "    <path d=\"M0 0h24v24H0V0z\" fill=\"none\"/>\n",
              "    <path d=\"M18.56 5.44l.94 2.06.94-2.06 2.06-.94-2.06-.94-.94-2.06-.94 2.06-2.06.94zm-11 1L8.5 8.5l.94-2.06 2.06-.94-2.06-.94L8.5 2.5l-.94 2.06-2.06.94zm10 10l.94 2.06.94-2.06 2.06-.94-2.06-.94-.94-2.06-.94 2.06-2.06.94z\"/><path d=\"M17.41 7.96l-1.37-1.37c-.4-.4-.92-.59-1.43-.59-.52 0-1.04.2-1.43.59L10.3 9.45l-7.72 7.72c-.78.78-.78 2.05 0 2.83L4 21.41c.39.39.9.59 1.41.59.51 0 1.02-.2 1.41-.59l7.78-7.78 2.81-2.81c.8-.78.8-2.07 0-2.86zM5.41 20L4 18.59l7.72-7.72 1.47 1.35L5.41 20z\"/>\n",
              "  </svg>\n",
              "      </button>\n",
              "      \n",
              "  <style>\n",
              "    .colab-df-container {\n",
              "      display:flex;\n",
              "      flex-wrap:wrap;\n",
              "      gap: 12px;\n",
              "    }\n",
              "\n",
              "    .colab-df-convert {\n",
              "      background-color: #E8F0FE;\n",
              "      border: none;\n",
              "      border-radius: 50%;\n",
              "      cursor: pointer;\n",
              "      display: none;\n",
              "      fill: #1967D2;\n",
              "      height: 32px;\n",
              "      padding: 0 0 0 0;\n",
              "      width: 32px;\n",
              "    }\n",
              "\n",
              "    .colab-df-convert:hover {\n",
              "      background-color: #E2EBFA;\n",
              "      box-shadow: 0px 1px 2px rgba(60, 64, 67, 0.3), 0px 1px 3px 1px rgba(60, 64, 67, 0.15);\n",
              "      fill: #174EA6;\n",
              "    }\n",
              "\n",
              "    [theme=dark] .colab-df-convert {\n",
              "      background-color: #3B4455;\n",
              "      fill: #D2E3FC;\n",
              "    }\n",
              "\n",
              "    [theme=dark] .colab-df-convert:hover {\n",
              "      background-color: #434B5C;\n",
              "      box-shadow: 0px 1px 3px 1px rgba(0, 0, 0, 0.15);\n",
              "      filter: drop-shadow(0px 1px 2px rgba(0, 0, 0, 0.3));\n",
              "      fill: #FFFFFF;\n",
              "    }\n",
              "  </style>\n",
              "\n",
              "      <script>\n",
              "        const buttonEl =\n",
              "          document.querySelector('#df-56143cc3-7a73-4437-82ab-862f063af130 button.colab-df-convert');\n",
              "        buttonEl.style.display =\n",
              "          google.colab.kernel.accessAllowed ? 'block' : 'none';\n",
              "\n",
              "        async function convertToInteractive(key) {\n",
              "          const element = document.querySelector('#df-56143cc3-7a73-4437-82ab-862f063af130');\n",
              "          const dataTable =\n",
              "            await google.colab.kernel.invokeFunction('convertToInteractive',\n",
              "                                                     [key], {});\n",
              "          if (!dataTable) return;\n",
              "\n",
              "          const docLinkHtml = 'Like what you see? Visit the ' +\n",
              "            '<a target=\"_blank\" href=https://colab.research.google.com/notebooks/data_table.ipynb>data table notebook</a>'\n",
              "            + ' to learn more about interactive tables.';\n",
              "          element.innerHTML = '';\n",
              "          dataTable['output_type'] = 'display_data';\n",
              "          await google.colab.output.renderOutput(dataTable, element);\n",
              "          const docLink = document.createElement('div');\n",
              "          docLink.innerHTML = docLinkHtml;\n",
              "          element.appendChild(docLink);\n",
              "        }\n",
              "      </script>\n",
              "    </div>\n",
              "  </div>\n",
              "  "
            ]
          },
          "metadata": {},
          "execution_count": 11
        }
      ],
      "source": [
        "sample_df = df_downsampled.groupby('eb+_emot').apply(lambda x: x.sample(frac=0.05))\n",
        "sample_df"
      ],
      "id": "RRjl5SxDp1CO"
    },
    {
      "cell_type": "code",
      "execution_count": null,
      "metadata": {
        "colab": {
          "base_uri": "https://localhost:8080/",
          "height": 447
        },
        "id": "wNi6IDo6u7YO",
        "outputId": "f5838d75-9109-4d88-e5a4-52523641b48f"
      },
      "outputs": [
        {
          "output_type": "execute_result",
          "data": {
            "text/plain": [
              "<Axes: >"
            ]
          },
          "metadata": {},
          "execution_count": 12
        },
        {
          "output_type": "display_data",
          "data": {
            "text/plain": [
              "<Figure size 640x480 with 1 Axes>"
            ],
            "image/png": "[encoded data removed]"
          },
          "metadata": {}
        }
      ],
      "source": [
        "sample_df['eb+_emot'].value_counts()[:20].plot(kind='barh')"
      ],
      "id": "wNi6IDo6u7YO"
    },
    {
      "cell_type": "code",
      "execution_count": null,
      "metadata": {
        "colab": {
          "base_uri": "https://localhost:8080/",
          "height": 447
        },
        "id": "Op6DoJAdvF1G",
        "outputId": "07497af5-39ce-4835-da7a-6ac723dba668"
      },
      "outputs": [
        {
          "output_type": "execute_result",
          "data": {
            "text/plain": [
              "<Axes: >"
            ]
          },
          "metadata": {},
          "execution_count": 13
        },
        {
          "output_type": "display_data",
          "data": {
            "text/plain": [
              "<Figure size 640x480 with 1 Axes>"
            ],
            "image/png": "[encoded data removed]"
          },
          "metadata": {}
        }
      ],
      "source": [
        "df_downsampled['eb+_emot'].value_counts()[21:].plot(kind='barh')"
      ],
      "id": "Op6DoJAdvF1G"
    },
    {
      "cell_type": "markdown",
      "source": [
        "-----------------------------------------------------------------------------------------------"
      ],
      "metadata": {
        "id": "lcIgqZD_IMvt"
      },
      "id": "lcIgqZD_IMvt"
    },
    {
      "cell_type": "code",
      "source": [
        "#if we train the logistic regression with the sampled datset as BERT"
      ],
      "metadata": {
        "id": "zHTPmREw9tBr"
      },
      "id": "zHTPmREw9tBr",
      "execution_count": null,
      "outputs": []
    },
    {
      "cell_type": "code",
      "source": [
        "import pandas as pd"
      ],
      "metadata": {
        "id": "WwoWzV0cMkYv"
      },
      "id": "WwoWzV0cMkYv",
      "execution_count": null,
      "outputs": []
    },
    {
      "cell_type": "code",
      "source": [
        "sample_df.to_csv(\"downsample.csv\")"
      ],
      "metadata": {
        "id": "daBBTanMMwvI"
      },
      "id": "daBBTanMMwvI",
      "execution_count": null,
      "outputs": []
    },
    {
      "cell_type": "code",
      "source": [
        "data_x = sample_df[\"uttr\"].tolist()"
      ],
      "metadata": {
        "id": "cjHST5xG81HG"
      },
      "id": "cjHST5xG81HG",
      "execution_count": null,
      "outputs": []
    },
    {
      "cell_type": "code",
      "source": [
        "data_y = sample_df[\"eb+_emot\"].tolist()"
      ],
      "metadata": {
        "id": "vyBLS3_JEMya"
      },
      "id": "vyBLS3_JEMya",
      "execution_count": null,
      "outputs": []
    },
    {
      "cell_type": "code",
      "source": [
        "from sklearn.model_selection import train_test_split\n",
        "train_x, test_x, train_y, test_y = train_test_split(data_x, data_y, test_size=0.2, random_state=2307)"
      ],
      "metadata": {
        "id": "EYY3gE_N81Oo"
      },
      "id": "EYY3gE_N81Oo",
      "execution_count": null,
      "outputs": []
    },
    {
      "cell_type": "code",
      "source": [
        "#una volta splittati 1 due datset in train and test, dobbiamo trasformare le diverse parole in vettori per poter essere capiti dal modello\n",
        "#Nel caso riportato sotto siamo andati a formare il vettore contanto le frequenze delle diverse parole\n",
        "#un'altra soluzione è quella di usare gli embedding per rappresentare le singole parole \n",
        "#o ancora passare direttamente tutta la frase inserita in un embedding (come ultimo laboratorio)\n",
        "\n",
        "#la tranformazione in vettori la facciamo solamente per il train e non peril test (giusto??????)"
      ],
      "metadata": {
        "id": "bGcbeE56Ei5N"
      },
      "id": "bGcbeE56Ei5N",
      "execution_count": null,
      "outputs": []
    },
    {
      "cell_type": "code",
      "source": [
        "from sklearn.feature_extraction.text import CountVectorizer \n",
        "vectorizer = CountVectorizer()\n",
        "vectorizer.fit(train_x)"
      ],
      "metadata": {
        "colab": {
          "base_uri": "https://localhost:8080/",
          "height": 75
        },
        "id": "zbD3PLLX81U5",
        "outputId": "406894fb-2e4d-4123-e10b-22a941adac8c"
      },
      "id": "zbD3PLLX81U5",
      "execution_count": null,
      "outputs": [
        {
          "output_type": "execute_result",
          "data": {
            "text/plain": [
              "CountVectorizer()"
            ],
            "text/html": [
              "<style>#sk-container-id-2 {color: black;background-color: white;}#sk-container-id-2 pre{padding: 0;}#sk-container-id-2 div.sk-toggleable {background-color: white;}#sk-container-id-2 label.sk-toggleable__label {cursor: pointer;display: block;width: 100%;margin-bottom: 0;padding: 0.3em;box-sizing: border-box;text-align: center;}#sk-container-id-2 label.sk-toggleable__label-arrow:before {content: \"▸\";float: left;margin-right: 0.25em;color: #696969;}#sk-container-id-2 label.sk-toggleable__label-arrow:hover:before {color: black;}#sk-container-id-2 div.sk-estimator:hover label.sk-toggleable__label-arrow:before {color: black;}#sk-container-id-2 div.sk-toggleable__content {max-height: 0;max-width: 0;overflow: hidden;text-align: left;background-color: #f0f8ff;}#sk-container-id-2 div.sk-toggleable__content pre {margin: 0.2em;color: black;border-radius: 0.25em;background-color: #f0f8ff;}#sk-container-id-2 input.sk-toggleable__control:checked~div.sk-toggleable__content {max-height: 200px;max-width: 100%;overflow: auto;}#sk-container-id-2 input.sk-toggleable__control:checked~label.sk-toggleable__label-arrow:before {content: \"▾\";}#sk-container-id-2 div.sk-estimator input.sk-toggleable__control:checked~label.sk-toggleable__label {background-color: #d4ebff;}#sk-container-id-2 div.sk-label input.sk-toggleable__control:checked~label.sk-toggleable__label {background-color: #d4ebff;}#sk-container-id-2 input.sk-hidden--visually {border: 0;clip: rect(1px 1px 1px 1px);clip: rect(1px, 1px, 1px, 1px);height: 1px;margin: -1px;overflow: hidden;padding: 0;position: absolute;width: 1px;}#sk-container-id-2 div.sk-estimator {font-family: monospace;background-color: #f0f8ff;border: 1px dotted black;border-radius: 0.25em;box-sizing: border-box;margin-bottom: 0.5em;}#sk-container-id-2 div.sk-estimator:hover {background-color: #d4ebff;}#sk-container-id-2 div.sk-parallel-item::after {content: \"\";width: 100%;border-bottom: 1px solid gray;flex-grow: 1;}#sk-container-id-2 div.sk-label:hover label.sk-toggleable__label {background-color: #d4ebff;}#sk-container-id-2 div.sk-serial::before {content: \"\";position: absolute;border-left: 1px solid gray;box-sizing: border-box;top: 0;bottom: 0;left: 50%;z-index: 0;}#sk-container-id-2 div.sk-serial {display: flex;flex-direction: column;align-items: center;background-color: white;padding-right: 0.2em;padding-left: 0.2em;position: relative;}#sk-container-id-2 div.sk-item {position: relative;z-index: 1;}#sk-container-id-2 div.sk-parallel {display: flex;align-items: stretch;justify-content: center;background-color: white;position: relative;}#sk-container-id-2 div.sk-item::before, #sk-container-id-2 div.sk-parallel-item::before {content: \"\";position: absolute;border-left: 1px solid gray;box-sizing: border-box;top: 0;bottom: 0;left: 50%;z-index: -1;}#sk-container-id-2 div.sk-parallel-item {display: flex;flex-direction: column;z-index: 1;position: relative;background-color: white;}#sk-container-id-2 div.sk-parallel-item:first-child::after {align-self: flex-end;width: 50%;}#sk-container-id-2 div.sk-parallel-item:last-child::after {align-self: flex-start;width: 50%;}#sk-container-id-2 div.sk-parallel-item:only-child::after {width: 0;}#sk-container-id-2 div.sk-dashed-wrapped {border: 1px dashed gray;margin: 0 0.4em 0.5em 0.4em;box-sizing: border-box;padding-bottom: 0.4em;background-color: white;}#sk-container-id-2 div.sk-label label {font-family: monospace;font-weight: bold;display: inline-block;line-height: 1.2em;}#sk-container-id-2 div.sk-label-container {text-align: center;}#sk-container-id-2 div.sk-container {/* jupyter's `normalize.less` sets `[hidden] { display: none; }` but bootstrap.min.css set `[hidden] { display: none !important; }` so we also need the `!important` here to be able to override the default hidden behavior on the sphinx rendered scikit-learn.org. See: https://github.com/scikit-learn/scikit-learn/issues/21755 */display: inline-block !important;position: relative;}#sk-container-id-2 div.sk-text-repr-fallback {display: none;}</style><div id=\"sk-container-id-2\" class=\"sk-top-container\"><div class=\"sk-text-repr-fallback\"><pre>CountVectorizer()</pre><b>In a Jupyter environment, please rerun this cell to show the HTML representation or trust the notebook. <br />On GitHub, the HTML representation is unable to render, please try loading this page with nbviewer.org.</b></div><div class=\"sk-container\" hidden><div class=\"sk-item\"><div class=\"sk-estimator sk-toggleable\"><input class=\"sk-toggleable__control sk-hidden--visually\" id=\"sk-estimator-id-2\" type=\"checkbox\" checked><label for=\"sk-estimator-id-2\" class=\"sk-toggleable__label sk-toggleable__label-arrow\">CountVectorizer</label><div class=\"sk-toggleable__content\"><pre>CountVectorizer()</pre></div></div></div></div></div>"
            ]
          },
          "metadata": {},
          "execution_count": 36
        }
      ]
    },
    {
      "cell_type": "code",
      "source": [
        "vectorizer = CountVectorizer(min_df=5, stop_words='english')\n",
        "vectorizer.fit(train_x)\n",
        "print(f\"vocabulary size: {len(vectorizer.get_feature_names_out())}\")\n",
        "#we reduce  the vocabulary only 1341; we lose 16k words"
      ],
      "metadata": {
        "colab": {
          "base_uri": "https://localhost:8080/"
        },
        "id": "CKDd1Poi81ap",
        "outputId": "b4e061b3-0685-4303-c9a0-70a72c922234"
      },
      "id": "CKDd1Poi81ap",
      "execution_count": null,
      "outputs": [
        {
          "output_type": "stream",
          "name": "stdout",
          "text": [
            "vocabulary size: 8115\n"
          ]
        }
      ]
    },
    {
      "cell_type": "code",
      "source": [
        "train_x_vector = vectorizer.transform(train_x) #i can map the wors into vectors in order to train our classifier\n",
        "train_x_vector"
      ],
      "metadata": {
        "colab": {
          "base_uri": "https://localhost:8080/"
        },
        "id": "dxJ07gYs81fF",
        "outputId": "62bb2d95-8411-448c-895a-14c8488a4140"
      },
      "id": "dxJ07gYs81fF",
      "execution_count": null,
      "outputs": [
        {
          "output_type": "execute_result",
          "data": {
            "text/plain": [
              "<86311x8115 sparse matrix of type '<class 'numpy.int64'>'\n",
              "\twith 383142 stored elements in Compressed Sparse Row format>"
            ]
          },
          "metadata": {},
          "execution_count": 24
        }
      ]
    },
    {
      "cell_type": "code",
      "source": [
        "from sklearn.linear_model import LogisticRegression #we use logistic regression in order to build our model\n",
        "model = LogisticRegression().fit(train_x_vector, train_y) \n",
        "print(model)"
      ],
      "metadata": {
        "colab": {
          "base_uri": "https://localhost:8080/"
        },
        "id": "mPHj9qRK81iG",
        "outputId": "25449016-c835-48f8-9794-e6b13af9f4ae"
      },
      "id": "mPHj9qRK81iG",
      "execution_count": null,
      "outputs": [
        {
          "output_type": "stream",
          "name": "stdout",
          "text": [
            "LogisticRegression()\n"
          ]
        },
        {
          "output_type": "stream",
          "name": "stderr",
          "text": [
            "/usr/local/lib/python3.10/dist-packages/sklearn/linear_model/_logistic.py:458: ConvergenceWarning: lbfgs failed to converge (status=1):\n",
            "STOP: TOTAL NO. of ITERATIONS REACHED LIMIT.\n",
            "\n",
            "Increase the number of iterations (max_iter) or scale the data as shown in:\n",
            "    https://scikit-learn.org/stable/modules/preprocessing.html\n",
            "Please also refer to the documentation for alternative solver options:\n",
            "    https://scikit-learn.org/stable/modules/linear_model.html#logistic-regression\n",
            "  n_iter_i = _check_optimize_result(\n"
          ]
        }
      ]
    },
    {
      "cell_type": "code",
      "source": [
        "train_y"
      ],
      "metadata": {
        "colab": {
          "base_uri": "https://localhost:8080/"
        },
        "id": "9Q5103VuDDD4",
        "outputId": "79ab6c27-d00b-4ffe-cfd4-4346ed2d83a4"
      },
      "id": "9Q5103VuDDD4",
      "execution_count": null,
      "outputs": [
        {
          "output_type": "execute_result",
          "data": {
            "text/plain": [
              "eb+_emot             \n",
              "questioning   784732      questioning\n",
              "              586516      questioning\n",
              "furious       334200          furious\n",
              "trusting      770935         trusting\n",
              "anticipating  759500     anticipating\n",
              "                             ...     \n",
              "trusting      1410543        trusting\n",
              "questioning   369980      questioning\n",
              "anticipating  1805714    anticipating\n",
              "annoyed       812146          annoyed\n",
              "lonely        1895172          lonely\n",
              "Name: eb+_emot, Length: 86311, dtype: object"
            ]
          },
          "metadata": {},
          "execution_count": 29
        }
      ]
    },
    {
      "cell_type": "code",
      "source": [
        "test_x_vector = vectorizer.transform(test_x)\n",
        "pred_y = model.predict(test_x_vector) #we learnd, and we use this model to predict the label of new data"
      ],
      "metadata": {
        "id": "9_aGlsb981k1"
      },
      "id": "9_aGlsb981k1",
      "execution_count": null,
      "outputs": []
    },
    {
      "cell_type": "code",
      "source": [
        "from sklearn.metrics import accuracy_score\n",
        "print(f'accuracy: {accuracy_score(pred_y, test_y):.4f}')\n",
        "#it's a linear model, so this accuracy is pretty decent\n",
        "#if we use more complex model, we achive higher accuracy\n",
        "\n",
        "#in order to achive higer accuracy can related to the pre-processing (in some case we have very noised daa so we have \n",
        "# to preprocess the data manually)"
      ],
      "metadata": {
        "colab": {
          "base_uri": "https://localhost:8080/"
        },
        "id": "tnEzxDip81m9",
        "outputId": "e4c7c9a4-60b8-48f8-9332-79231397a469"
      },
      "id": "tnEzxDip81m9",
      "execution_count": null,
      "outputs": [
        {
          "output_type": "stream",
          "name": "stdout",
          "text": [
            "accuracy: 0.4256\n"
          ]
        }
      ]
    },
    {
      "cell_type": "markdown",
      "source": [
        "-----------------------------------------------------------------------"
      ],
      "metadata": {
        "id": "4hb6RK1B8yY1"
      },
      "id": "4hb6RK1B8yY1"
    },
    {
      "cell_type": "code",
      "execution_count": null,
      "metadata": {
        "id": "f01801bb",
        "colab": {
          "base_uri": "https://localhost:8080/"
        },
        "outputId": "7aceb5ed-a1ee-4a17-9b03-7e97d53871e7"
      },
      "outputs": [
        {
          "output_type": "stream",
          "name": "stdout",
          "text": [
            "\u001b[2K     \u001b[90m━━━━━━━━━━━━━━━━━━━━━━━━━━━━━━━━━━━━━━━━\u001b[0m \u001b[32m7.1/7.1 MB\u001b[0m \u001b[31m69.8 MB/s\u001b[0m eta \u001b[36m0:00:00\u001b[0m\n",
            "\u001b[2K     \u001b[90m━━━━━━━━━━━━━━━━━━━━━━━━━━━━━━━━━━━━━━\u001b[0m \u001b[32m474.6/474.6 kB\u001b[0m \u001b[31m44.4 MB/s\u001b[0m eta \u001b[36m0:00:00\u001b[0m\n",
            "\u001b[2K     \u001b[90m━━━━━━━━━━━━━━━━━━━━━━━━━━━━━━━━━━━━━━\u001b[0m \u001b[32m224.5/224.5 kB\u001b[0m \u001b[31m22.8 MB/s\u001b[0m eta \u001b[36m0:00:00\u001b[0m\n",
            "\u001b[2K     \u001b[90m━━━━━━━━━━━━━━━━━━━━━━━━━━━━━━━━━━━━━━━━\u001b[0m \u001b[32m7.8/7.8 MB\u001b[0m \u001b[31m123.7 MB/s\u001b[0m eta \u001b[36m0:00:00\u001b[0m\n",
            "\u001b[2K     \u001b[90m━━━━━━━━━━━━━━━━━━━━━━━━━━━━━━━━━━━━━━\u001b[0m \u001b[32m110.5/110.5 kB\u001b[0m \u001b[31m15.3 MB/s\u001b[0m eta \u001b[36m0:00:00\u001b[0m\n",
            "\u001b[2K     \u001b[90m━━━━━━━━━━━━━━━━━━━━━━━━━━━━━━━━━━━━━━\u001b[0m \u001b[32m212.5/212.5 kB\u001b[0m \u001b[31m27.2 MB/s\u001b[0m eta \u001b[36m0:00:00\u001b[0m\n",
            "\u001b[2K     \u001b[90m━━━━━━━━━━━━━━━━━━━━━━━━━━━━━━━━━━━━━━\u001b[0m \u001b[32m134.3/134.3 kB\u001b[0m \u001b[31m18.2 MB/s\u001b[0m eta \u001b[36m0:00:00\u001b[0m\n",
            "\u001b[?25h\u001b[31mERROR: Operation cancelled by user\u001b[0m\u001b[31m\n",
            "\u001b[0m"
          ]
        }
      ],
      "source": [
        "!pip3 install -q transformers datasets"
      ],
      "id": "f01801bb"
    },
    {
      "cell_type": "code",
      "execution_count": null,
      "metadata": {
        "colab": {
          "base_uri": "https://localhost:8080/"
        },
        "id": "2b5410c4",
        "outputId": "d7433087-89f1-4853-9c7b-1d41ffcab870"
      },
      "outputs": [
        {
          "output_type": "stream",
          "name": "stdout",
          "text": [
            "Looking in indexes: https://pypi.org/simple, https://us-python.pkg.dev/colab-wheels/public/simple/\n",
            "Collecting ktrain\n",
            "  Downloading ktrain-0.37.0.tar.gz (25.3 MB)\n",
            "\u001b[2K     \u001b[90m━━━━━━━━━━━━━━━━━━━━━━━━━━━━━━━━━━━━━━━━\u001b[0m \u001b[32m25.3/25.3 MB\u001b[0m \u001b[31m49.3 MB/s\u001b[0m eta \u001b[36m0:00:00\u001b[0m\n",
            "\u001b[?25h  Preparing metadata (setup.py) ... \u001b[?25l\u001b[?25hdone\n",
            "Requirement already satisfied: scikit-learn in /usr/local/lib/python3.10/dist-packages (from ktrain) (1.2.2)\n",
            "Requirement already satisfied: matplotlib>=3.0.0 in /usr/local/lib/python3.10/dist-packages (from ktrain) (3.7.1)\n",
            "Requirement already satisfied: pandas>=1.0.1 in /usr/local/lib/python3.10/dist-packages (from ktrain) (1.5.3)\n",
            "Requirement already satisfied: fastprogress>=0.1.21 in /usr/local/lib/python3.10/dist-packages (from ktrain) (1.0.3)\n",
            "Requirement already satisfied: requests in /usr/local/lib/python3.10/dist-packages (from ktrain) (2.27.1)\n",
            "Requirement already satisfied: joblib in /usr/local/lib/python3.10/dist-packages (from ktrain) (1.2.0)\n",
            "Requirement already satisfied: packaging in /usr/local/lib/python3.10/dist-packages (from ktrain) (23.1)\n",
            "Collecting langdetect (from ktrain)\n",
            "  Downloading langdetect-1.0.9.tar.gz (981 kB)\n",
            "\u001b[2K     \u001b[90m━━━━━━━━━━━━━━━━━━━━━━━━━━━━━━━━━━━━━━\u001b[0m \u001b[32m981.5/981.5 kB\u001b[0m \u001b[31m52.8 MB/s\u001b[0m eta \u001b[36m0:00:00\u001b[0m\n",
            "\u001b[?25h  Preparing metadata (setup.py) ... \u001b[?25l\u001b[?25hdone\n",
            "Requirement already satisfied: jieba in /usr/local/lib/python3.10/dist-packages (from ktrain) (0.42.1)\n",
            "Collecting cchardet (from ktrain)\n",
            "  Downloading cchardet-2.1.7.tar.gz (653 kB)\n",
            "\u001b[2K     \u001b[90m━━━━━━━━━━━━━━━━━━━━━━━━━━━━━━━━━━━━━━\u001b[0m \u001b[32m653.6/653.6 kB\u001b[0m \u001b[31m59.8 MB/s\u001b[0m eta \u001b[36m0:00:00\u001b[0m\n",
            "\u001b[?25h  Preparing metadata (setup.py) ... \u001b[?25l\u001b[?25hdone\n",
            "Requirement already satisfied: chardet in /usr/local/lib/python3.10/dist-packages (from ktrain) (4.0.0)\n",
            "Collecting syntok>1.3.3 (from ktrain)\n",
            "  Downloading syntok-1.4.4-py3-none-any.whl (24 kB)\n",
            "Collecting tika (from ktrain)\n",
            "  Downloading tika-2.6.0.tar.gz (27 kB)\n",
            "  Preparing metadata (setup.py) ... \u001b[?25l\u001b[?25hdone\n",
            "\u001b[31mERROR: Operation cancelled by user\u001b[0m\u001b[31m\n",
            "\u001b[0m"
          ]
        }
      ],
      "source": [
        "!pip install ktrain"
      ],
      "id": "2b5410c4"
    },
    {
      "cell_type": "code",
      "execution_count": null,
      "metadata": {
        "colab": {
          "base_uri": "https://localhost:8080/"
        },
        "id": "d438c233",
        "outputId": "cfcd076d-8e25-40bf-fafa-7cba4a456600"
      },
      "outputs": [
        {
          "output_type": "stream",
          "name": "stdout",
          "text": [
            "Found existing installation: Flask 2.2.4\n",
            "Uninstalling Flask-2.2.4:\n",
            "  Would remove:\n",
            "    /usr/local/bin/flask\n",
            "    /usr/local/lib/python3.10/dist-packages/Flask-2.2.4.dist-info/*\n",
            "    /usr/local/lib/python3.10/dist-packages/flask/*\n",
            "Proceed (Y/n)? y\n",
            "  Successfully uninstalled Flask-2.2.4\n",
            "\u001b[2K     \u001b[90m━━━━━━━━━━━━━━━━━━━━━━━━━━━━━━━━━━━━━━━\u001b[0m \u001b[32m216.2/216.2 kB\u001b[0m \u001b[31m4.2 MB/s\u001b[0m eta \u001b[36m0:00:00\u001b[0m\n",
            "\u001b[?25h  Preparing metadata (setup.py) ... \u001b[?25l\u001b[?25hdone\n",
            "  Building wheel for eli5 (setup.py) ... \u001b[?25l\u001b[?25hdone\n"
          ]
        }
      ],
      "source": [
        "!pip3 uninstall flask\n",
        "!pip3 install -q eli5"
      ],
      "id": "d438c233"
    },
    {
      "cell_type": "code",
      "execution_count": null,
      "metadata": {
        "id": "611c81fb"
      },
      "outputs": [],
      "source": [
        "import torch\n",
        "import numpy as np"
      ],
      "id": "611c81fb"
    },
    {
      "cell_type": "code",
      "execution_count": null,
      "metadata": {
        "id": "b9ef5999",
        "colab": {
          "base_uri": "https://localhost:8080/",
          "height": 351
        },
        "outputId": "75f57ac7-70c5-462d-f291-4e21c1610bb6"
      },
      "outputs": [
        {
          "output_type": "error",
          "ename": "ModuleNotFoundError",
          "evalue": "ignored",
          "traceback": [
            "\u001b[0;31m---------------------------------------------------------------------------\u001b[0m",
            "\u001b[0;31mModuleNotFoundError\u001b[0m                       Traceback (most recent call last)",
            "\u001b[0;32m<ipython-input-5-bc29b01bd73a>\u001b[0m in \u001b[0;36m<cell line: 1>\u001b[0;34m()\u001b[0m\n\u001b[0;32m----> 1\u001b[0;31m \u001b[0;32mfrom\u001b[0m \u001b[0mtransformers\u001b[0m \u001b[0;32mimport\u001b[0m \u001b[0mAutoTokenizer\u001b[0m\u001b[0;34m,\u001b[0m \u001b[0mAutoModelForSequenceClassification\u001b[0m\u001b[0;34m\u001b[0m\u001b[0;34m\u001b[0m\u001b[0m\n\u001b[0m\u001b[1;32m      2\u001b[0m \u001b[0;32mfrom\u001b[0m \u001b[0mtransformers\u001b[0m \u001b[0;32mimport\u001b[0m \u001b[0mTrainingArguments\u001b[0m\u001b[0;34m,\u001b[0m \u001b[0mTrainer\u001b[0m\u001b[0;34m\u001b[0m\u001b[0;34m\u001b[0m\u001b[0m\n\u001b[1;32m      3\u001b[0m \u001b[0;32mfrom\u001b[0m \u001b[0mdatasets\u001b[0m \u001b[0;32mimport\u001b[0m \u001b[0mDataset\u001b[0m\u001b[0;34m,\u001b[0m \u001b[0mDatasetDict\u001b[0m\u001b[0;34m\u001b[0m\u001b[0;34m\u001b[0m\u001b[0m\n",
            "\u001b[0;31mModuleNotFoundError\u001b[0m: No module named 'transformers'",
            "",
            "\u001b[0;31m---------------------------------------------------------------------------\u001b[0;32m\nNOTE: If your import is failing due to a missing package, you can\nmanually install dependencies using either !pip or !apt.\n\nTo view examples of installing some common dependencies, click the\n\"Open Examples\" button below.\n\u001b[0;31m---------------------------------------------------------------------------\u001b[0m\n"
          ],
          "errorDetails": {
            "actions": [
              {
                "action": "open_url",
                "actionText": "Open Examples",
                "url": "/notebooks/snippets/importing_libraries.ipynb"
              }
            ]
          }
        }
      ],
      "source": [
        "from transformers import AutoTokenizer, AutoModelForSequenceClassification\n",
        "from transformers import TrainingArguments, Trainer\n",
        "from datasets import Dataset, DatasetDict"
      ],
      "id": "b9ef5999"
    },
    {
      "cell_type": "code",
      "execution_count": null,
      "metadata": {
        "id": "7cd87897"
      },
      "outputs": [],
      "source": [
        "from sklearn.metrics import classification_report, confusion_matrix"
      ],
      "id": "7cd87897"
    },
    {
      "cell_type": "code",
      "execution_count": null,
      "metadata": {
        "id": "2322ddf4"
      },
      "outputs": [],
      "source": [
        "device = torch.device('cuda' if torch.cuda.is_available() else 'cpu')\n",
        "if device.type != 'cuda':\n",
        "    raise SystemError('GPU device not found')"
      ],
      "id": "2322ddf4"
    },
    {
      "cell_type": "code",
      "execution_count": null,
      "metadata": {
        "id": "ff4ad585",
        "colab": {
          "base_uri": "https://localhost:8080/",
          "height": 243
        },
        "outputId": "3a3b34e1-951f-4bef-d1a7-bb09b6a5b8d3"
      },
      "outputs": [
        {
          "output_type": "error",
          "ename": "NameError",
          "evalue": "ignored",
          "traceback": [
            "\u001b[0;31m---------------------------------------------------------------------------\u001b[0m",
            "\u001b[0;31mNameError\u001b[0m                                 Traceback (most recent call last)",
            "\u001b[0;32m<ipython-input-7-b335d4fbedc8>\u001b[0m in \u001b[0;36m<cell line: 3>\u001b[0;34m()\u001b[0m\n\u001b[1;32m      1\u001b[0m \u001b[0;32mfrom\u001b[0m \u001b[0msklearn\u001b[0m\u001b[0;34m.\u001b[0m\u001b[0mmodel_selection\u001b[0m \u001b[0;32mimport\u001b[0m \u001b[0mtrain_test_split\u001b[0m\u001b[0;34m\u001b[0m\u001b[0;34m\u001b[0m\u001b[0m\n\u001b[1;32m      2\u001b[0m \u001b[0;32mimport\u001b[0m \u001b[0mnumpy\u001b[0m\u001b[0;34m\u001b[0m\u001b[0;34m\u001b[0m\u001b[0m\n\u001b[0;32m----> 3\u001b[0;31m \u001b[0mtemp_x\u001b[0m\u001b[0;34m,\u001b[0m \u001b[0mtest_x\u001b[0m\u001b[0;34m,\u001b[0m \u001b[0mtemp_y\u001b[0m\u001b[0;34m,\u001b[0m \u001b[0mtest_y\u001b[0m \u001b[0;34m=\u001b[0m \u001b[0mtrain_test_split\u001b[0m\u001b[0;34m(\u001b[0m\u001b[0mnumpy\u001b[0m\u001b[0;34m.\u001b[0m\u001b[0marray\u001b[0m\u001b[0;34m(\u001b[0m\u001b[0msample_df\u001b[0m\u001b[0;34m[\u001b[0m\u001b[0;34m'uttr'\u001b[0m\u001b[0;34m]\u001b[0m\u001b[0;34m)\u001b[0m\u001b[0;34m,\u001b[0m \u001b[0mnumpy\u001b[0m\u001b[0;34m.\u001b[0m\u001b[0marray\u001b[0m\u001b[0;34m(\u001b[0m\u001b[0msample_df\u001b[0m\u001b[0;34m[\u001b[0m\u001b[0;34m'eb+_emot'\u001b[0m\u001b[0;34m]\u001b[0m\u001b[0;34m)\u001b[0m\u001b[0;34m,\u001b[0m \u001b[0mtest_size\u001b[0m\u001b[0;34m=\u001b[0m\u001b[0;36m0.2\u001b[0m\u001b[0;34m)\u001b[0m\u001b[0;34m\u001b[0m\u001b[0;34m\u001b[0m\u001b[0m\n\u001b[0m\u001b[1;32m      4\u001b[0m \u001b[0mtrain_x\u001b[0m\u001b[0;34m,\u001b[0m \u001b[0mvalid_x\u001b[0m\u001b[0;34m,\u001b[0m \u001b[0mtrain_y\u001b[0m\u001b[0;34m,\u001b[0m \u001b[0mvalid_y\u001b[0m \u001b[0;34m=\u001b[0m \u001b[0mtrain_test_split\u001b[0m\u001b[0;34m(\u001b[0m\u001b[0mtemp_x\u001b[0m\u001b[0;34m,\u001b[0m \u001b[0mtemp_y\u001b[0m\u001b[0;34m,\u001b[0m \u001b[0mtest_size\u001b[0m\u001b[0;34m=\u001b[0m\u001b[0;36m0.2\u001b[0m\u001b[0;34m)\u001b[0m\u001b[0;34m\u001b[0m\u001b[0;34m\u001b[0m\u001b[0m\n\u001b[1;32m      5\u001b[0m \u001b[0mlen\u001b[0m\u001b[0;34m(\u001b[0m\u001b[0mtrain_x\u001b[0m\u001b[0;34m)\u001b[0m\u001b[0;34m\u001b[0m\u001b[0;34m\u001b[0m\u001b[0m\n",
            "\u001b[0;31mNameError\u001b[0m: name 'sample_df' is not defined"
          ]
        }
      ],
      "source": [
        "from sklearn.model_selection import train_test_split\n",
        "import numpy\n",
        "temp_x, test_x, temp_y, test_y = train_test_split(numpy.array(sample_df['uttr']), numpy.array(sample_df['eb+_emot']), test_size=0.2)\n",
        "train_x, valid_x, train_y, valid_y = train_test_split(temp_x, temp_y, test_size=0.2)\n",
        "len(train_x)"
      ],
      "id": "ff4ad585"
    },
    {
      "cell_type": "code",
      "execution_count": null,
      "metadata": {
        "id": "1Su_lndT20oP"
      },
      "outputs": [],
      "source": [],
      "id": "1Su_lndT20oP"
    },
    {
      "cell_type": "code",
      "execution_count": null,
      "metadata": {
        "id": "0d6bc209",
        "colab": {
          "base_uri": "https://localhost:8080/",
          "height": 333
        },
        "outputId": "819995be-fbb5-4f3c-96fe-da0a8eb729ba"
      },
      "outputs": [
        {
          "output_type": "error",
          "ename": "ModuleNotFoundError",
          "evalue": "ignored",
          "traceback": [
            "\u001b[0;31m---------------------------------------------------------------------------\u001b[0m",
            "\u001b[0;31mModuleNotFoundError\u001b[0m                       Traceback (most recent call last)",
            "\u001b[0;32m<ipython-input-8-d851226d5f91>\u001b[0m in \u001b[0;36m<cell line: 1>\u001b[0;34m()\u001b[0m\n\u001b[0;32m----> 1\u001b[0;31m \u001b[0;32mimport\u001b[0m \u001b[0mktrain\u001b[0m\u001b[0;34m\u001b[0m\u001b[0;34m\u001b[0m\u001b[0m\n\u001b[0m\u001b[1;32m      2\u001b[0m \u001b[0;32mfrom\u001b[0m \u001b[0mktrain\u001b[0m \u001b[0;32mimport\u001b[0m \u001b[0mtext\u001b[0m\u001b[0;34m\u001b[0m\u001b[0;34m\u001b[0m\u001b[0m\n",
            "\u001b[0;31mModuleNotFoundError\u001b[0m: No module named 'ktrain'",
            "",
            "\u001b[0;31m---------------------------------------------------------------------------\u001b[0;32m\nNOTE: If your import is failing due to a missing package, you can\nmanually install dependencies using either !pip or !apt.\n\nTo view examples of installing some common dependencies, click the\n\"Open Examples\" button below.\n\u001b[0;31m---------------------------------------------------------------------------\u001b[0m\n"
          ],
          "errorDetails": {
            "actions": [
              {
                "action": "open_url",
                "actionText": "Open Examples",
                "url": "/notebooks/snippets/importing_libraries.ipynb"
              }
            ]
          }
        }
      ],
      "source": [
        "\n",
        "import ktrain\n",
        "from ktrain import text"
      ],
      "id": "0d6bc209"
    },
    {
      "cell_type": "code",
      "execution_count": null,
      "metadata": {
        "colab": {
          "base_uri": "https://localhost:8080/",
          "height": 116,
          "referenced_widgets": [
            "a3f06167c075494e9e1ff6bcaeb56145",
            "7c104468ee61422ea0bc8c6a47e05ec7",
            "37bad4fa39914922a1b5fc204d029b23",
            "84a88b2f81af4604877d4afeea459d31",
            "692962615cd44ba3b833f48257f0c1fd",
            "3842dba4158449138113b3dc72684f94",
            "26c453dbac7f4d51baa938fa2f231d08",
            "d2a70dcf444842fab0de2890b9261cd2",
            "9d40fe059b7d415d87561f090794538e",
            "cd4866246c334ab3890d58e7cd3f1cd5",
            "49a59d416bcf48e6bfae1a14092b8a9e",
            "15754358b17c4d93bf7087e2b7942663",
            "32ea9809c163482097d24970f09ff8ae",
            "1a57bc6c0d68443f969a1b4f32bfb810",
            "cdfa7a1699a3430ea8ddc09aeeaabf41",
            "66fef3db491643fb8ab46565a6d1b4b2",
            "20696f0cb088484182e56e7d59c2f61f",
            "ce106c43cb854559a60ba43760b716a8",
            "d9f87b2b547643768f0b6e8725c4dd97",
            "eb5025ef11f64eb0b1c230c888a0ab44",
            "bb4f7fa1ec5244ba91e269baff284268",
            "184ad7bbe98242809d778cabaf5a8bf7"
          ]
        },
        "id": "cd0cdf78",
        "outputId": "577b9472-72bc-421e-bc63-a2770d823b1d"
      },
      "outputs": [
        {
          "output_type": "stream",
          "name": "stderr",
          "text": [
            "/usr/local/lib/python3.10/dist-packages/ktrain/text/preprocessor.py:382: UserWarning: The class_names argument is replacing the classes argument. Please update your code.\n",
            "  warnings.warn(\n"
          ]
        },
        {
          "output_type": "display_data",
          "data": {
            "text/plain": [
              "Downloading (…)lve/main/config.json:   0%|          | 0.00/483 [00:00<?, ?B/s]"
            ],
            "application/vnd.jupyter.widget-view+json": {
              "version_major": 2,
              "version_minor": 0,
              "model_id": "a3f06167c075494e9e1ff6bcaeb56145"
            }
          },
          "metadata": {}
        },
        {
          "output_type": "display_data",
          "data": {
            "text/plain": [
              "Downloading tf_model.h5:   0%|          | 0.00/363M [00:00<?, ?B/s]"
            ],
            "application/vnd.jupyter.widget-view+json": {
              "version_major": 2,
              "version_minor": 0,
              "model_id": "15754358b17c4d93bf7087e2b7942663"
            }
          },
          "metadata": {}
        }
      ],
      "source": [
        "\n",
        "MODEL_NAME = 'distilbert-base-uncased' #we use this type of bert model (use a model that mimic a bigger one) quickly but less accurate\n",
        "transformer = text.Transformer(MODEL_NAME, maxlen=500, classes=['angry', 'furious', 'prepared', 'acknowledging', 'trusting', 'confident', 'hopeful', 'caring', 'sentimental', 'anticipating', 'wishing', 'surprised', 'ashamed', 'questioning', 'sad', 'nostalgic', 'devastated', 'terrified', 'embarrassed', 'lonely', 'encouraging', 'suggesting', 'content', 'afraid', 'impressed', 'agreeing', 'apprehensive', 'proud', 'annoyed', 'anxious', 'grateful', 'excited', 'neutral', 'faithful', 'guilty', 'consoling', 'disgusted', 'disappointed', 'jealous', 'joyful', 'sympathizing'])"
      ],
      "id": "cd0cdf78"
    },
    {
      "cell_type": "code",
      "execution_count": null,
      "metadata": {
        "id": "d387d4cb",
        "colab": {
          "base_uri": "https://localhost:8080/",
          "height": 189
        },
        "outputId": "0aaf12b4-b7fa-4ad6-9c2a-97f1f4092d2e"
      },
      "outputs": [
        {
          "output_type": "error",
          "ename": "NameError",
          "evalue": "ignored",
          "traceback": [
            "\u001b[0;31m---------------------------------------------------------------------------\u001b[0m",
            "\u001b[0;31mNameError\u001b[0m                                 Traceback (most recent call last)",
            "\u001b[0;32m<ipython-input-9-9de186bd0b60>\u001b[0m in \u001b[0;36m<cell line: 1>\u001b[0;34m()\u001b[0m\n\u001b[0;32m----> 1\u001b[0;31m \u001b[0mprocessed_train\u001b[0m \u001b[0;34m=\u001b[0m \u001b[0mtransformer\u001b[0m\u001b[0;34m.\u001b[0m\u001b[0mpreprocess_train\u001b[0m\u001b[0;34m(\u001b[0m\u001b[0mtrain_x\u001b[0m\u001b[0;34m,\u001b[0m \u001b[0mtrain_y\u001b[0m\u001b[0;34m)\u001b[0m\u001b[0;34m\u001b[0m\u001b[0;34m\u001b[0m\u001b[0m\n\u001b[0m\u001b[1;32m      2\u001b[0m \u001b[0mprocessed_test\u001b[0m \u001b[0;34m=\u001b[0m \u001b[0mtransformer\u001b[0m\u001b[0;34m.\u001b[0m\u001b[0mpreprocess_test\u001b[0m\u001b[0;34m(\u001b[0m\u001b[0mvalid_x\u001b[0m\u001b[0;34m,\u001b[0m \u001b[0mvalid_y\u001b[0m\u001b[0;34m)\u001b[0m\u001b[0;34m\u001b[0m\u001b[0;34m\u001b[0m\u001b[0m\n",
            "\u001b[0;31mNameError\u001b[0m: name 'transformer' is not defined"
          ]
        }
      ],
      "source": [
        "processed_train = transformer.preprocess_train(train_x, train_y)\n",
        "processed_test = transformer.preprocess_test(valid_x, valid_y)"
      ],
      "id": "d387d4cb"
    },
    {
      "cell_type": "code",
      "execution_count": null,
      "metadata": {
        "id": "ca3336e4"
      },
      "outputs": [],
      "source": [
        "model = transformer.get_classifier()\n",
        "learner = ktrain.get_learner(model, train_data=processed_train, val_data=processed_test, batch_size=6) #the performance are too low"
      ],
      "id": "ca3336e4"
    },
    {
      "cell_type": "code",
      "execution_count": null,
      "metadata": {
        "id": "1477b1b4",
        "colab": {
          "base_uri": "https://localhost:8080/",
          "height": 171
        },
        "outputId": "9fbad103-23d5-4afb-fc0c-b1ca466bc5f9"
      },
      "outputs": [
        {
          "output_type": "error",
          "ename": "NameError",
          "evalue": "ignored",
          "traceback": [
            "\u001b[0;31m---------------------------------------------------------------------------\u001b[0m",
            "\u001b[0;31mNameError\u001b[0m                                 Traceback (most recent call last)",
            "\u001b[0;32m<ipython-input-10-9217b271b9d0>\u001b[0m in \u001b[0;36m<cell line: 1>\u001b[0;34m()\u001b[0m\n\u001b[0;32m----> 1\u001b[0;31m \u001b[0mlearner\u001b[0m\u001b[0;34m.\u001b[0m\u001b[0mfit_onecycle\u001b[0m\u001b[0;34m(\u001b[0m\u001b[0;36m5e-5\u001b[0m\u001b[0;34m,\u001b[0m \u001b[0;36m1\u001b[0m\u001b[0;34m)\u001b[0m\u001b[0;34m\u001b[0m\u001b[0;34m\u001b[0m\u001b[0m\n\u001b[0m",
            "\u001b[0;31mNameError\u001b[0m: name 'learner' is not defined"
          ]
        }
      ],
      "source": [
        "learner.fit_onecycle(5e-5, 1)"
      ],
      "id": "1477b1b4"
    },
    {
      "cell_type": "code",
      "execution_count": null,
      "metadata": {
        "id": "01b0d3dc",
        "colab": {
          "base_uri": "https://localhost:8080/"
        },
        "outputId": "ec2cf6b0-25e3-4382-fbd5-54e531e11fa7"
      },
      "outputs": [
        {
          "output_type": "stream",
          "name": "stdout",
          "text": [
            "540/540 [==============================] - 63s 113ms/step\n",
            "               precision    recall  f1-score   support\n",
            "\n",
            "acknowledging       0.71      0.71      0.71      1138\n",
            "       afraid       0.72      0.71      0.72       415\n",
            "     agreeing       0.71      0.71      0.71       793\n",
            "        angry       0.62      0.52      0.56       266\n",
            "      annoyed       0.47      0.50      0.48       244\n",
            " anticipating       0.69      0.74      0.71       789\n",
            "      anxious       0.80      0.50      0.62        74\n",
            " apprehensive       0.67      0.62      0.65       365\n",
            "      ashamed       0.56      0.32      0.40       107\n",
            "       caring       0.61      0.60      0.60       326\n",
            "    confident       0.68      0.64      0.66       747\n",
            "    consoling       0.68      0.51      0.58       134\n",
            "      content       0.73      0.74      0.74       534\n",
            "   devastated       0.60      0.29      0.39       142\n",
            " disappointed       0.64      0.46      0.53       151\n",
            "    disgusted       0.66      0.59      0.62       121\n",
            "  embarrassed       0.68      0.63      0.65       264\n",
            "  encouraging       0.61      0.40      0.49        84\n",
            "      excited       0.66      0.64      0.65       449\n",
            "     faithful       0.65      0.58      0.61       180\n",
            "      furious       0.78      0.83      0.81      1351\n",
            "     grateful       0.78      0.78      0.78       328\n",
            "       guilty       0.63      0.65      0.64       231\n",
            "      hopeful       0.62      0.65      0.64       423\n",
            "    impressed       0.52      0.48      0.50       180\n",
            "      jealous       0.54      0.52      0.53       180\n",
            "       joyful       0.66      0.64      0.65       185\n",
            "       lonely       0.71      0.73      0.72       130\n",
            "      neutral       0.68      0.71      0.69       450\n",
            "    nostalgic       0.51      0.65      0.57       141\n",
            "     prepared       0.65      0.70      0.68       362\n",
            "        proud       0.65      0.56      0.60       273\n",
            "  questioning       0.83      0.85      0.84      1327\n",
            "          sad       0.68      0.68      0.68       546\n",
            "  sentimental       0.57      0.43      0.49       172\n",
            "   suggesting       0.69      0.77      0.73       820\n",
            "    surprised       0.64      0.66      0.65       355\n",
            " sympathizing       0.75      0.88      0.81       285\n",
            "    terrified       0.65      0.61      0.63       233\n",
            "     trusting       0.72      0.73      0.73      1095\n",
            "      wishing       0.80      0.88      0.84       873\n",
            "\n",
            "     accuracy                           0.70     17263\n",
            "    macro avg       0.66      0.63      0.64     17263\n",
            " weighted avg       0.70      0.70      0.70     17263\n",
            "\n"
          ]
        },
        {
          "output_type": "execute_result",
          "data": {
            "text/plain": [
              "array([[806,   1,  85, ...,   5,   5,  26],\n",
              "       [  0, 294,   0, ...,  11,  22,   0],\n",
              "       [ 57,   0, 562, ...,   2,  10,   5],\n",
              "       ...,\n",
              "       [  6,  29,   1, ..., 143,   0,   0],\n",
              "       [  2,  19,  11, ...,   2, 804,   9],\n",
              "       [ 28,   0,   0, ...,   0,   1, 769]])"
            ]
          },
          "metadata": {},
          "execution_count": 30
        }
      ],
      "source": [
        "learner.validate(class_names=transformer.get_classes())"
      ],
      "id": "01b0d3dc"
    },
    {
      "cell_type": "code",
      "execution_count": null,
      "metadata": {
        "id": "ad1bb00e",
        "colab": {
          "base_uri": "https://localhost:8080/"
        },
        "outputId": "8b44a55a-f8c8-440d-b77b-82be0729c2ab"
      },
      "outputs": [
        {
          "output_type": "stream",
          "name": "stdout",
          "text": [
            "Model: \"tf_distil_bert_for_sequence_classification_1\"\n",
            "_________________________________________________________________\n",
            " Layer (type)                Output Shape              Param #   \n",
            "=================================================================\n",
            " distilbert (TFDistilBertMai  multiple                 66362880  \n",
            " nLayer)                                                         \n",
            "                                                                 \n",
            " pre_classifier (Dense)      multiple                  590592    \n",
            "                                                                 \n",
            " classifier (Dense)          multiple                  31529     \n",
            "                                                                 \n",
            " dropout_39 (Dropout)        multiple                  0         \n",
            "                                                                 \n",
            "=================================================================\n",
            "Total params: 66,985,001\n",
            "Trainable params: 66,985,001\n",
            "Non-trainable params: 0\n",
            "_________________________________________________________________\n",
            "None\n"
          ]
        }
      ],
      "source": [
        "print(model.summary())"
      ],
      "id": "ad1bb00e"
    },
    {
      "cell_type": "code",
      "source": [
        "#------------------------------------------------------------------------------------------"
      ],
      "metadata": {
        "id": "oo-Np8WGEabs"
      },
      "id": "oo-Np8WGEabs",
      "execution_count": null,
      "outputs": []
    },
    {
      "cell_type": "code",
      "source": [
        "# PROVARE A USARE LE FRASI VICINE PER ANDARE A PREDIRE FRASE CENTRALE"
      ],
      "metadata": {
        "id": "Tchbu9gSwLrS"
      },
      "id": "Tchbu9gSwLrS",
      "execution_count": null,
      "outputs": []
    },
    {
      "cell_type": "code",
      "source": [
        "\n"
      ],
      "metadata": {
        "id": "v5qXeaqVwLzC"
      },
      "id": "v5qXeaqVwLzC",
      "execution_count": null,
      "outputs": []
    },
    {
      "cell_type": "code",
      "source": [],
      "metadata": {
        "id": "eBU8oHO3wL3q"
      },
      "id": "eBU8oHO3wL3q",
      "execution_count": null,
      "outputs": []
    },
    {
      "cell_type": "code",
      "source": [],
      "metadata": {
        "id": "zwjinYTjwL6z"
      },
      "id": "zwjinYTjwL6z",
      "execution_count": null,
      "outputs": []
    }
  ],
  "metadata": {
    "accelerator": "GPU",
    "colab": {
      "provenance": [],
      "include_colab_link": true
    },
    "gpuClass": "standard",
    "kernelspec": {
      "display_name": "Python 3 (ipykernel)",
      "language": "python",
      "name": "python3"
    },
    "language_info": {
      "codemirror_mode": {
        "name": "ipython",
        "version": 3
      },
      "file_extension": ".py",
      "mimetype": "text/x-python",
      "name": "python",
      "nbconvert_exporter": "python",
      "pygments_lexer": "ipython3",
      "version": "3.9.12"
    },
    "widgets": {
      "application/vnd.jupyter.widget-state+json": {
        "a3f06167c075494e9e1ff6bcaeb56145": {
          "model_module": "@jupyter-widgets/controls",
          "model_name": "HBoxModel",
          "model_module_version": "1.5.0",
          "state": {
            "_dom_classes": [],
            "_model_module": "@jupyter-widgets/controls",
            "_model_module_version": "1.5.0",
            "_model_name": "HBoxModel",
            "_view_count": null,
            "_view_module": "@jupyter-widgets/controls",
            "_view_module_version": "1.5.0",
            "_view_name": "HBoxView",
            "box_style": "",
            "children": [
              "IPY_MODEL_7c104468ee61422ea0bc8c6a47e05ec7",
              "IPY_MODEL_37bad4fa39914922a1b5fc204d029b23",
              "IPY_MODEL_84a88b2f81af4604877d4afeea459d31"
            ],
            "layout": "IPY_MODEL_692962615cd44ba3b833f48257f0c1fd"
          }
        },
        "7c104468ee61422ea0bc8c6a47e05ec7": {
          "model_module": "@jupyter-widgets/controls",
          "model_name": "HTMLModel",
          "model_module_version": "1.5.0",
          "state": {
            "_dom_classes": [],
            "_model_module": "@jupyter-widgets/controls",
            "_model_module_version": "1.5.0",
            "_model_name": "HTMLModel",
            "_view_count": null,
            "_view_module": "@jupyter-widgets/controls",
            "_view_module_version": "1.5.0",
            "_view_name": "HTMLView",
            "description": "",
            "description_tooltip": null,
            "layout": "IPY_MODEL_3842dba4158449138113b3dc72684f94",
            "placeholder": "​",
            "style": "IPY_MODEL_26c453dbac7f4d51baa938fa2f231d08",
            "value": "Downloading (…)lve/main/config.json: 100%"
          }
        },
        "37bad4fa39914922a1b5fc204d029b23": {
          "model_module": "@jupyter-widgets/controls",
          "model_name": "FloatProgressModel",
          "model_module_version": "1.5.0",
          "state": {
            "_dom_classes": [],
            "_model_module": "@jupyter-widgets/controls",
            "_model_module_version": "1.5.0",
            "_model_name": "FloatProgressModel",
            "_view_count": null,
            "_view_module": "@jupyter-widgets/controls",
            "_view_module_version": "1.5.0",
            "_view_name": "ProgressView",
            "bar_style": "success",
            "description": "",
            "description_tooltip": null,
            "layout": "IPY_MODEL_d2a70dcf444842fab0de2890b9261cd2",
            "max": 483,
            "min": 0,
            "orientation": "horizontal",
            "style": "IPY_MODEL_9d40fe059b7d415d87561f090794538e",
            "value": 483
          }
        },
        "84a88b2f81af4604877d4afeea459d31": {
          "model_module": "@jupyter-widgets/controls",
          "model_name": "HTMLModel",
          "model_module_version": "1.5.0",
          "state": {
            "_dom_classes": [],
            "_model_module": "@jupyter-widgets/controls",
            "_model_module_version": "1.5.0",
            "_model_name": "HTMLModel",
            "_view_count": null,
            "_view_module": "@jupyter-widgets/controls",
            "_view_module_version": "1.5.0",
            "_view_name": "HTMLView",
            "description": "",
            "description_tooltip": null,
            "layout": "IPY_MODEL_cd4866246c334ab3890d58e7cd3f1cd5",
            "placeholder": "​",
            "style": "IPY_MODEL_49a59d416bcf48e6bfae1a14092b8a9e",
            "value": " 483/483 [00:00&lt;00:00, 13.4kB/s]"
          }
        },
        "692962615cd44ba3b833f48257f0c1fd": {
          "model_module": "@jupyter-widgets/base",
          "model_name": "LayoutModel",
          "model_module_version": "1.2.0",
          "state": {
            "_model_module": "@jupyter-widgets/base",
            "_model_module_version": "1.2.0",
            "_model_name": "LayoutModel",
            "_view_count": null,
            "_view_module": "@jupyter-widgets/base",
            "_view_module_version": "1.2.0",
            "_view_name": "LayoutView",
            "align_content": null,
            "align_items": null,
            "align_self": null,
            "border": null,
            "bottom": null,
            "display": null,
            "flex": null,
            "flex_flow": null,
            "grid_area": null,
            "grid_auto_columns": null,
            "grid_auto_flow": null,
            "grid_auto_rows": null,
            "grid_column": null,
            "grid_gap": null,
            "grid_row": null,
            "grid_template_areas": null,
            "grid_template_columns": null,
            "grid_template_rows": null,
            "height": null,
            "justify_content": null,
            "justify_items": null,
            "left": null,
            "margin": null,
            "max_height": null,
            "max_width": null,
            "min_height": null,
            "min_width": null,
            "object_fit": null,
            "object_position": null,
            "order": null,
            "overflow": null,
            "overflow_x": null,
            "overflow_y": null,
            "padding": null,
            "right": null,
            "top": null,
            "visibility": null,
            "width": null
          }
        },
        "3842dba4158449138113b3dc72684f94": {
          "model_module": "@jupyter-widgets/base",
          "model_name": "LayoutModel",
          "model_module_version": "1.2.0",
          "state": {
            "_model_module": "@jupyter-widgets/base",
            "_model_module_version": "1.2.0",
            "_model_name": "LayoutModel",
            "_view_count": null,
            "_view_module": "@jupyter-widgets/base",
            "_view_module_version": "1.2.0",
            "_view_name": "LayoutView",
            "align_content": null,
            "align_items": null,
            "align_self": null,
            "border": null,
            "bottom": null,
            "display": null,
            "flex": null,
            "flex_flow": null,
            "grid_area": null,
            "grid_auto_columns": null,
            "grid_auto_flow": null,
            "grid_auto_rows": null,
            "grid_column": null,
            "grid_gap": null,
            "grid_row": null,
            "grid_template_areas": null,
            "grid_template_columns": null,
            "grid_template_rows": null,
            "height": null,
            "justify_content": null,
            "justify_items": null,
            "left": null,
            "margin": null,
            "max_height": null,
            "max_width": null,
            "min_height": null,
            "min_width": null,
            "object_fit": null,
            "object_position": null,
            "order": null,
            "overflow": null,
            "overflow_x": null,
            "overflow_y": null,
            "padding": null,
            "right": null,
            "top": null,
            "visibility": null,
            "width": null
          }
        },
        "26c453dbac7f4d51baa938fa2f231d08": {
          "model_module": "@jupyter-widgets/controls",
          "model_name": "DescriptionStyleModel",
          "model_module_version": "1.5.0",
          "state": {
            "_model_module": "@jupyter-widgets/controls",
            "_model_module_version": "1.5.0",
            "_model_name": "DescriptionStyleModel",
            "_view_count": null,
            "_view_module": "@jupyter-widgets/base",
            "_view_module_version": "1.2.0",
            "_view_name": "StyleView",
            "description_width": ""
          }
        },
        "d2a70dcf444842fab0de2890b9261cd2": {
          "model_module": "@jupyter-widgets/base",
          "model_name": "LayoutModel",
          "model_module_version": "1.2.0",
          "state": {
            "_model_module": "@jupyter-widgets/base",
            "_model_module_version": "1.2.0",
            "_model_name": "LayoutModel",
            "_view_count": null,
            "_view_module": "@jupyter-widgets/base",
            "_view_module_version": "1.2.0",
            "_view_name": "LayoutView",
            "align_content": null,
            "align_items": null,
            "align_self": null,
            "border": null,
            "bottom": null,
            "display": null,
            "flex": null,
            "flex_flow": null,
            "grid_area": null,
            "grid_auto_columns": null,
            "grid_auto_flow": null,
            "grid_auto_rows": null,
            "grid_column": null,
            "grid_gap": null,
            "grid_row": null,
            "grid_template_areas": null,
            "grid_template_columns": null,
            "grid_template_rows": null,
            "height": null,
            "justify_content": null,
            "justify_items": null,
            "left": null,
            "margin": null,
            "max_height": null,
            "max_width": null,
            "min_height": null,
            "min_width": null,
            "object_fit": null,
            "object_position": null,
            "order": null,
            "overflow": null,
            "overflow_x": null,
            "overflow_y": null,
            "padding": null,
            "right": null,
            "top": null,
            "visibility": null,
            "width": null
          }
        },
        "9d40fe059b7d415d87561f090794538e": {
          "model_module": "@jupyter-widgets/controls",
          "model_name": "ProgressStyleModel",
          "model_module_version": "1.5.0",
          "state": {
            "_model_module": "@jupyter-widgets/controls",
            "_model_module_version": "1.5.0",
            "_model_name": "ProgressStyleModel",
            "_view_count": null,
            "_view_module": "@jupyter-widgets/base",
            "_view_module_version": "1.2.0",
            "_view_name": "StyleView",
            "bar_color": null,
            "description_width": ""
          }
        },
        "cd4866246c334ab3890d58e7cd3f1cd5": {
          "model_module": "@jupyter-widgets/base",
          "model_name": "LayoutModel",
          "model_module_version": "1.2.0",
          "state": {
            "_model_module": "@jupyter-widgets/base",
            "_model_module_version": "1.2.0",
            "_model_name": "LayoutModel",
            "_view_count": null,
            "_view_module": "@jupyter-widgets/base",
            "_view_module_version": "1.2.0",
            "_view_name": "LayoutView",
            "align_content": null,
            "align_items": null,
            "align_self": null,
            "border": null,
            "bottom": null,
            "display": null,
            "flex": null,
            "flex_flow": null,
            "grid_area": null,
            "grid_auto_columns": null,
            "grid_auto_flow": null,
            "grid_auto_rows": null,
            "grid_column": null,
            "grid_gap": null,
            "grid_row": null,
            "grid_template_areas": null,
            "grid_template_columns": null,
            "grid_template_rows": null,
            "height": null,
            "justify_content": null,
            "justify_items": null,
            "left": null,
            "margin": null,
            "max_height": null,
            "max_width": null,
            "min_height": null,
            "min_width": null,
            "object_fit": null,
            "object_position": null,
            "order": null,
            "overflow": null,
            "overflow_x": null,
            "overflow_y": null,
            "padding": null,
            "right": null,
            "top": null,
            "visibility": null,
            "width": null
          }
        },
        "49a59d416bcf48e6bfae1a14092b8a9e": {
          "model_module": "@jupyter-widgets/controls",
          "model_name": "DescriptionStyleModel",
          "model_module_version": "1.5.0",
          "state": {
            "_model_module": "@jupyter-widgets/controls",
            "_model_module_version": "1.5.0",
            "_model_name": "DescriptionStyleModel",
            "_view_count": null,
            "_view_module": "@jupyter-widgets/base",
            "_view_module_version": "1.2.0",
            "_view_name": "StyleView",
            "description_width": ""
          }
        },
        "15754358b17c4d93bf7087e2b7942663": {
          "model_module": "@jupyter-widgets/controls",
          "model_name": "HBoxModel",
          "model_module_version": "1.5.0",
          "state": {
            "_dom_classes": [],
            "_model_module": "@jupyter-widgets/controls",
            "_model_module_version": "1.5.0",
            "_model_name": "HBoxModel",
            "_view_count": null,
            "_view_module": "@jupyter-widgets/controls",
            "_view_module_version": "1.5.0",
            "_view_name": "HBoxView",
            "box_style": "",
            "children": [
              "IPY_MODEL_32ea9809c163482097d24970f09ff8ae",
              "IPY_MODEL_1a57bc6c0d68443f969a1b4f32bfb810",
              "IPY_MODEL_cdfa7a1699a3430ea8ddc09aeeaabf41"
            ],
            "layout": "IPY_MODEL_66fef3db491643fb8ab46565a6d1b4b2"
          }
        },
        "32ea9809c163482097d24970f09ff8ae": {
          "model_module": "@jupyter-widgets/controls",
          "model_name": "HTMLModel",
          "model_module_version": "1.5.0",
          "state": {
            "_dom_classes": [],
            "_model_module": "@jupyter-widgets/controls",
            "_model_module_version": "1.5.0",
            "_model_name": "HTMLModel",
            "_view_count": null,
            "_view_module": "@jupyter-widgets/controls",
            "_view_module_version": "1.5.0",
            "_view_name": "HTMLView",
            "description": "",
            "description_tooltip": null,
            "layout": "IPY_MODEL_20696f0cb088484182e56e7d59c2f61f",
            "placeholder": "​",
            "style": "IPY_MODEL_ce106c43cb854559a60ba43760b716a8",
            "value": "Downloading tf_model.h5: 100%"
          }
        },
        "1a57bc6c0d68443f969a1b4f32bfb810": {
          "model_module": "@jupyter-widgets/controls",
          "model_name": "FloatProgressModel",
          "model_module_version": "1.5.0",
          "state": {
            "_dom_classes": [],
            "_model_module": "@jupyter-widgets/controls",
            "_model_module_version": "1.5.0",
            "_model_name": "FloatProgressModel",
            "_view_count": null,
            "_view_module": "@jupyter-widgets/controls",
            "_view_module_version": "1.5.0",
            "_view_name": "ProgressView",
            "bar_style": "success",
            "description": "",
            "description_tooltip": null,
            "layout": "IPY_MODEL_d9f87b2b547643768f0b6e8725c4dd97",
            "max": 363423424,
            "min": 0,
            "orientation": "horizontal",
            "style": "IPY_MODEL_eb5025ef11f64eb0b1c230c888a0ab44",
            "value": 363423424
          }
        },
        "cdfa7a1699a3430ea8ddc09aeeaabf41": {
          "model_module": "@jupyter-widgets/controls",
          "model_name": "HTMLModel",
          "model_module_version": "1.5.0",
          "state": {
            "_dom_classes": [],
            "_model_module": "@jupyter-widgets/controls",
            "_model_module_version": "1.5.0",
            "_model_name": "HTMLModel",
            "_view_count": null,
            "_view_module": "@jupyter-widgets/controls",
            "_view_module_version": "1.5.0",
            "_view_name": "HTMLView",
            "description": "",
            "description_tooltip": null,
            "layout": "IPY_MODEL_bb4f7fa1ec5244ba91e269baff284268",
            "placeholder": "​",
            "style": "IPY_MODEL_184ad7bbe98242809d778cabaf5a8bf7",
            "value": " 363M/363M [00:03&lt;00:00, 120MB/s]"
          }
        },
        "66fef3db491643fb8ab46565a6d1b4b2": {
          "model_module": "@jupyter-widgets/base",
          "model_name": "LayoutModel",
          "model_module_version": "1.2.0",
          "state": {
            "_model_module": "@jupyter-widgets/base",
            "_model_module_version": "1.2.0",
            "_model_name": "LayoutModel",
            "_view_count": null,
            "_view_module": "@jupyter-widgets/base",
            "_view_module_version": "1.2.0",
            "_view_name": "LayoutView",
            "align_content": null,
            "align_items": null,
            "align_self": null,
            "border": null,
            "bottom": null,
            "display": null,
            "flex": null,
            "flex_flow": null,
            "grid_area": null,
            "grid_auto_columns": null,
            "grid_auto_flow": null,
            "grid_auto_rows": null,
            "grid_column": null,
            "grid_gap": null,
            "grid_row": null,
            "grid_template_areas": null,
            "grid_template_columns": null,
            "grid_template_rows": null,
            "height": null,
            "justify_content": null,
            "justify_items": null,
            "left": null,
            "margin": null,
            "max_height": null,
            "max_width": null,
            "min_height": null,
            "min_width": null,
            "object_fit": null,
            "object_position": null,
            "order": null,
            "overflow": null,
            "overflow_x": null,
            "overflow_y": null,
            "padding": null,
            "right": null,
            "top": null,
            "visibility": null,
            "width": null
          }
        },
        "20696f0cb088484182e56e7d59c2f61f": {
          "model_module": "@jupyter-widgets/base",
          "model_name": "LayoutModel",
          "model_module_version": "1.2.0",
          "state": {
            "_model_module": "@jupyter-widgets/base",
            "_model_module_version": "1.2.0",
            "_model_name": "LayoutModel",
            "_view_count": null,
            "_view_module": "@jupyter-widgets/base",
            "_view_module_version": "1.2.0",
            "_view_name": "LayoutView",
            "align_content": null,
            "align_items": null,
            "align_self": null,
            "border": null,
            "bottom": null,
            "display": null,
            "flex": null,
            "flex_flow": null,
            "grid_area": null,
            "grid_auto_columns": null,
            "grid_auto_flow": null,
            "grid_auto_rows": null,
            "grid_column": null,
            "grid_gap": null,
            "grid_row": null,
            "grid_template_areas": null,
            "grid_template_columns": null,
            "grid_template_rows": null,
            "height": null,
            "justify_content": null,
            "justify_items": null,
            "left": null,
            "margin": null,
            "max_height": null,
            "max_width": null,
            "min_height": null,
            "min_width": null,
            "object_fit": null,
            "object_position": null,
            "order": null,
            "overflow": null,
            "overflow_x": null,
            "overflow_y": null,
            "padding": null,
            "right": null,
            "top": null,
            "visibility": null,
            "width": null
          }
        },
        "ce106c43cb854559a60ba43760b716a8": {
          "model_module": "@jupyter-widgets/controls",
          "model_name": "DescriptionStyleModel",
          "model_module_version": "1.5.0",
          "state": {
            "_model_module": "@jupyter-widgets/controls",
            "_model_module_version": "1.5.0",
            "_model_name": "DescriptionStyleModel",
            "_view_count": null,
            "_view_module": "@jupyter-widgets/base",
            "_view_module_version": "1.2.0",
            "_view_name": "StyleView",
            "description_width": ""
          }
        },
        "d9f87b2b547643768f0b6e8725c4dd97": {
          "model_module": "@jupyter-widgets/base",
          "model_name": "LayoutModel",
          "model_module_version": "1.2.0",
          "state": {
            "_model_module": "@jupyter-widgets/base",
            "_model_module_version": "1.2.0",
            "_model_name": "LayoutModel",
            "_view_count": null,
            "_view_module": "@jupyter-widgets/base",
            "_view_module_version": "1.2.0",
            "_view_name": "LayoutView",
            "align_content": null,
            "align_items": null,
            "align_self": null,
            "border": null,
            "bottom": null,
            "display": null,
            "flex": null,
            "flex_flow": null,
            "grid_area": null,
            "grid_auto_columns": null,
            "grid_auto_flow": null,
            "grid_auto_rows": null,
            "grid_column": null,
            "grid_gap": null,
            "grid_row": null,
            "grid_template_areas": null,
            "grid_template_columns": null,
            "grid_template_rows": null,
            "height": null,
            "justify_content": null,
            "justify_items": null,
            "left": null,
            "margin": null,
            "max_height": null,
            "max_width": null,
            "min_height": null,
            "min_width": null,
            "object_fit": null,
            "object_position": null,
            "order": null,
            "overflow": null,
            "overflow_x": null,
            "overflow_y": null,
            "padding": null,
            "right": null,
            "top": null,
            "visibility": null,
            "width": null
          }
        },
        "eb5025ef11f64eb0b1c230c888a0ab44": {
          "model_module": "@jupyter-widgets/controls",
          "model_name": "ProgressStyleModel",
          "model_module_version": "1.5.0",
          "state": {
            "_model_module": "@jupyter-widgets/controls",
            "_model_module_version": "1.5.0",
            "_model_name": "ProgressStyleModel",
            "_view_count": null,
            "_view_module": "@jupyter-widgets/base",
            "_view_module_version": "1.2.0",
            "_view_name": "StyleView",
            "bar_color": null,
            "description_width": ""
          }
        },
        "bb4f7fa1ec5244ba91e269baff284268": {
          "model_module": "@jupyter-widgets/base",
          "model_name": "LayoutModel",
          "model_module_version": "1.2.0",
          "state": {
            "_model_module": "@jupyter-widgets/base",
            "_model_module_version": "1.2.0",
            "_model_name": "LayoutModel",
            "_view_count": null,
            "_view_module": "@jupyter-widgets/base",
            "_view_module_version": "1.2.0",
            "_view_name": "LayoutView",
            "align_content": null,
            "align_items": null,
            "align_self": null,
            "border": null,
            "bottom": null,
            "display": null,
            "flex": null,
            "flex_flow": null,
            "grid_area": null,
            "grid_auto_columns": null,
            "grid_auto_flow": null,
            "grid_auto_rows": null,
            "grid_column": null,
            "grid_gap": null,
            "grid_row": null,
            "grid_template_areas": null,
            "grid_template_columns": null,
            "grid_template_rows": null,
            "height": null,
            "justify_content": null,
            "justify_items": null,
            "left": null,
            "margin": null,
            "max_height": null,
            "max_width": null,
            "min_height": null,
            "min_width": null,
            "object_fit": null,
            "object_position": null,
            "order": null,
            "overflow": null,
            "overflow_x": null,
            "overflow_y": null,
            "padding": null,
            "right": null,
            "top": null,
            "visibility": null,
            "width": null
          }
        },
        "184ad7bbe98242809d778cabaf5a8bf7": {
          "model_module": "@jupyter-widgets/controls",
          "model_name": "DescriptionStyleModel",
          "model_module_version": "1.5.0",
          "state": {
            "_model_module": "@jupyter-widgets/controls",
            "_model_module_version": "1.5.0",
            "_model_name": "DescriptionStyleModel",
            "_view_count": null,
            "_view_module": "@jupyter-widgets/base",
            "_view_module_version": "1.2.0",
            "_view_name": "StyleView",
            "description_width": ""
          }
        }
      }
    }
  },
  "nbformat": 4,
  "nbformat_minor": 5
}